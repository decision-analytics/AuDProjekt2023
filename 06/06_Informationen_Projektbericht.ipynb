{
 "cells": [
  {
   "cell_type": "markdown",
   "metadata": {
    "slideshow": {
     "slide_type": "slide"
    }
   },
   "source": [
    "\n",
    "<img src=\"img/logo_wiwi.png\" width=\"25%\" align=\"left\">\n",
    "\n",
    "<img src=\"img/decision_analytics_logo.png\" width=\"17%\" align=\"right\">\n",
    "\n",
    "\n",
    "\n",
    "<br><br><br><br><br><br><br><br>\n",
    "\n",
    "\n",
    "\n",
    "# Algorithmen und Datenstrukturen(A+D)-Projekt \n",
    "\n",
    "**Sommersemester 2023**\n",
    "\n",
    "\n",
    "# 6. Informationen zum Projektbericht\n",
    "\n",
    "<br>\n",
    "\n",
    "<br>\n",
    "<br>\n",
    "\n",
    "**J-Prof. Dr. Michael Römer, Till Porrmann**\n",
    "\n",
    "Juniorprofessur für Decision Analytics  | Universität Bielefeld"
   ]
  },
  {
   "cell_type": "markdown",
   "metadata": {
    "slideshow": {
     "slide_type": "slide"
    }
   },
   "source": [
    "## Was machen wir heute?\n",
    "\n",
    "- Organisatorisches\n",
    "- Projektbericht:\n",
    "    - Formatierung\n",
    "    - Inhalte\n",
    "    - Aufbau\n",
    "- Raum für Fragen\n"
   ]
  },
  {
   "cell_type": "markdown",
   "metadata": {
    "slideshow": {
     "slide_type": "slide"
    }
   },
   "source": [
    "# Organisatorisches"
   ]
  },
  {
   "cell_type": "markdown",
   "metadata": {
    "slideshow": {
     "slide_type": "slide"
    }
   },
   "source": [
    "## Weitere Termine\n",
    "\n",
    "\n",
    "- **In 4 Wochen (03.07.23):** Abschlusspräsentationen\n",
    "- **In 3 Wochen (26.06.23):** Abgabe Projektberichte\n",
    "- (ggf nächste Woche: Präsenztermin mit weiteren Inhalten)"
   ]
  },
  {
   "cell_type": "markdown",
   "metadata": {
    "slideshow": {
     "slide_type": "slide"
    }
   },
   "source": [
    "## Prüfungsleistung\n",
    "\n",
    "\n",
    "\n",
    "\n",
    "Formale Prüfungsleistung ist der **Projektbericht**\n",
    "- wird von der Gruppe gemeinsam erstellt\n",
    "- als Anlage: kurze Beschreibung der Beiträge der einzelnen Teilnehmer*innen\n",
    "- Umfang: ca 20-30 Seiten pro Gruppe\n",
    "\n",
    "\n",
    "Wir behalten uns vor, Einzelgespräche mit Gruppenmitgliedern zu führen, wenn wir den Eindruck haben, dass eine eine Binnendifferenzierung in einer Gruppe angezeigt ist."
   ]
  },
  {
   "cell_type": "markdown",
   "metadata": {
    "slideshow": {
     "slide_type": "slide"
    }
   },
   "source": [
    "# Projektbericht"
   ]
  },
  {
   "cell_type": "markdown",
   "metadata": {
    "slideshow": {
     "slide_type": "slide"
    }
   },
   "source": [
    "## Projektbericht: Formatierung\n",
    "\n",
    "**Formatierung:**\n",
    "- Wir stellen im LernRaum Formatvorlagen in folgenden Formaten bereit:\n",
    "  - LaTeX (kann z.B. in Overleaf bearbeitet werden)\n",
    "  - .docx (kann z.B. in Microsoft Word oder LibreOffice bearbeitet werden)\n",
    "- diese sind ursprünglich für Seminar- und Abschlussarbeiten erstellt worden, können hier aber auch verwendet werden\n",
    "- stellen sicher, dass Zeilenabstände, Seitenränder etc. passen \n",
    "- geben Hinweise zur Gestaltung von Überschriften, Inhaltsverzeichnis, Beschriftung von Abbildungen etc.\n"
   ]
  },
  {
   "cell_type": "markdown",
   "metadata": {
    "slideshow": {
     "slide_type": "slide"
    }
   },
   "source": [
    "## Projektbericht: Inhalte\n",
    "\n",
    "**Beschreibung des Optimierungsproblems**\n",
    "- Beschreiben Sie das Problem\n",
    "- ggf. mit kleinen Beispielen und Abbildungen\n",
    "  - auf diese können Sie sich dann auch in der Erlärung der Algorithmen beziehen\n",
    "\n",
    "**dabei: Literatur**\n",
    "- der Projektbericht ist keine Seminarar- oder Abschlussarbeit - der Anspruch an die Literaturarbeit ist geringer\n",
    "- beachten Sie: Sie bearbeiten sehr bekannte und vielfach untersuchte Probleme, d.h. es gibt sehr viel Literatur \n",
    "  - es ist nicht nötig, einen kompletten Literaturüberblick zu geben\n",
    "- interessant wäre es allerdings, zu diskutieren:\n",
    "  - wie groß sind Instanzen, die heute optimal gelöst werden können?\n",
    "  - welche Algorithmen können das (Sie müssen diese nicht komplett verstehen, Nennung reicht)\n",
    "\n"
   ]
  },
  {
   "cell_type": "markdown",
   "metadata": {
    "slideshow": {
     "slide_type": "slide"
    }
   },
   "source": [
    "## Projektbericht: Inhalte\n",
    "\n",
    "**Erklärung der Algorithmen**\n",
    "Bitte Erläutern Sie die wesentlichen (Varianten von) Algorithmen, die Sie entwickelt haben\n",
    "- versuchen Sie, diese zu charakterisieren mit den Begriffen aus der Veranstaltung (Greedy, Rollout, etc.) \n",
    "- oder ggf. mit Begriffen aus der Literatur (z.B. falls Sie bestimmte bekannte Greedy-Kriterien oder Prioritätsregeln verwenden)\n",
    "\n",
    "**Algorithmen können auf verschiedene Arten dargestellt werden**\n",
    "- (Ablauf)-Diagramme\n",
    "- Pseudocode\n",
    "- Python-Code\n",
    "\n",
    "**Bitte beachten Sie:**\n",
    "- stellen Sie möglichst nur die Kernlogik dar und lagern Sie kleinere Schritte in Funktionen aus (die ggf. gesondert dargestellt werden)\n",
    "- erläutern Sie die Algorithmen im Text\n",
    "\n"
   ]
  },
  {
   "cell_type": "markdown",
   "metadata": {
    "slideshow": {
     "slide_type": "slide"
    }
   },
   "source": [
    "## Projektbericht: Inhalte\n",
    "\n",
    "**Resultate der durchgeführten Experimente**\n",
    "\n",
    "- interessant sind vor allem Vergleiche in Bezug auf Laufzeit und Lösungsgüte (Zielfunktion)\n",
    "  - zwischen von Ihnen entwickelten Varianten (welche Verbesserung wird wodurch erzielt)\n",
    "    - berichten Sie auch, ob und ggf. warum bestimmte Ansätze nicht (so gut) funktioniert haben\n",
    "  - falls vorhanden: Abstände zur optimalen Lösungen\n",
    "  - falls vorhanden: Vergleich mit existierenden Implementierungen von Heuristiken\n",
    "\n",
    "- führen Sie Experimente mit mehreren Instanzen durch\n",
    "  - berichten Sie dann entweder aggregierte Werte, Einzelwerte oder ggf. beides\n",
    "\n",
    "\n",
    "- wir werden hierzu eventuell nochmal eine gesonderte Veranstaltung durchführen\n",
    "\n",
    "\n",
    "**Zusammenfassung**\n",
    "- Zusammenfassung der Ergebnisse des Projekts\n",
    "- ggf. Ausblick auf mögliche Erweiterungen, die Ihnen viel versprechend erscheinen"
   ]
  },
  {
   "cell_type": "markdown",
   "metadata": {
    "slideshow": {
     "slide_type": "slide"
    }
   },
   "source": [
    "## Projektbericht: Beispielhafter Aufbau\n",
    "\n",
    "Dieser Aufbau ist nur ein Beispiel zur Orientierung. Der tatsächliche Aufbau des Berichts darf davon abweichen.\n",
    "\n",
    "\n",
    "1. **Einleitung**\n",
    "\n",
    "\n",
    "2. **Literatur** \n",
    "\n",
    "\n",
    "3. **Algorithmen** \n",
    "\n",
    "\n",
    "4. **Experimente / Ergebnisse**\n",
    "\n",
    "\n",
    "5. **Fazit**"
   ]
  },
  {
   "cell_type": "markdown",
   "metadata": {
    "slideshow": {
     "slide_type": "slide"
    }
   },
   "source": [
    "## Projektbericht: Beispielhafter Aufbau\n",
    "\n",
    "\n",
    "**Einleitung (ca. 1-5 Seiten):**\n",
    "\n",
    "Beschreibung des Problems, Abgrenzung zu ähnlichen Problemstellungen, Anwendungsbeispiele, Aufbau Projektbericht\n",
    "\n",
    "<br>\n",
    "\n",
    "**Literatur (ca. 1-4 Seiten):**\n",
    "\n",
    "Aufarbeitung von relevanter Literatur\n",
    "\n",
    "<br>\n",
    "\n",
    "**Algorithmen (ca. 5-15 Seiten):**\n",
    "\n",
    "Detaillierte Erklärung der entwickelten und genutzten Algorithmen\n",
    "\n",
    "<br>\n",
    "\n",
    "**Experimente / Ergebnisse (ca. 2-10 Seiten):**\n",
    "\n",
    "Darstellung und Auswertung der Ergebnisse von Experimenten\n",
    "\n",
    "<br>\n",
    "\n",
    "**Fazit (ca. 1-3 Seiten):**\n",
    "\n",
    "Zusammenfassung, Darstellung von potentiellen nächsten Schritten"
   ]
  },
  {
   "cell_type": "markdown",
   "metadata": {
    "slideshow": {
     "slide_type": "slide"
    }
   },
   "source": [
    "# Raum für Fragen"
   ]
  }
 ],
 "metadata": {
  "celltoolbar": "Slideshow",
  "kernelspec": {
   "display_name": "Python 3",
   "language": "python",
   "name": "python3"
  },
  "language_info": {
   "codemirror_mode": {
    "name": "ipython",
    "version": 3
   },
   "file_extension": ".py",
   "mimetype": "text/x-python",
   "name": "python",
   "nbconvert_exporter": "python",
   "pygments_lexer": "ipython3",
   "version": "3.7.4"
  },
  "toc": {
   "base_numbering": 1,
   "nav_menu": {},
   "number_sections": false,
   "sideBar": true,
   "skip_h1_title": false,
   "title_cell": "Table of Contents",
   "title_sidebar": "Contents",
   "toc_cell": false,
   "toc_position": {},
   "toc_section_display": true,
   "toc_window_display": false
  },
  "varInspector": {
   "cols": {
    "lenName": 16,
    "lenType": 16,
    "lenVar": 40
   },
   "kernels_config": {
    "python": {
     "delete_cmd_postfix": "",
     "delete_cmd_prefix": "del ",
     "library": "var_list.py",
     "varRefreshCmd": "print(var_dic_list())"
    },
    "r": {
     "delete_cmd_postfix": ") ",
     "delete_cmd_prefix": "rm(",
     "library": "var_list.r",
     "varRefreshCmd": "cat(var_dic_list()) "
    }
   },
   "types_to_exclude": [
    "module",
    "function",
    "builtin_function_or_method",
    "instance",
    "_Feature"
   ],
   "window_display": false
  }
 },
 "nbformat": 4,
 "nbformat_minor": 4
}
