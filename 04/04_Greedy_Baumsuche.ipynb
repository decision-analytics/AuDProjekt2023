{
 "cells": [
  {
   "cell_type": "markdown",
   "metadata": {
    "slideshow": {
     "slide_type": "slide"
    }
   },
   "source": [
    "\n",
    "<img src=\"img/logo_wiwi.png\" width=\"25%\" align=\"left\">\n",
    "\n",
    "<img src=\"img/decision_analytics_logo.png\" width=\"17%\" align=\"right\">\n",
    "\n",
    "\n",
    "\n",
    "<br><br><br><br><br><br><br><br>\n",
    "\n",
    "\n",
    "\n",
    "# Algorithmen und Datenstrukturen(A+D)-Projekt \n",
    "\n",
    "**Sommersemester 2023**\n",
    "\n",
    "\n",
    "# 4. Von Greedy zur Baumsuche\n",
    "<br>\n",
    "\n",
    "<br>\n",
    "<br>\n",
    "\n",
    "**J-Prof. Dr. Michael Römer, Till Porrmann**\n",
    "\n",
    "Juniorprofessur für Decision Analytics  | Universität Bielefeld"
   ]
  },
  {
   "cell_type": "code",
   "execution_count": 1,
   "metadata": {
    "slideshow": {
     "slide_type": "skip"
    }
   },
   "outputs": [],
   "source": [
    "import matplotlib.pyplot as plt\n",
    "import numpy as np\n",
    "from numba import njit\n",
    "import networkx as nx\n",
    "import keyboard\n",
    "from IPython.display import SVG, display, clear_output\n",
    "\n",
    "from heapq import nsmallest"
   ]
  },
  {
   "cell_type": "markdown",
   "metadata": {
    "slideshow": {
     "slide_type": "slide"
    }
   },
   "source": [
    "# Organisatorisches"
   ]
  },
  {
   "cell_type": "markdown",
   "metadata": {
    "slideshow": {
     "slide_type": "slide"
    }
   },
   "source": [
    "## Termine Zwischen- und Abschlusspräsentation\n",
    "\n",
    "**Zwischenpräsentation**: Terminvorschlag_ Montag,  22. Mai 2023 von 9-12 Uhr\n",
    "\n",
    "**Frage:**\n",
    "- wem würde **kein Zeitslot** passen?"
   ]
  },
  {
   "cell_type": "markdown",
   "metadata": {
    "slideshow": {
     "slide_type": "slide"
    }
   },
   "source": [
    "## Zur Zwischenpräsentation\n",
    "\n",
    "\n",
    "- **Dauer:** Je Gruppe: 10 Minuten + 5 Minuten Diskussion\n",
    "\n",
    "**Inhalte:**\n",
    "- Kurze Beschreibung des Optimierungsproblems\n",
    "- Sachliche Ergebnisse, z.B.:\n",
    "    - Vorstellung des / der bisher entwickelten Algorithmen\n",
    "    - Erste Ergebnisse - Qualität und Laufzeit\n",
    "- Erfahrungen aus der Projektarbeit, z.B.\n",
    "  - Arbeitsweise\n",
    "  - Herausforderungen / Erfolge\n",
    "\n",
    "- Ziele / geplante weitere Arbeiten bis zum Projektende\n",
    "\n"
   ]
  },
  {
   "cell_type": "markdown",
   "metadata": {
    "slideshow": {
     "slide_type": "slide"
    }
   },
   "source": [
    "## Was machen wir heute?\n",
    "\n",
    "- wir betrachten Greedy aus der Perspektive von Baumsuche\n",
    "- wir betrachten Breitensuche und Beam Search als Varianten der Baumsuche"
   ]
  },
  {
   "cell_type": "markdown",
   "metadata": {
    "slideshow": {
     "slide_type": "slide"
    }
   },
   "source": [
    "# Wiederholung: Nearest Neighbor als Greedy-Verfahren für das TSP"
   ]
  },
  {
   "cell_type": "markdown",
   "metadata": {
    "slideshow": {
     "slide_type": "slide"
    }
   },
   "source": [
    "## Ein Greedy-Ansatz für das TSP / SHPP: Nearest-Neighbor"
   ]
  },
  {
   "cell_type": "markdown",
   "metadata": {
    "slideshow": {
     "slide_type": "-"
    }
   },
   "source": [
    "<img src=\"./img/32.png\" width=\"20%\" align=\"right\">\n",
    "\n",
    "\n",
    "Eine einfache und sehr bekannte Heuristik für das SHPP (und das TSP) nennt sich **nearest neighbor**:\n",
    "- man startet bei einem Knoten und\n",
    "- wählt in jedem Schritt immer den Knoten aus, der dem aktuellen am nächsten ist:\n",
    "\n",
    "Beispiel rechts: wir starten in Marin und suchen immer den nächsten Nachbarn"
   ]
  },
  {
   "cell_type": "markdown",
   "metadata": {
    "slideshow": {
     "slide_type": "slide"
    }
   },
   "source": [
    "## TSP in Python: Distanzmatrix\n",
    "\n",
    "- die einzige Information, die wir für die Darstellung des TSP brauchen, ist eine **Distanz-Matrix**\n",
    "- in dieser (symmetrischen) Matrix steht in jedem Element $[i,j]$ die Distanz zwischen den Knoten (Orten) $i$ und $j$\n",
    "- als Beispiel betrachten wir folgende Matrix:\n"
   ]
  },
  {
   "cell_type": "code",
   "execution_count": 2,
   "metadata": {
    "slideshow": {
     "slide_type": "-"
    }
   },
   "outputs": [],
   "source": [
    "distance_matrix = np.array([\n",
    "    [0,  5, 4, 10],\n",
    "    [5,  0, 8,  5],\n",
    "    [4,  8, 0,  3],\n",
    "    [10, 5, 3,  0]\n",
    "])\n",
    "\n",
    "distance_matrix_small = distance_matrix"
   ]
  },
  {
   "cell_type": "markdown",
   "metadata": {
    "slideshow": {
     "slide_type": "slide"
    }
   },
   "source": [
    "## Eine Routine zum Evaluieren einer Lösung\n",
    "\n",
    "- immer wenn man nicht-triviale Algorithmen für Optimierungsprobleme entwickelt, sollte man einen \"Solution-Checker\" schreiben / nutzen"
   ]
  },
  {
   "cell_type": "markdown",
   "metadata": {
    "slideshow": {
     "slide_type": "-"
    }
   },
   "source": [
    "><div class=\"alert alert-block alert-info\">\n",
    "<b>Was ist im Fall des TSP zu prüfen?</b></div>  \n"
   ]
  },
  {
   "cell_type": "markdown",
   "metadata": {
    "slideshow": {
     "slide_type": "slide"
    }
   },
   "source": [
    "**Im Fall des TSP gilt es:**\n",
    "- zu prüfen, ob\n",
    "  - die Lösung die Richtige Anzahl an Knoten enthält\n",
    "  - dass es sich bei der Lösung tatsächlich um eine Permutation der Indizes handelt (kein Index kommt zweimal vor)\n",
    "- die Distanz der Tour zu berechnen"
   ]
  },
  {
   "cell_type": "code",
   "execution_count": 3,
   "metadata": {
    "slideshow": {
     "slide_type": "-"
    }
   },
   "outputs": [],
   "source": [
    "def evaluate_tsp_solution(distance_matrix, tour):\n",
    "    n = len(distance_matrix)\n",
    "    if len(tour) != n:\n",
    "        print (\"Wrong number of nodes\")\n",
    "        return -1\n",
    "     # Menge der Lösungsindizes muss = der Menge der Indizes von 0 bis n-1 sein\n",
    "    if set(tour) != set(range(n)):\n",
    "        print (\"Not a proper tour!\")\n",
    "        return  -1\n",
    "    \n",
    "    total_distance = 0\n",
    "    for i in range(n):\n",
    "        if i < n-1:\n",
    "            total_distance += distance_matrix[tour[i],tour[i+1]]\n",
    "        else:\n",
    "            total_distance += distance_matrix[tour[i],tour[0]]   \n",
    "            \n",
    "    return total_distance    "
   ]
  },
  {
   "cell_type": "markdown",
   "metadata": {
    "slideshow": {
     "slide_type": "fragment"
    }
   },
   "source": [
    "...probieren wir es aus:"
   ]
  },
  {
   "cell_type": "code",
   "execution_count": 4,
   "metadata": {
    "slideshow": {
     "slide_type": "-"
    }
   },
   "outputs": [
    {
     "data": {
      "text/plain": [
       "26"
      ]
     },
     "execution_count": 4,
     "metadata": {},
     "output_type": "execute_result"
    }
   ],
   "source": [
    "tour = [0,1,2,3]\n",
    "evaluate_tsp_solution(distance_matrix, tour)"
   ]
  },
  {
   "cell_type": "markdown",
   "metadata": {
    "slideshow": {
     "slide_type": "slide"
    }
   },
   "source": [
    "## Erweiterung: Evaluation zum Überprüfen einer gegebenen Distanz\n",
    "\n",
    "- oftmals ist es nützlich, in einer Funktion direkt die vom Algorithmus berechnete Distanz zu prüfen\n",
    "- folgende Funktion macht eine entsprechende Ergebnisausgabe:\n"
   ]
  },
  {
   "cell_type": "code",
   "execution_count": 5,
   "metadata": {
    "slideshow": {
     "slide_type": "slide"
    }
   },
   "outputs": [],
   "source": [
    "def print_obj_and_eval_tsp_solution(distance_matrix, tour, distance):\n",
    "    \n",
    "    eval_distance = evaluate_tsp_solution(distance_matrix, tour)\n",
    "    \n",
    "    if distance == eval_distance:\n",
    "        print (\"Solution feasible, distance is: \", distance)\n",
    "    elif eval_distance < 0:\n",
    "        print(\"Solution infeasible\")\n",
    "    else: \n",
    "        print(\"Solution feasible, wrong distance: \", distance, \" evaluation gave \", eval_distance)"
   ]
  },
  {
   "cell_type": "markdown",
   "metadata": {
    "slideshow": {
     "slide_type": "fragment"
    }
   },
   "source": [
    "...probien wir es aus:"
   ]
  },
  {
   "cell_type": "code",
   "execution_count": 6,
   "metadata": {
    "slideshow": {
     "slide_type": "-"
    }
   },
   "outputs": [
    {
     "name": "stdout",
     "output_type": "stream",
     "text": [
      "Solution feasible, wrong distance:  17  evaluation gave  26\n"
     ]
    }
   ],
   "source": [
    "distance = 17\n",
    "print_obj_and_eval_tsp_solution(distance_matrix, tour, distance)"
   ]
  },
  {
   "cell_type": "markdown",
   "metadata": {
    "slideshow": {
     "slide_type": "slide"
    }
   },
   "source": [
    "## Das Python-Paket `python-tsp` testen\n",
    "\n",
    "- TSP-Instanzen einlesen"
   ]
  },
  {
   "cell_type": "code",
   "execution_count": 7,
   "metadata": {
    "slideshow": {
     "slide_type": "-"
    }
   },
   "outputs": [],
   "source": [
    "from python_tsp.distances import tsplib_distance_matrix\n",
    "\n",
    "# Lokale Installation\n",
    "instances_path = \"./../instances/tsp/\" \n",
    "\n",
    "#Im Fall von Colab (oder lokal im selben Ordner wir Notebook) nach drag&drop:\n",
    "#instances_path = \"./\" \n",
    "\n",
    "instance_name = \"a280.tsp\" # optimale Lösung 2579 (lt. http://comopt.ifi.uni-heidelberg.de/software/TSPLIB95/STSP.html)\n",
    "#instance_name = \"brazil58.tsp\" # optimale Lösung 25395 (lt. http://comopt.ifi.uni-heidelberg.de/software/TSPLIB95/STSP.html)\n",
    "instance_name = \"berlin52.tsp\" # optimale Lösung 7542 (lt. http://comopt.ifi.uni-heidelberg.de/software/TSPLIB95/STSP.html)\n",
    "tsplib_file = instances_path+instance_name \n",
    "\n",
    "\n",
    "distance_matrix = tsplib_distance_matrix(tsplib_file)\n"
   ]
  },
  {
   "cell_type": "markdown",
   "metadata": {
    "slideshow": {
     "slide_type": "fragment"
    }
   },
   "source": [
    " - heuristische TSP-Algorithmen:"
   ]
  },
  {
   "cell_type": "code",
   "execution_count": 8,
   "metadata": {
    "slideshow": {
     "slide_type": "-"
    }
   },
   "outputs": [],
   "source": [
    "from python_tsp.heuristics import solve_tsp_local_search, solve_tsp_simulated_annealing"
   ]
  },
  {
   "cell_type": "code",
   "execution_count": 9,
   "metadata": {
    "slideshow": {
     "slide_type": "-"
    }
   },
   "outputs": [
    {
     "name": "stdout",
     "output_type": "stream",
     "text": [
      "CPU times: total: 1.62 s\n",
      "Wall time: 1.62 s\n"
     ]
    },
    {
     "data": {
      "text/plain": [
       "7956"
      ]
     },
     "execution_count": 9,
     "metadata": {},
     "output_type": "execute_result"
    }
   ],
   "source": [
    "%%time\n",
    "tour, distance = solve_tsp_simulated_annealing(distance_matrix)\n",
    "distance"
   ]
  },
  {
   "cell_type": "markdown",
   "metadata": {
    "slideshow": {
     "slide_type": "fragment"
    }
   },
   "source": [
    "- exakte TSP-Algorithmen basierend auf Enumeration und dynamischer Programmierung\n",
    "  - (vorsicht: dauert wahrscheinlich lange mit Instanzen > 10 Items)\n",
    "  "
   ]
  },
  {
   "cell_type": "code",
   "execution_count": 10,
   "metadata": {
    "slideshow": {
     "slide_type": "-"
    }
   },
   "outputs": [],
   "source": [
    "from python_tsp.exact import solve_tsp_dynamic_programming\n",
    "\n",
    "#tour, distance = solve_tsp_dynamic_programming(distance_matrix_21)\n",
    "\n",
    "#distance"
   ]
  },
  {
   "cell_type": "markdown",
   "metadata": {
    "slideshow": {
     "slide_type": "slide"
    }
   },
   "source": [
    "## Nearest Neighbor als Greedy-Verfahren für das TSP: Hilfsfunktion\n",
    "\n",
    "- hier eine etwas andere Implementierung als zuvor:\n",
    "  - zuvor hatten wir eine Hilfsfunktion: `select_nearest_neighbor`, die den nächsten Knoten ausgewählt hat\n",
    "  - nun schreiben wir eine Funktion, die uns für jeden zulässigen Nachbarn (der noch nicht in der Tour ist) ein `tuple` `(distance, tour)` gibt, mit der Distanz und der gesamten Kandidaten-Tour \n",
    "  - beachte: Wir schließen die \"Rückfahrt\" ein!"
   ]
  },
  {
   "cell_type": "code",
   "execution_count": 11,
   "metadata": {},
   "outputs": [],
   "source": [
    "@njit\n",
    "def get_dist_feasible_candidate_tours(tour, total_distance, distance_matrix):\n",
    "    \n",
    "    dist_candidate_tour = []\n",
    "    for neighbor, distance in enumerate(distance_matrix[tour[-1]]):\n",
    "        if neighbor in tour:\n",
    "            continue\n",
    "        \n",
    "        candidate_tour = tour + [neighbor]\n",
    "        \n",
    "        if len(candidate_tour) == len(distance_matrix):\n",
    "            distance += distance_matrix[neighbor, tour[0]]\n",
    "        \n",
    "        total_distance_candidate_tour = total_distance + distance\n",
    "        dist_candidate_tour.append((total_distance_candidate_tour, candidate_tour))\n",
    "        \n",
    "        \n",
    "    return dist_candidate_tour\n"
   ]
  },
  {
   "cell_type": "code",
   "execution_count": 12,
   "metadata": {
    "slideshow": {
     "slide_type": "-"
    }
   },
   "outputs": [
    {
     "name": "stderr",
     "output_type": "stream",
     "text": [
      "C:\\Users\\mroemer\\Miniconda3\\envs\\audprojekt2022\\lib\\site-packages\\numba\\core\\ir_utils.py:2152: NumbaPendingDeprecationWarning: \u001b[1m\n",
      "Encountered the use of a type that is scheduled for deprecation: type 'reflected list' found for argument 'tour' of function 'get_dist_feasible_candidate_tours'.\n",
      "\n",
      "For more information visit https://numba.readthedocs.io/en/stable/reference/deprecation.html#deprecation-of-reflection-for-list-and-set-types\n",
      "\u001b[1m\n",
      "File \"..\\..\\..\\..\\..\\AppData\\Local\\Temp\\ipykernel_12540\\1558771343.py\", line 1:\u001b[0m\n",
      "\u001b[1m<source missing, REPL/exec in use?>\u001b[0m\n",
      "\u001b[0m\n",
      "  warnings.warn(NumbaPendingDeprecationWarning(msg, loc=loc))\n",
      "C:\\Users\\mroemer\\Miniconda3\\envs\\audprojekt2022\\lib\\site-packages\\numba\\core\\ir_utils.py:2152: NumbaPendingDeprecationWarning: \u001b[1m\n",
      "Encountered the use of a type that is scheduled for deprecation: type 'reflected list' found for argument 'lst' of function 'in_seq.<locals>.seq_contains_impl'.\n",
      "\n",
      "For more information visit https://numba.readthedocs.io/en/stable/reference/deprecation.html#deprecation-of-reflection-for-list-and-set-types\n",
      "\u001b[1m\n",
      "File \"..\\..\\..\\..\\..\\Miniconda3\\envs\\audprojekt2022\\lib\\site-packages\\numba\\cpython\\listobj.py\", line 662:\u001b[0m\n",
      "\u001b[1mdef in_seq(context, builder, sig, args):\n",
      "\u001b[1m    def seq_contains_impl(lst, value):\n",
      "\u001b[0m    \u001b[1m^\u001b[0m\u001b[0m\n",
      "\u001b[0m\n",
      "  warnings.warn(NumbaPendingDeprecationWarning(msg, loc=loc))\n"
     ]
    },
    {
     "data": {
      "text/plain": [
       "[(5, [1, 0]), (8, [1, 2]), (5, [1, 3])]"
      ]
     },
     "execution_count": 12,
     "metadata": {},
     "output_type": "execute_result"
    }
   ],
   "source": [
    "get_dist_feasible_candidate_tours([1], 0, distance_matrix_small)"
   ]
  },
  {
   "cell_type": "markdown",
   "metadata": {
    "slideshow": {
     "slide_type": "slide"
    }
   },
   "source": [
    "## Nearest Neighbor als Greedy-Verfahren für das TSP: Hauptfunktion\n",
    "\n",
    "- die Hauptfunktion `tsp_greedy` sieht dann auch leicht anders aus:\n",
    "  - beachte: der erste Parameter ist eine Tour!\n",
    "  - und: durch die Verwendung des tupels `(distance, tour)` für jeden Nachbarn können wir einfach das Minimum aus der Liste der Tupel suchen (denn das erste Element wird zum Vergleich zuerst herangezogen)"
   ]
  },
  {
   "cell_type": "code",
   "execution_count": 13,
   "metadata": {
    "slideshow": {
     "slide_type": "-"
    }
   },
   "outputs": [],
   "source": [
    "@njit\n",
    "def tsp_greedy(tour, distance_matrix):\n",
    "        \n",
    "    total_distance = 0\n",
    "    \n",
    "    #solange die sequenz noch nicht alle Knoten umfasst\n",
    "    while len(tour) < len(distance_matrix):    \n",
    "        \n",
    "        #bestimme alle zulässigen Nachbarn und deren Entfernungen\n",
    "        dist_neighbors = get_dist_feasible_neighbors(tour, distance_matrix)   \n",
    "        \n",
    "        # bestimme das minimale Tupel (der erste Wert des Tupels, d.h. die Distance, wird automatisch genutzt)\n",
    "        distance, next_node = min(dist_neighbors)\n",
    "        \n",
    "        tour.append(next_node)\n",
    "        total_distance += distance     \n",
    "        \n",
    "    total_distance += distance_matrix[tour[len(tour)-1],tour[0]]\n",
    "    return tour, total_distance"
   ]
  },
  {
   "cell_type": "code",
   "execution_count": 14,
   "metadata": {
    "slideshow": {
     "slide_type": "-"
    }
   },
   "outputs": [],
   "source": [
    "@njit\n",
    "def tsp_greedy(tour, distance_matrix):\n",
    "        \n",
    "    total_distance = 0\n",
    "    \n",
    "    #solange die sequenz noch nicht alle Knoten umfasst\n",
    "    while len(tour) < len(distance_matrix):    \n",
    "        \n",
    "        #bestimme alle zulässigen Nachbarn und deren Entfernungen\n",
    "        dist_candidate_tours = get_dist_feasible_candidate_tours(tour, total_distance, distance_matrix)   \n",
    "        \n",
    "        # bestimme das minimale Tupel (der erste Wert des Tupels, d.h. die Distance, wird automatisch genutzt)\n",
    "        distance_best_candidate_tour, best_candidate_tour = min(dist_candidate_tours)\n",
    "        \n",
    "        tour = best_candidate_tour\n",
    "        total_distance = distance_best_candidate_tour    \n",
    "        \n",
    "\n",
    "    return tour, total_distance"
   ]
  },
  {
   "cell_type": "code",
   "execution_count": 15,
   "metadata": {},
   "outputs": [
    {
     "name": "stderr",
     "output_type": "stream",
     "text": [
      "C:\\Users\\mroemer\\AppData\\Local\\Temp\\ipykernel_12540\\1561615480.py:10: NumbaPendingDeprecationWarning: \u001b[1m\u001b[1m\n",
      "Encountered the use of a type that is scheduled for deprecation: type 'reflected list' found for argument 'tour' of function 'get_dist_feasible_candidate_tours'.\n",
      "\n",
      "For more information visit https://numba.readthedocs.io/en/stable/reference/deprecation.html#deprecation-of-reflection-for-list-and-set-types\n",
      "\u001b[1m\n",
      "File \"..\\..\\..\\..\\..\\AppData\\Local\\Temp\\ipykernel_12540\\1558771343.py\", line 1:\u001b[0m\n",
      "\u001b[1m<source missing, REPL/exec in use?>\u001b[0m\n",
      "\u001b[0m\u001b[0m\n",
      "  dist_candidate_tours = get_dist_feasible_candidate_tours(tour, total_distance, distance_matrix)\n",
      "C:\\Users\\mroemer\\AppData\\Local\\Temp\\ipykernel_12540\\1561615480.py:13: NumbaPendingDeprecationWarning: \u001b[1m\u001b[1m\u001b[1m\n",
      "Encountered the use of a type that is scheduled for deprecation: type 'reflected list' found for argument 'a' of function 'list_lt.<locals>.list_lt_impl'.\n",
      "\n",
      "For more information visit https://numba.readthedocs.io/en/stable/reference/deprecation.html#deprecation-of-reflection-for-list-and-set-types\n",
      "\u001b[1m\n",
      "File \"..\\..\\..\\..\\..\\Miniconda3\\envs\\audprojekt2022\\lib\\site-packages\\numba\\cpython\\listobj.py\", line 817:\u001b[0m\n",
      "\u001b[1m\n",
      "\u001b[1m    def list_lt_impl(a, b):\n",
      "\u001b[0m    \u001b[1m^\u001b[0m\u001b[0m\n",
      "\u001b[0m\u001b[0m\u001b[0m\n",
      "  distance_best_candidate_tour, best_candidate_tour = min(dist_candidate_tours)\n",
      "C:\\Users\\mroemer\\AppData\\Local\\Temp\\ipykernel_12540\\1561615480.py:13: NumbaPendingDeprecationWarning: \u001b[1m\u001b[1m\u001b[1m\n",
      "Encountered the use of a type that is scheduled for deprecation: type 'reflected list' found for argument 'a' of function 'list_ne.<locals>.list_ne_impl'.\n",
      "\n",
      "For more information visit https://numba.readthedocs.io/en/stable/reference/deprecation.html#deprecation-of-reflection-for-list-and-set-types\n",
      "\u001b[1m\n",
      "File \"..\\..\\..\\..\\..\\Miniconda3\\envs\\audprojekt2022\\lib\\site-packages\\numba\\cpython\\listobj.py\", line 794:\u001b[0m\n",
      "\u001b[1m\n",
      "\u001b[1m    def list_ne_impl(a, b):\n",
      "\u001b[0m    \u001b[1m^\u001b[0m\u001b[0m\n",
      "\u001b[0m\u001b[0m\u001b[0m\n",
      "  distance_best_candidate_tour, best_candidate_tour = min(dist_candidate_tours)\n",
      "C:\\Users\\mroemer\\AppData\\Local\\Temp\\ipykernel_12540\\1561615480.py:13: NumbaPendingDeprecationWarning: \u001b[1m\u001b[1m\u001b[1m\n",
      "Encountered the use of a type that is scheduled for deprecation: type 'reflected list' found for argument 'b' of function 'list_lt.<locals>.list_lt_impl'.\n",
      "\n",
      "For more information visit https://numba.readthedocs.io/en/stable/reference/deprecation.html#deprecation-of-reflection-for-list-and-set-types\n",
      "\u001b[1m\n",
      "File \"..\\..\\..\\..\\..\\Miniconda3\\envs\\audprojekt2022\\lib\\site-packages\\numba\\cpython\\listobj.py\", line 817:\u001b[0m\n",
      "\u001b[1m\n",
      "\u001b[1m    def list_lt_impl(a, b):\n",
      "\u001b[0m    \u001b[1m^\u001b[0m\u001b[0m\n",
      "\u001b[0m\u001b[0m\u001b[0m\n",
      "  distance_best_candidate_tour, best_candidate_tour = min(dist_candidate_tours)\n",
      "C:\\Users\\mroemer\\AppData\\Local\\Temp\\ipykernel_12540\\1561615480.py:13: NumbaPendingDeprecationWarning: \u001b[1m\u001b[1m\u001b[1m\n",
      "Encountered the use of a type that is scheduled for deprecation: type 'reflected list' found for argument 'b' of function 'list_ne.<locals>.list_ne_impl'.\n",
      "\n",
      "For more information visit https://numba.readthedocs.io/en/stable/reference/deprecation.html#deprecation-of-reflection-for-list-and-set-types\n",
      "\u001b[1m\n",
      "File \"..\\..\\..\\..\\..\\Miniconda3\\envs\\audprojekt2022\\lib\\site-packages\\numba\\cpython\\listobj.py\", line 794:\u001b[0m\n",
      "\u001b[1m\n",
      "\u001b[1m    def list_ne_impl(a, b):\n",
      "\u001b[0m    \u001b[1m^\u001b[0m\u001b[0m\n",
      "\u001b[0m\u001b[0m\u001b[0m\n",
      "  distance_best_candidate_tour, best_candidate_tour = min(dist_candidate_tours)\n",
      "C:\\Users\\mroemer\\Miniconda3\\envs\\audprojekt2022\\lib\\site-packages\\numba\\core\\ir_utils.py:2152: NumbaPendingDeprecationWarning: \u001b[1m\n",
      "Encountered the use of a type that is scheduled for deprecation: type 'reflected list' found for argument 'tour' of function 'tsp_greedy'.\n",
      "\n",
      "For more information visit https://numba.readthedocs.io/en/stable/reference/deprecation.html#deprecation-of-reflection-for-list-and-set-types\n",
      "\u001b[1m\n",
      "File \"..\\..\\..\\..\\..\\AppData\\Local\\Temp\\ipykernel_12540\\1561615480.py\", line 1:\u001b[0m\n",
      "\u001b[1m<source missing, REPL/exec in use?>\u001b[0m\n",
      "\u001b[0m\n",
      "  warnings.warn(NumbaPendingDeprecationWarning(msg, loc=loc))\n"
     ]
    },
    {
     "data": {
      "text/plain": [
       "8980"
      ]
     },
     "execution_count": 15,
     "metadata": {},
     "output_type": "execute_result"
    }
   ],
   "source": [
    "tour, distance = tsp_greedy([0], distance_matrix)\n",
    "distance"
   ]
  },
  {
   "cell_type": "markdown",
   "metadata": {
    "slideshow": {
     "slide_type": "slide"
    }
   },
   "source": [
    "## Abstraktion: Zustands(raum)modellierung / State Space Representation\n",
    "\n",
    "Ein Greedy-Verfahren konstruiert Schritt für Schritt eine Lösung (es ist ein Konstruktionsverfahren)\n",
    "\n",
    "Für jeden Schritt müssen wir folgende Fragen beantworten:\n",
    "1. Welche Entscheidungen / Handlungen / Aktionen sind möglich?\n",
    "2. Welche der möglichen Entscheidungen sollte gewählt werden?"
   ]
  },
  {
   "cell_type": "markdown",
   "metadata": {
    "slideshow": {
     "slide_type": "fragment"
    }
   },
   "source": [
    "Zur Beantwortung von Frage 1 brauchen wir:\n",
    "- eine Beschreibung des aktuellen **Zustands**:\n",
    "  - TSP: die bisherige Tour\n",
    "  - Rucksackproblem: das bisher eingepackte Gewicht \n",
    "- die \"Regeln\" / Restriktionen, die beschreiben, **welche Handlungen in einem Zustand zulässig sind**\n",
    "  - TSP: kein erneuter Besuch einer bereits besuchten Stadt\n",
    "  - Rucksackproblem: Gegenstand einpacken geht nur, wenn das Gesamtgewicht nicht überschritten wird"
   ]
  },
  {
   "cell_type": "markdown",
   "metadata": {
    "slideshow": {
     "slide_type": "fragment"
    }
   },
   "source": [
    "Zur Beantwortung von Frage 2 brauchen wir ein Auswahl-Kriterium\n",
    "- z.B. der Wert der neuen Teillösung:\n",
    "  - TSP: Distanz der (Teil-)Tour nach Hinzunahme des Nacharn\n",
    "  - Rucksackproblem: Gesamtwert der Lösung nach Hinzunahme eines Elements"
   ]
  },
  {
   "cell_type": "markdown",
   "metadata": {
    "slideshow": {
     "slide_type": "slide"
    }
   },
   "source": [
    "## Die Suche im Lösungsraum kann als Graph dargestellt werden\n",
    "\n",
    "- man nennt diesen Graph den Suchgraph oder auch **Suchbaum**\n",
    "- in diesem Graph entsprechen \n",
    "  - die Knoten den **Zuständen** (siehe oben)\n",
    "  - die Kanten den **Entscheidungen**\n",
    "  \n"
   ]
  },
  {
   "cell_type": "markdown",
   "metadata": {
    "slideshow": {
     "slide_type": "-"
    }
   },
   "source": [
    "Wir können daher **Suchverfahren in Graphen** anwenden, um eine optimale Lösung zu finden.\n",
    "- wir schauen uns das gleich einmal für den Greedy-Fall an"
   ]
  },
  {
   "cell_type": "markdown",
   "metadata": {
    "slideshow": {
     "slide_type": "slide"
    }
   },
   "source": [
    "## Beachte: Es folgen Funktionen zur Visualisierung\n",
    "- wir möchten manche unserer Algorithmen visualisieren\n",
    "- dazu nutzen wir einige Hilfsfunktionen sowie\n",
    "- angepasste Implementierungen unserer Algorithmen\n",
    "\n",
    "**Wichtig:** Die Anpassungen brauchen wir nicht für die Algorithmen selbst!"
   ]
  },
  {
   "cell_type": "code",
   "execution_count": 16,
   "metadata": {},
   "outputs": [],
   "source": [
    "    \n",
    "def add_to_search_graph(g, prev_state, state, decision, distance_decision, distance_state):\n",
    "    clear_output()\n",
    "    g.add_edge(prev_state,state, label= \" add:\" + str(decision) + \" d:\" + str(distance_decision))\n",
    "    g.nodes()[state][\"xlabel\"]= distance_state\n",
    "    svg = nx.nx_agraph.to_agraph(g).draw(prog='dot',format='svg')\n",
    "    display(SVG(svg))\n"
   ]
  },
  {
   "cell_type": "markdown",
   "metadata": {
    "slideshow": {
     "slide_type": "slide"
    }
   },
   "source": [
    "## Eine visualisierte Version des Greedy-Verfahrens für das TSP"
   ]
  },
  {
   "cell_type": "code",
   "execution_count": 17,
   "metadata": {},
   "outputs": [],
   "source": [
    "def tsp_greedy_visualized(tour, distance_matrix):\n",
    "    total_distance = 0\n",
    "    g = nx.MultiDiGraph()\n",
    "    \n",
    "    #solange die sequenz noch nicht alle Knoten umfasst\n",
    "    while len(tour) < len(distance_matrix):    \n",
    "        \n",
    "        #bestimme alle zulässigen Kandidatentouren und deren Entfernungen\n",
    "        dist_candidate_tours = get_dist_feasible_candidate_tours(tour, total_distance, distance_matrix)   \n",
    "        \n",
    "        # bestimme das minimale Tupel (der erste Wert des Tupels, d.h. die Distance, wird automatisch genutzt)\n",
    "        distance_best_candidate_tour, best_candidate_tour = min(dist_candidate_tours)\n",
    "        \n",
    "        next_node = best_candidate_tour[-1]\n",
    "        \n",
    "        next_node_distance = distance_best_candidate_tour - total_distance\n",
    "        \n",
    "        add_to_search_graph(g, tuple(tour), tuple(best_candidate_tour), next_node, next_node_distance, total_distance)\n",
    "        \n",
    "        tour = best_candidate_tour\n",
    "        total_distance = distance_best_candidate_tour   \n",
    "        keyboard.read_key()\n",
    "        \n",
    "    return tour, total_distance    \n"
   ]
  },
  {
   "cell_type": "code",
   "execution_count": 18,
   "metadata": {
    "scrolled": true
   },
   "outputs": [
    {
     "data": {
      "image/svg+xml": [
       "<svg xmlns=\"http://www.w3.org/2000/svg\" xmlns:xlink=\"http://www.w3.org/1999/xlink\" width=\"126pt\" height=\"305pt\" viewBox=\"0.00 0.00 125.75 305.00\">\n",
       "<g id=\"graph0\" class=\"graph\" transform=\"scale(1 1) rotate(0) translate(4 301)\">\n",
       "<polygon fill=\"white\" stroke=\"transparent\" points=\"-4,4 -4,-301 121.75,-301 121.75,4 -4,4\"/>\n",
       "<!-- (0, 2) -->\n",
       "<g id=\"node1\" class=\"node\">\n",
       "<title>(0, 2)</title>\n",
       "<ellipse fill=\"none\" stroke=\"black\" cx=\"55.75\" cy=\"-192\" rx=\"30.59\" ry=\"18\"/>\n",
       "<text text-anchor=\"middle\" x=\"55.75\" y=\"-188.3\" font-family=\"Times New Roman,serif\" font-size=\"14.00\">(0, 2)</text>\n",
       "<text text-anchor=\"middle\" x=\"21.7\" y=\"-213.8\" font-family=\"Times New Roman,serif\" font-size=\"14.00\">0</text>\n",
       "</g>\n",
       "<!-- (0, 2, 3) -->\n",
       "<g id=\"node3\" class=\"node\">\n",
       "<title>(0, 2, 3)</title>\n",
       "<ellipse fill=\"none\" stroke=\"black\" cx=\"55.75\" cy=\"-105\" rx=\"39.79\" ry=\"18\"/>\n",
       "<text text-anchor=\"middle\" x=\"55.75\" y=\"-101.3\" font-family=\"Times New Roman,serif\" font-size=\"14.00\">(0, 2, 3)</text>\n",
       "<text text-anchor=\"middle\" x=\"12.6\" y=\"-126.8\" font-family=\"Times New Roman,serif\" font-size=\"14.00\">4</text>\n",
       "</g>\n",
       "<!-- (0, 2)&#45;&gt;(0, 2, 3) -->\n",
       "<g id=\"edge2\" class=\"edge\">\n",
       "<title>(0, 2)-&gt;(0, 2, 3)</title>\n",
       "<path fill=\"none\" stroke=\"black\" d=\"M55.75,-173.8C55.75,-162.16 55.75,-146.55 55.75,-133.24\"/>\n",
       "<polygon fill=\"black\" stroke=\"black\" points=\"59.25,-133.18 55.75,-123.18 52.25,-133.18 59.25,-133.18\"/>\n",
       "<text text-anchor=\"middle\" x=\"83.25\" y=\"-144.8\" font-family=\"Times New Roman,serif\" font-size=\"14.00\"> add:3 d:3</text>\n",
       "</g>\n",
       "<!-- (0,) -->\n",
       "<g id=\"node2\" class=\"node\">\n",
       "<title>(0,)</title>\n",
       "<ellipse fill=\"none\" stroke=\"black\" cx=\"55.75\" cy=\"-279\" rx=\"27\" ry=\"18\"/>\n",
       "<text text-anchor=\"middle\" x=\"55.75\" y=\"-275.3\" font-family=\"Times New Roman,serif\" font-size=\"14.00\">(0,)</text>\n",
       "</g>\n",
       "<!-- (0,)&#45;&gt;(0, 2) -->\n",
       "<g id=\"edge1\" class=\"edge\">\n",
       "<title>(0,)-&gt;(0, 2)</title>\n",
       "<path fill=\"none\" stroke=\"black\" d=\"M55.75,-260.8C55.75,-249.16 55.75,-233.55 55.75,-220.24\"/>\n",
       "<polygon fill=\"black\" stroke=\"black\" points=\"59.25,-220.18 55.75,-210.18 52.25,-220.18 59.25,-220.18\"/>\n",
       "<text text-anchor=\"middle\" x=\"83.25\" y=\"-231.8\" font-family=\"Times New Roman,serif\" font-size=\"14.00\"> add:2 d:4</text>\n",
       "</g>\n",
       "<!-- (0, 2, 3, 1) -->\n",
       "<g id=\"node4\" class=\"node\">\n",
       "<title>(0, 2, 3, 1)</title>\n",
       "<ellipse fill=\"none\" stroke=\"black\" cx=\"55.75\" cy=\"-18\" rx=\"48.99\" ry=\"18\"/>\n",
       "<text text-anchor=\"middle\" x=\"55.75\" y=\"-14.3\" font-family=\"Times New Roman,serif\" font-size=\"14.00\">(0, 2, 3, 1)</text>\n",
       "<text text-anchor=\"middle\" x=\"3.5\" y=\"-39.8\" font-family=\"Times New Roman,serif\" font-size=\"14.00\">7</text>\n",
       "</g>\n",
       "<!-- (0, 2, 3)&#45;&gt;(0, 2, 3, 1) -->\n",
       "<g id=\"edge3\" class=\"edge\">\n",
       "<title>(0, 2, 3)-&gt;(0, 2, 3, 1)</title>\n",
       "<path fill=\"none\" stroke=\"black\" d=\"M55.75,-86.8C55.75,-75.16 55.75,-59.55 55.75,-46.24\"/>\n",
       "<polygon fill=\"black\" stroke=\"black\" points=\"59.25,-46.18 55.75,-36.18 52.25,-46.18 59.25,-46.18\"/>\n",
       "<text text-anchor=\"middle\" x=\"86.75\" y=\"-57.8\" font-family=\"Times New Roman,serif\" font-size=\"14.00\"> add:1 d:10</text>\n",
       "</g>\n",
       "</g>\n",
       "</svg>"
      ],
      "text/plain": [
       "<IPython.core.display.SVG object>"
      ]
     },
     "metadata": {},
     "output_type": "display_data"
    },
    {
     "name": "stdout",
     "output_type": "stream",
     "text": [
      "17\n"
     ]
    }
   ],
   "source": [
    "\n",
    "tour, distance = tsp_greedy_visualized([0], distance_matrix_small)\n",
    "print (distance)"
   ]
  },
  {
   "cell_type": "markdown",
   "metadata": {
    "slideshow": {
     "slide_type": "slide"
    }
   },
   "source": [
    "## Durchlaufen des Suchbaums: Breitensuche\n",
    "\n",
    "- Greedy betrachtet pro Stufe / Level / Ebene des Suchbaums nur einen einzigen Zustandsknoten\n",
    "- Wenn wir alle Knoten betrachen, haben wir eine **Breitensuche** (siehe Vorlesung)"
   ]
  },
  {
   "cell_type": "code",
   "execution_count": 19,
   "metadata": {},
   "outputs": [],
   "source": [
    "def tsp_breadth_first_search_visualized(tour, distance_matrix):\n",
    "        \n",
    "    total_distance = 0\n",
    "    \n",
    "    ## für die Visualisierung\n",
    "    g = nx.MultiDiGraph()\n",
    "    \n",
    "    # alle Zustandsknoten als Distanz-Tour-Tupel in der aktuellen Stufe / Ebene \n",
    "    dist_tours_current_stage = [(0, tour.copy())] \n",
    "    \n",
    "    for stage in range(0,len(distance_matrix)-1):\n",
    "        \n",
    "        dist_tours_next_stage = []\n",
    "        \n",
    "        for tour_dist, current_tour in dist_tours_current_stage:\n",
    "            \n",
    "            old_tour_tuple = tuple(current_tour)\n",
    "            \n",
    "            #bestimme alle zulässigen Tourerweiterungen und deren Entfernungen\n",
    "            dist_candidate_tours = get_dist_feasible_candidate_tours(current_tour, tour_dist, distance_matrix)   \n",
    "        \n",
    "            for candidate_tour_dist, candidate_tour in dist_candidate_tours:\n",
    "                         \n",
    "                next_node = candidate_tour[-1]\n",
    "        \n",
    "                next_node_distance = candidate_tour_dist - tour_dist\n",
    "            \n",
    "                add_to_search_graph(g, old_tour_tuple, tuple(candidate_tour), next_node, next_node_distance, candidate_tour_dist)\n",
    "                \n",
    "                keyboard.read_key()\n",
    "\n",
    "                dist_tours_next_stage.append( (candidate_tour_dist, candidate_tour) )\n",
    "                \n",
    "        dist_tours_current_stage = dist_tours_next_stage.copy()\n",
    "\n",
    "    best_distance, best_tour  = min(dist_tours_current_stage)\n",
    "    return best_tour, best_distance"
   ]
  },
  {
   "cell_type": "code",
   "execution_count": 20,
   "metadata": {},
   "outputs": [
    {
     "data": {
      "image/svg+xml": [
       "<svg xmlns=\"http://www.w3.org/2000/svg\" xmlns:xlink=\"http://www.w3.org/1999/xlink\" width=\"704pt\" height=\"305pt\" viewBox=\"0.00 0.00 703.75 305.00\">\n",
       "<g id=\"graph0\" class=\"graph\" transform=\"scale(1 1) rotate(0) translate(4 301)\">\n",
       "<polygon fill=\"white\" stroke=\"transparent\" points=\"-4,4 -4,-301 699.75,-301 699.75,4 -4,4\"/>\n",
       "<!-- (0, 1) -->\n",
       "<g id=\"node1\" class=\"node\">\n",
       "<title>(0, 1)</title>\n",
       "<ellipse fill=\"none\" stroke=\"black\" cx=\"177.75\" cy=\"-192\" rx=\"30.59\" ry=\"18\"/>\n",
       "<text text-anchor=\"middle\" x=\"177.75\" y=\"-188.3\" font-family=\"Times New Roman,serif\" font-size=\"14.00\">(0, 1)</text>\n",
       "<text text-anchor=\"middle\" x=\"143.7\" y=\"-213.8\" font-family=\"Times New Roman,serif\" font-size=\"14.00\">5</text>\n",
       "</g>\n",
       "<!-- (0, 1, 2) -->\n",
       "<g id=\"node5\" class=\"node\">\n",
       "<title>(0, 1, 2)</title>\n",
       "<ellipse fill=\"none\" stroke=\"black\" cx=\"71.75\" cy=\"-105\" rx=\"39.79\" ry=\"18\"/>\n",
       "<text text-anchor=\"middle\" x=\"71.75\" y=\"-101.3\" font-family=\"Times New Roman,serif\" font-size=\"14.00\">(0, 1, 2)</text>\n",
       "<text text-anchor=\"middle\" x=\"25.1\" y=\"-126.8\" font-family=\"Times New Roman,serif\" font-size=\"14.00\">13</text>\n",
       "</g>\n",
       "<!-- (0, 1)&#45;&gt;(0, 1, 2) -->\n",
       "<g id=\"edge4\" class=\"edge\">\n",
       "<title>(0, 1)-&gt;(0, 1, 2)</title>\n",
       "<path fill=\"none\" stroke=\"black\" d=\"M155.21,-179.59C143.78,-173.33 129.99,-165.02 118.75,-156 109.21,-148.35 99.77,-138.81 91.88,-130.11\"/>\n",
       "<polygon fill=\"black\" stroke=\"black\" points=\"94.35,-127.62 85.11,-122.44 89.1,-132.25 94.35,-127.62\"/>\n",
       "<text text-anchor=\"middle\" x=\"146.25\" y=\"-144.8\" font-family=\"Times New Roman,serif\" font-size=\"14.00\"> add:2 d:8</text>\n",
       "</g>\n",
       "<!-- (0, 1, 3) -->\n",
       "<g id=\"node6\" class=\"node\">\n",
       "<title>(0, 1, 3)</title>\n",
       "<ellipse fill=\"none\" stroke=\"black\" cx=\"177.75\" cy=\"-105\" rx=\"39.79\" ry=\"18\"/>\n",
       "<text text-anchor=\"middle\" x=\"177.75\" y=\"-101.3\" font-family=\"Times New Roman,serif\" font-size=\"14.00\">(0, 1, 3)</text>\n",
       "<text text-anchor=\"middle\" x=\"131.1\" y=\"-126.8\" font-family=\"Times New Roman,serif\" font-size=\"14.00\">10</text>\n",
       "</g>\n",
       "<!-- (0, 1)&#45;&gt;(0, 1, 3) -->\n",
       "<g id=\"edge5\" class=\"edge\">\n",
       "<title>(0, 1)-&gt;(0, 1, 3)</title>\n",
       "<path fill=\"none\" stroke=\"black\" d=\"M177.75,-173.8C177.75,-162.16 177.75,-146.55 177.75,-133.24\"/>\n",
       "<polygon fill=\"black\" stroke=\"black\" points=\"181.25,-133.18 177.75,-123.18 174.25,-133.18 181.25,-133.18\"/>\n",
       "<text text-anchor=\"middle\" x=\"205.25\" y=\"-144.8\" font-family=\"Times New Roman,serif\" font-size=\"14.00\"> add:3 d:5</text>\n",
       "</g>\n",
       "<!-- (0,) -->\n",
       "<g id=\"node2\" class=\"node\">\n",
       "<title>(0,)</title>\n",
       "<ellipse fill=\"none\" stroke=\"black\" cx=\"362.75\" cy=\"-279\" rx=\"27\" ry=\"18\"/>\n",
       "<text text-anchor=\"middle\" x=\"362.75\" y=\"-275.3\" font-family=\"Times New Roman,serif\" font-size=\"14.00\">(0,)</text>\n",
       "</g>\n",
       "<!-- (0,)&#45;&gt;(0, 1) -->\n",
       "<g id=\"edge1\" class=\"edge\">\n",
       "<title>(0,)-&gt;(0, 1)</title>\n",
       "<path fill=\"none\" stroke=\"black\" d=\"M341.16,-268.08C309.05,-253.33 248.45,-225.48 210.75,-208.16\"/>\n",
       "<polygon fill=\"black\" stroke=\"black\" points=\"211.77,-204.78 201.23,-203.79 208.85,-211.14 211.77,-204.78\"/>\n",
       "<text text-anchor=\"middle\" x=\"308.25\" y=\"-231.8\" font-family=\"Times New Roman,serif\" font-size=\"14.00\"> add:1 d:5</text>\n",
       "</g>\n",
       "<!-- (0, 2) -->\n",
       "<g id=\"node3\" class=\"node\">\n",
       "<title>(0, 2)</title>\n",
       "<ellipse fill=\"none\" stroke=\"black\" cx=\"362.75\" cy=\"-192\" rx=\"30.59\" ry=\"18\"/>\n",
       "<text text-anchor=\"middle\" x=\"362.75\" y=\"-188.3\" font-family=\"Times New Roman,serif\" font-size=\"14.00\">(0, 2)</text>\n",
       "<text text-anchor=\"middle\" x=\"328.7\" y=\"-213.8\" font-family=\"Times New Roman,serif\" font-size=\"14.00\">4</text>\n",
       "</g>\n",
       "<!-- (0,)&#45;&gt;(0, 2) -->\n",
       "<g id=\"edge2\" class=\"edge\">\n",
       "<title>(0,)-&gt;(0, 2)</title>\n",
       "<path fill=\"none\" stroke=\"black\" d=\"M362.75,-260.8C362.75,-249.16 362.75,-233.55 362.75,-220.24\"/>\n",
       "<polygon fill=\"black\" stroke=\"black\" points=\"366.25,-220.18 362.75,-210.18 359.25,-220.18 366.25,-220.18\"/>\n",
       "<text text-anchor=\"middle\" x=\"390.25\" y=\"-231.8\" font-family=\"Times New Roman,serif\" font-size=\"14.00\"> add:2 d:4</text>\n",
       "</g>\n",
       "<!-- (0, 3) -->\n",
       "<g id=\"node4\" class=\"node\">\n",
       "<title>(0, 3)</title>\n",
       "<ellipse fill=\"none\" stroke=\"black\" cx=\"522.75\" cy=\"-192\" rx=\"30.59\" ry=\"18\"/>\n",
       "<text text-anchor=\"middle\" x=\"522.75\" y=\"-188.3\" font-family=\"Times New Roman,serif\" font-size=\"14.00\">(0, 3)</text>\n",
       "<text text-anchor=\"middle\" x=\"485.2\" y=\"-213.8\" font-family=\"Times New Roman,serif\" font-size=\"14.00\">10</text>\n",
       "</g>\n",
       "<!-- (0,)&#45;&gt;(0, 3) -->\n",
       "<g id=\"edge3\" class=\"edge\">\n",
       "<title>(0,)-&gt;(0, 3)</title>\n",
       "<path fill=\"none\" stroke=\"black\" d=\"M383.34,-267.06C410.84,-252.45 459.8,-226.44 491.76,-209.46\"/>\n",
       "<polygon fill=\"black\" stroke=\"black\" points=\"493.51,-212.5 500.7,-204.71 490.22,-206.31 493.51,-212.5\"/>\n",
       "<text text-anchor=\"middle\" x=\"482.75\" y=\"-231.8\" font-family=\"Times New Roman,serif\" font-size=\"14.00\"> add:3 d:10</text>\n",
       "</g>\n",
       "<!-- (0, 2, 1) -->\n",
       "<g id=\"node7\" class=\"node\">\n",
       "<title>(0, 2, 1)</title>\n",
       "<ellipse fill=\"none\" stroke=\"black\" cx=\"301.75\" cy=\"-105\" rx=\"39.79\" ry=\"18\"/>\n",
       "<text text-anchor=\"middle\" x=\"301.75\" y=\"-101.3\" font-family=\"Times New Roman,serif\" font-size=\"14.00\">(0, 2, 1)</text>\n",
       "<text text-anchor=\"middle\" x=\"255.1\" y=\"-126.8\" font-family=\"Times New Roman,serif\" font-size=\"14.00\">12</text>\n",
       "</g>\n",
       "<!-- (0, 2)&#45;&gt;(0, 2, 1) -->\n",
       "<g id=\"edge6\" class=\"edge\">\n",
       "<title>(0, 2)-&gt;(0, 2, 1)</title>\n",
       "<path fill=\"none\" stroke=\"black\" d=\"M343.26,-178.13C335.42,-172.16 326.81,-164.5 320.75,-156 315.82,-149.09 311.99,-140.74 309.1,-132.86\"/>\n",
       "<polygon fill=\"black\" stroke=\"black\" points=\"312.39,-131.67 305.93,-123.27 305.74,-133.86 312.39,-131.67\"/>\n",
       "<text text-anchor=\"middle\" x=\"348.25\" y=\"-144.8\" font-family=\"Times New Roman,serif\" font-size=\"14.00\"> add:1 d:8</text>\n",
       "</g>\n",
       "<!-- (0, 2, 3) -->\n",
       "<g id=\"node8\" class=\"node\">\n",
       "<title>(0, 2, 3)</title>\n",
       "<ellipse fill=\"none\" stroke=\"black\" cx=\"402.75\" cy=\"-105\" rx=\"39.79\" ry=\"18\"/>\n",
       "<text text-anchor=\"middle\" x=\"402.75\" y=\"-101.3\" font-family=\"Times New Roman,serif\" font-size=\"14.00\">(0, 2, 3)</text>\n",
       "<text text-anchor=\"middle\" x=\"359.6\" y=\"-126.8\" font-family=\"Times New Roman,serif\" font-size=\"14.00\">7</text>\n",
       "</g>\n",
       "<!-- (0, 2)&#45;&gt;(0, 2, 3) -->\n",
       "<g id=\"edge7\" class=\"edge\">\n",
       "<title>(0, 2)-&gt;(0, 2, 3)</title>\n",
       "<path fill=\"none\" stroke=\"black\" d=\"M370.65,-174.21C376.29,-162.22 383.99,-145.85 390.44,-132.16\"/>\n",
       "<polygon fill=\"black\" stroke=\"black\" points=\"393.77,-133.3 394.86,-122.76 387.43,-130.32 393.77,-133.3\"/>\n",
       "<text text-anchor=\"middle\" x=\"412.25\" y=\"-144.8\" font-family=\"Times New Roman,serif\" font-size=\"14.00\"> add:3 d:3</text>\n",
       "</g>\n",
       "<!-- (0, 3, 1) -->\n",
       "<g id=\"node9\" class=\"node\">\n",
       "<title>(0, 3, 1)</title>\n",
       "<ellipse fill=\"none\" stroke=\"black\" cx=\"522.75\" cy=\"-105\" rx=\"39.79\" ry=\"18\"/>\n",
       "<text text-anchor=\"middle\" x=\"522.75\" y=\"-101.3\" font-family=\"Times New Roman,serif\" font-size=\"14.00\">(0, 3, 1)</text>\n",
       "<text text-anchor=\"middle\" x=\"476.1\" y=\"-126.8\" font-family=\"Times New Roman,serif\" font-size=\"14.00\">15</text>\n",
       "</g>\n",
       "<!-- (0, 3)&#45;&gt;(0, 3, 1) -->\n",
       "<g id=\"edge8\" class=\"edge\">\n",
       "<title>(0, 3)-&gt;(0, 3, 1)</title>\n",
       "<path fill=\"none\" stroke=\"black\" d=\"M522.75,-173.8C522.75,-162.16 522.75,-146.55 522.75,-133.24\"/>\n",
       "<polygon fill=\"black\" stroke=\"black\" points=\"526.25,-133.18 522.75,-123.18 519.25,-133.18 526.25,-133.18\"/>\n",
       "<text text-anchor=\"middle\" x=\"550.25\" y=\"-144.8\" font-family=\"Times New Roman,serif\" font-size=\"14.00\"> add:1 d:5</text>\n",
       "</g>\n",
       "<!-- (0, 3, 2) -->\n",
       "<g id=\"node10\" class=\"node\">\n",
       "<title>(0, 3, 2)</title>\n",
       "<ellipse fill=\"none\" stroke=\"black\" cx=\"628.75\" cy=\"-105\" rx=\"39.79\" ry=\"18\"/>\n",
       "<text text-anchor=\"middle\" x=\"628.75\" y=\"-101.3\" font-family=\"Times New Roman,serif\" font-size=\"14.00\">(0, 3, 2)</text>\n",
       "<text text-anchor=\"middle\" x=\"582.1\" y=\"-126.8\" font-family=\"Times New Roman,serif\" font-size=\"14.00\">13</text>\n",
       "</g>\n",
       "<!-- (0, 3)&#45;&gt;(0, 3, 2) -->\n",
       "<g id=\"edge9\" class=\"edge\">\n",
       "<title>(0, 3)-&gt;(0, 3, 2)</title>\n",
       "<path fill=\"none\" stroke=\"black\" d=\"M545.28,-179.59C556.71,-173.33 570.5,-165.02 581.75,-156 591.28,-148.35 600.72,-138.81 608.61,-130.11\"/>\n",
       "<polygon fill=\"black\" stroke=\"black\" points=\"611.39,-132.25 615.38,-122.44 606.14,-127.62 611.39,-132.25\"/>\n",
       "<text text-anchor=\"middle\" x=\"624.25\" y=\"-144.8\" font-family=\"Times New Roman,serif\" font-size=\"14.00\"> add:2 d:3</text>\n",
       "</g>\n",
       "<!-- (0, 1, 2, 3) -->\n",
       "<g id=\"node11\" class=\"node\">\n",
       "<title>(0, 1, 2, 3)</title>\n",
       "<ellipse fill=\"none\" stroke=\"black\" cx=\"62.75\" cy=\"-18\" rx=\"48.99\" ry=\"18\"/>\n",
       "<text text-anchor=\"middle\" x=\"62.75\" y=\"-14.3\" font-family=\"Times New Roman,serif\" font-size=\"14.00\">(0, 1, 2, 3)</text>\n",
       "<text text-anchor=\"middle\" x=\"7\" y=\"-39.8\" font-family=\"Times New Roman,serif\" font-size=\"14.00\">26</text>\n",
       "</g>\n",
       "<!-- (0, 1, 2)&#45;&gt;(0, 1, 2, 3) -->\n",
       "<g id=\"edge10\" class=\"edge\">\n",
       "<title>(0, 1, 2)-&gt;(0, 1, 2, 3)</title>\n",
       "<path fill=\"none\" stroke=\"black\" d=\"M69.92,-86.8C68.69,-75.16 67.04,-59.55 65.63,-46.24\"/>\n",
       "<polygon fill=\"black\" stroke=\"black\" points=\"69.1,-45.75 64.56,-36.18 62.14,-46.49 69.1,-45.75\"/>\n",
       "<text text-anchor=\"middle\" x=\"99.75\" y=\"-57.8\" font-family=\"Times New Roman,serif\" font-size=\"14.00\"> add:3 d:13</text>\n",
       "</g>\n",
       "<!-- (0, 1, 3, 2) -->\n",
       "<g id=\"node12\" class=\"node\">\n",
       "<title>(0, 1, 3, 2)</title>\n",
       "<ellipse fill=\"none\" stroke=\"black\" cx=\"177.75\" cy=\"-18\" rx=\"48.99\" ry=\"18\"/>\n",
       "<text text-anchor=\"middle\" x=\"177.75\" y=\"-14.3\" font-family=\"Times New Roman,serif\" font-size=\"14.00\">(0, 1, 3, 2)</text>\n",
       "<text text-anchor=\"middle\" x=\"122\" y=\"-39.8\" font-family=\"Times New Roman,serif\" font-size=\"14.00\">17</text>\n",
       "</g>\n",
       "<!-- (0, 1, 3)&#45;&gt;(0, 1, 3, 2) -->\n",
       "<g id=\"edge11\" class=\"edge\">\n",
       "<title>(0, 1, 3)-&gt;(0, 1, 3, 2)</title>\n",
       "<path fill=\"none\" stroke=\"black\" d=\"M177.75,-86.8C177.75,-75.16 177.75,-59.55 177.75,-46.24\"/>\n",
       "<polygon fill=\"black\" stroke=\"black\" points=\"181.25,-46.18 177.75,-36.18 174.25,-46.18 181.25,-46.18\"/>\n",
       "<text text-anchor=\"middle\" x=\"205.25\" y=\"-57.8\" font-family=\"Times New Roman,serif\" font-size=\"14.00\"> add:2 d:7</text>\n",
       "</g>\n",
       "<!-- (0, 2, 1, 3) -->\n",
       "<g id=\"node13\" class=\"node\">\n",
       "<title>(0, 2, 1, 3)</title>\n",
       "<ellipse fill=\"none\" stroke=\"black\" cx=\"292.75\" cy=\"-18\" rx=\"48.99\" ry=\"18\"/>\n",
       "<text text-anchor=\"middle\" x=\"292.75\" y=\"-14.3\" font-family=\"Times New Roman,serif\" font-size=\"14.00\">(0, 2, 1, 3)</text>\n",
       "<text text-anchor=\"middle\" x=\"237\" y=\"-39.8\" font-family=\"Times New Roman,serif\" font-size=\"14.00\">27</text>\n",
       "</g>\n",
       "<!-- (0, 2, 1)&#45;&gt;(0, 2, 1, 3) -->\n",
       "<g id=\"edge12\" class=\"edge\">\n",
       "<title>(0, 2, 1)-&gt;(0, 2, 1, 3)</title>\n",
       "<path fill=\"none\" stroke=\"black\" d=\"M299.92,-86.8C298.69,-75.16 297.04,-59.55 295.63,-46.24\"/>\n",
       "<polygon fill=\"black\" stroke=\"black\" points=\"299.1,-45.75 294.56,-36.18 292.14,-46.49 299.1,-45.75\"/>\n",
       "<text text-anchor=\"middle\" x=\"328.75\" y=\"-57.8\" font-family=\"Times New Roman,serif\" font-size=\"14.00\"> add:3 d:15</text>\n",
       "</g>\n",
       "<!-- (0, 2, 3, 1) -->\n",
       "<g id=\"node14\" class=\"node\">\n",
       "<title>(0, 2, 3, 1)</title>\n",
       "<ellipse fill=\"none\" stroke=\"black\" cx=\"407.75\" cy=\"-18\" rx=\"48.99\" ry=\"18\"/>\n",
       "<text text-anchor=\"middle\" x=\"407.75\" y=\"-14.3\" font-family=\"Times New Roman,serif\" font-size=\"14.00\">(0, 2, 3, 1)</text>\n",
       "<text text-anchor=\"middle\" x=\"352\" y=\"-39.8\" font-family=\"Times New Roman,serif\" font-size=\"14.00\">17</text>\n",
       "</g>\n",
       "<!-- (0, 2, 3)&#45;&gt;(0, 2, 3, 1) -->\n",
       "<g id=\"edge13\" class=\"edge\">\n",
       "<title>(0, 2, 3)-&gt;(0, 2, 3, 1)</title>\n",
       "<path fill=\"none\" stroke=\"black\" d=\"M403.76,-86.8C404.44,-75.16 405.36,-59.55 406.14,-46.24\"/>\n",
       "<polygon fill=\"black\" stroke=\"black\" points=\"409.64,-46.36 406.74,-36.18 402.65,-45.95 409.64,-46.36\"/>\n",
       "<text text-anchor=\"middle\" x=\"435.75\" y=\"-57.8\" font-family=\"Times New Roman,serif\" font-size=\"14.00\"> add:1 d:10</text>\n",
       "</g>\n",
       "<!-- (0, 3, 1, 2) -->\n",
       "<g id=\"node15\" class=\"node\">\n",
       "<title>(0, 3, 1, 2)</title>\n",
       "<ellipse fill=\"none\" stroke=\"black\" cx=\"522.75\" cy=\"-18\" rx=\"48.99\" ry=\"18\"/>\n",
       "<text text-anchor=\"middle\" x=\"522.75\" y=\"-14.3\" font-family=\"Times New Roman,serif\" font-size=\"14.00\">(0, 3, 1, 2)</text>\n",
       "<text text-anchor=\"middle\" x=\"467\" y=\"-39.8\" font-family=\"Times New Roman,serif\" font-size=\"14.00\">27</text>\n",
       "</g>\n",
       "<!-- (0, 3, 1)&#45;&gt;(0, 3, 1, 2) -->\n",
       "<g id=\"edge14\" class=\"edge\">\n",
       "<title>(0, 3, 1)-&gt;(0, 3, 1, 2)</title>\n",
       "<path fill=\"none\" stroke=\"black\" d=\"M522.75,-86.8C522.75,-75.16 522.75,-59.55 522.75,-46.24\"/>\n",
       "<polygon fill=\"black\" stroke=\"black\" points=\"526.25,-46.18 522.75,-36.18 519.25,-46.18 526.25,-46.18\"/>\n",
       "<text text-anchor=\"middle\" x=\"553.75\" y=\"-57.8\" font-family=\"Times New Roman,serif\" font-size=\"14.00\"> add:2 d:12</text>\n",
       "</g>\n",
       "<!-- (0, 3, 2, 1) -->\n",
       "<g id=\"node16\" class=\"node\">\n",
       "<title>(0, 3, 2, 1)</title>\n",
       "<ellipse fill=\"none\" stroke=\"black\" cx=\"637.75\" cy=\"-18\" rx=\"48.99\" ry=\"18\"/>\n",
       "<text text-anchor=\"middle\" x=\"637.75\" y=\"-14.3\" font-family=\"Times New Roman,serif\" font-size=\"14.00\">(0, 3, 2, 1)</text>\n",
       "<text text-anchor=\"middle\" x=\"582\" y=\"-39.8\" font-family=\"Times New Roman,serif\" font-size=\"14.00\">26</text>\n",
       "</g>\n",
       "<!-- (0, 3, 2)&#45;&gt;(0, 3, 2, 1) -->\n",
       "<g id=\"edge15\" class=\"edge\">\n",
       "<title>(0, 3, 2)-&gt;(0, 3, 2, 1)</title>\n",
       "<path fill=\"none\" stroke=\"black\" d=\"M630.57,-86.8C631.8,-75.16 633.45,-59.55 634.86,-46.24\"/>\n",
       "<polygon fill=\"black\" stroke=\"black\" points=\"638.35,-46.49 635.93,-36.18 631.39,-45.75 638.35,-46.49\"/>\n",
       "<text text-anchor=\"middle\" x=\"664.75\" y=\"-57.8\" font-family=\"Times New Roman,serif\" font-size=\"14.00\"> add:1 d:13</text>\n",
       "</g>\n",
       "</g>\n",
       "</svg>"
      ],
      "text/plain": [
       "<IPython.core.display.SVG object>"
      ]
     },
     "metadata": {},
     "output_type": "display_data"
    }
   ],
   "source": [
    "tour, distance = tsp_breadth_first_search_visualized([0], distance_matrix_small)"
   ]
  },
  {
   "cell_type": "code",
   "execution_count": 21,
   "metadata": {},
   "outputs": [
    {
     "name": "stdout",
     "output_type": "stream",
     "text": [
      "17\n"
     ]
    }
   ],
   "source": [
    "print(distance)"
   ]
  },
  {
   "cell_type": "markdown",
   "metadata": {
    "slideshow": {
     "slide_type": "slide"
    }
   },
   "source": [
    "# Beam Search: Einschränkung der Breitensuche\n",
    "\n",
    "- Idee: ein Kompromiss zwischen Greedy und Breitensuche\n",
    "- übernimm auf jeder Stufe nur eine bestimmte Anzahl (beam-width) von Zustandsknoten\n",
    "  - Auswahl z.B. auf Basis von Distanz der Tour\n",
    "- hier einfache Implementierung mit der Funktion `nsmallest` aus dem Paket `heapq`"
   ]
  },
  {
   "cell_type": "code",
   "execution_count": 22,
   "metadata": {},
   "outputs": [],
   "source": [
    "from heapq import nsmallest\n",
    "def tsp_beam_search_visualized(tour, distance_matrix, beam_width):\n",
    "        \n",
    "    total_distance = 0\n",
    "    \n",
    "    ## für die Visualisierung\n",
    "    g = nx.MultiDiGraph()\n",
    "    \n",
    "    # alle Zustandsknoten als Distanz-Tour-Tupel in der aktuellen Stufe / Ebene \n",
    "    dist_tours_current_stage = [(0, tour.copy())] \n",
    "    \n",
    "    for stage in range(0,len(distance_matrix)-1):\n",
    "        \n",
    "        dist_tours_next_stage = []\n",
    "        \n",
    "        for tour_dist, current_tour in dist_tours_current_stage:\n",
    "            \n",
    "            old_tour_tuple = tuple(current_tour)\n",
    "            \n",
    "            #bestimme alle zulässigen Tourerweiterungen und deren Entfernungen\n",
    "            dist_candidate_tours = get_dist_feasible_candidate_tours(current_tour, tour_dist, distance_matrix)     \n",
    "            \n",
    "        \n",
    "            for candidate_tour_dist, candidate_tour in dist_candidate_tours:\n",
    "                         \n",
    "                next_node = candidate_tour[-1]\n",
    "        \n",
    "                next_node_distance = candidate_tour_dist - tour_dist\n",
    "            \n",
    "                add_to_search_graph(g, old_tour_tuple, tuple(candidate_tour), next_node, next_node_distance, candidate_tour_dist)\n",
    "                \n",
    "                keyboard.read_key()\n",
    "\n",
    "                dist_tours_next_stage.append( (candidate_tour_dist, candidate_tour) )\n",
    "                \n",
    "        dist_tours_current_stage = nsmallest(beam_width, dist_tours_next_stage)\n",
    "\n",
    "    \n",
    "    best_distance, best_tour  = min(dist_tours_current_stage)\n",
    "    \n",
    "    return best_tour, best_distance"
   ]
  },
  {
   "cell_type": "code",
   "execution_count": 23,
   "metadata": {},
   "outputs": [
    {
     "data": {
      "image/svg+xml": [
       "<svg xmlns=\"http://www.w3.org/2000/svg\" xmlns:xlink=\"http://www.w3.org/1999/xlink\" width=\"415pt\" height=\"305pt\" viewBox=\"0.00 0.00 414.65 305.00\">\n",
       "<g id=\"graph0\" class=\"graph\" transform=\"scale(1 1) rotate(0) translate(4 301)\">\n",
       "<polygon fill=\"white\" stroke=\"transparent\" points=\"-4,4 -4,-301 410.65,-301 410.65,4 -4,4\"/>\n",
       "<!-- (0, 1) -->\n",
       "<g id=\"node1\" class=\"node\">\n",
       "<title>(0, 1)</title>\n",
       "<ellipse fill=\"none\" stroke=\"black\" cx=\"150.65\" cy=\"-192\" rx=\"30.59\" ry=\"18\"/>\n",
       "<text text-anchor=\"middle\" x=\"150.65\" y=\"-188.3\" font-family=\"Times New Roman,serif\" font-size=\"14.00\">(0, 1)</text>\n",
       "<text text-anchor=\"middle\" x=\"116.6\" y=\"-213.8\" font-family=\"Times New Roman,serif\" font-size=\"14.00\">5</text>\n",
       "</g>\n",
       "<!-- (0, 1, 2) -->\n",
       "<g id=\"node5\" class=\"node\">\n",
       "<title>(0, 1, 2)</title>\n",
       "<ellipse fill=\"none\" stroke=\"black\" cx=\"53.65\" cy=\"-105\" rx=\"39.79\" ry=\"18\"/>\n",
       "<text text-anchor=\"middle\" x=\"53.65\" y=\"-101.3\" font-family=\"Times New Roman,serif\" font-size=\"14.00\">(0, 1, 2)</text>\n",
       "<text text-anchor=\"middle\" x=\"7\" y=\"-126.8\" font-family=\"Times New Roman,serif\" font-size=\"14.00\">13</text>\n",
       "</g>\n",
       "<!-- (0, 1)&#45;&gt;(0, 1, 2) -->\n",
       "<g id=\"edge4\" class=\"edge\">\n",
       "<title>(0, 1)-&gt;(0, 1, 2)</title>\n",
       "<path fill=\"none\" stroke=\"black\" d=\"M127.7,-180.07C116.17,-173.93 102.4,-165.59 91.65,-156 83.47,-148.71 75.85,-139.44 69.62,-130.86\"/>\n",
       "<polygon fill=\"black\" stroke=\"black\" points=\"72.47,-128.82 63.88,-122.62 66.73,-132.82 72.47,-128.82\"/>\n",
       "<text text-anchor=\"middle\" x=\"119.15\" y=\"-144.8\" font-family=\"Times New Roman,serif\" font-size=\"14.00\"> add:2 d:8</text>\n",
       "</g>\n",
       "<!-- (0, 1, 3) -->\n",
       "<g id=\"node6\" class=\"node\">\n",
       "<title>(0, 1, 3)</title>\n",
       "<ellipse fill=\"none\" stroke=\"black\" cx=\"150.65\" cy=\"-105\" rx=\"39.79\" ry=\"18\"/>\n",
       "<text text-anchor=\"middle\" x=\"150.65\" y=\"-101.3\" font-family=\"Times New Roman,serif\" font-size=\"14.00\">(0, 1, 3)</text>\n",
       "<text text-anchor=\"middle\" x=\"104\" y=\"-126.8\" font-family=\"Times New Roman,serif\" font-size=\"14.00\">10</text>\n",
       "</g>\n",
       "<!-- (0, 1)&#45;&gt;(0, 1, 3) -->\n",
       "<g id=\"edge5\" class=\"edge\">\n",
       "<title>(0, 1)-&gt;(0, 1, 3)</title>\n",
       "<path fill=\"none\" stroke=\"black\" d=\"M150.65,-173.8C150.65,-162.16 150.65,-146.55 150.65,-133.24\"/>\n",
       "<polygon fill=\"black\" stroke=\"black\" points=\"154.15,-133.18 150.65,-123.18 147.15,-133.18 154.15,-133.18\"/>\n",
       "<text text-anchor=\"middle\" x=\"178.15\" y=\"-144.8\" font-family=\"Times New Roman,serif\" font-size=\"14.00\"> add:3 d:5</text>\n",
       "</g>\n",
       "<!-- (0,) -->\n",
       "<g id=\"node2\" class=\"node\">\n",
       "<title>(0,)</title>\n",
       "<ellipse fill=\"none\" stroke=\"black\" cx=\"247.65\" cy=\"-279\" rx=\"27\" ry=\"18\"/>\n",
       "<text text-anchor=\"middle\" x=\"247.65\" y=\"-275.3\" font-family=\"Times New Roman,serif\" font-size=\"14.00\">(0,)</text>\n",
       "</g>\n",
       "<!-- (0,)&#45;&gt;(0, 1) -->\n",
       "<g id=\"edge1\" class=\"edge\">\n",
       "<title>(0,)-&gt;(0, 1)</title>\n",
       "<path fill=\"none\" stroke=\"black\" d=\"M226.12,-267.82C214.31,-261.62 199.85,-252.99 188.65,-243 180.35,-235.6 172.63,-226.16 166.34,-217.48\"/>\n",
       "<polygon fill=\"black\" stroke=\"black\" points=\"169.15,-215.38 160.57,-209.15 163.4,-219.37 169.15,-215.38\"/>\n",
       "<text text-anchor=\"middle\" x=\"216.15\" y=\"-231.8\" font-family=\"Times New Roman,serif\" font-size=\"14.00\"> add:1 d:5</text>\n",
       "</g>\n",
       "<!-- (0, 2) -->\n",
       "<g id=\"node3\" class=\"node\">\n",
       "<title>(0, 2)</title>\n",
       "<ellipse fill=\"none\" stroke=\"black\" cx=\"247.65\" cy=\"-192\" rx=\"30.59\" ry=\"18\"/>\n",
       "<text text-anchor=\"middle\" x=\"247.65\" y=\"-188.3\" font-family=\"Times New Roman,serif\" font-size=\"14.00\">(0, 2)</text>\n",
       "<text text-anchor=\"middle\" x=\"213.6\" y=\"-213.8\" font-family=\"Times New Roman,serif\" font-size=\"14.00\">4</text>\n",
       "</g>\n",
       "<!-- (0,)&#45;&gt;(0, 2) -->\n",
       "<g id=\"edge2\" class=\"edge\">\n",
       "<title>(0,)-&gt;(0, 2)</title>\n",
       "<path fill=\"none\" stroke=\"black\" d=\"M247.65,-260.8C247.65,-249.16 247.65,-233.55 247.65,-220.24\"/>\n",
       "<polygon fill=\"black\" stroke=\"black\" points=\"251.15,-220.18 247.65,-210.18 244.15,-220.18 251.15,-220.18\"/>\n",
       "<text text-anchor=\"middle\" x=\"275.15\" y=\"-231.8\" font-family=\"Times New Roman,serif\" font-size=\"14.00\"> add:2 d:4</text>\n",
       "</g>\n",
       "<!-- (0, 3) -->\n",
       "<g id=\"node4\" class=\"node\">\n",
       "<title>(0, 3)</title>\n",
       "<ellipse fill=\"none\" stroke=\"black\" cx=\"326.65\" cy=\"-192\" rx=\"30.59\" ry=\"18\"/>\n",
       "<text text-anchor=\"middle\" x=\"326.65\" y=\"-188.3\" font-family=\"Times New Roman,serif\" font-size=\"14.00\">(0, 3)</text>\n",
       "<text text-anchor=\"middle\" x=\"289.1\" y=\"-213.8\" font-family=\"Times New Roman,serif\" font-size=\"14.00\">10</text>\n",
       "</g>\n",
       "<!-- (0,)&#45;&gt;(0, 3) -->\n",
       "<g id=\"edge3\" class=\"edge\">\n",
       "<title>(0,)-&gt;(0, 3)</title>\n",
       "<path fill=\"none\" stroke=\"black\" d=\"M269.65,-268.48C281.29,-262.54 295.1,-253.94 304.65,-243 310.5,-236.29 315.01,-227.78 318.39,-219.7\"/>\n",
       "<polygon fill=\"black\" stroke=\"black\" points=\"321.72,-220.78 321.95,-210.19 315.17,-218.32 321.72,-220.78\"/>\n",
       "<text text-anchor=\"middle\" x=\"344.65\" y=\"-231.8\" font-family=\"Times New Roman,serif\" font-size=\"14.00\"> add:3 d:10</text>\n",
       "</g>\n",
       "<!-- (0, 2, 1) -->\n",
       "<g id=\"node7\" class=\"node\">\n",
       "<title>(0, 2, 1)</title>\n",
       "<ellipse fill=\"none\" stroke=\"black\" cx=\"247.65\" cy=\"-105\" rx=\"39.79\" ry=\"18\"/>\n",
       "<text text-anchor=\"middle\" x=\"247.65\" y=\"-101.3\" font-family=\"Times New Roman,serif\" font-size=\"14.00\">(0, 2, 1)</text>\n",
       "<text text-anchor=\"middle\" x=\"201\" y=\"-126.8\" font-family=\"Times New Roman,serif\" font-size=\"14.00\">12</text>\n",
       "</g>\n",
       "<!-- (0, 2)&#45;&gt;(0, 2, 1) -->\n",
       "<g id=\"edge6\" class=\"edge\">\n",
       "<title>(0, 2)-&gt;(0, 2, 1)</title>\n",
       "<path fill=\"none\" stroke=\"black\" d=\"M247.65,-173.8C247.65,-162.16 247.65,-146.55 247.65,-133.24\"/>\n",
       "<polygon fill=\"black\" stroke=\"black\" points=\"251.15,-133.18 247.65,-123.18 244.15,-133.18 251.15,-133.18\"/>\n",
       "<text text-anchor=\"middle\" x=\"275.15\" y=\"-144.8\" font-family=\"Times New Roman,serif\" font-size=\"14.00\"> add:1 d:8</text>\n",
       "</g>\n",
       "<!-- (0, 2, 3) -->\n",
       "<g id=\"node8\" class=\"node\">\n",
       "<title>(0, 2, 3)</title>\n",
       "<ellipse fill=\"none\" stroke=\"black\" cx=\"344.65\" cy=\"-105\" rx=\"39.79\" ry=\"18\"/>\n",
       "<text text-anchor=\"middle\" x=\"344.65\" y=\"-101.3\" font-family=\"Times New Roman,serif\" font-size=\"14.00\">(0, 2, 3)</text>\n",
       "<text text-anchor=\"middle\" x=\"301.5\" y=\"-126.8\" font-family=\"Times New Roman,serif\" font-size=\"14.00\">7</text>\n",
       "</g>\n",
       "<!-- (0, 2)&#45;&gt;(0, 2, 3) -->\n",
       "<g id=\"edge7\" class=\"edge\">\n",
       "<title>(0, 2)-&gt;(0, 2, 3)</title>\n",
       "<path fill=\"none\" stroke=\"black\" d=\"M270.59,-180.07C282.12,-173.93 295.89,-165.59 306.65,-156 314.83,-148.71 322.44,-139.44 328.67,-130.86\"/>\n",
       "<polygon fill=\"black\" stroke=\"black\" points=\"331.57,-132.82 334.41,-122.62 325.82,-128.82 331.57,-132.82\"/>\n",
       "<text text-anchor=\"middle\" x=\"348.15\" y=\"-144.8\" font-family=\"Times New Roman,serif\" font-size=\"14.00\"> add:3 d:3</text>\n",
       "</g>\n",
       "<!-- (0, 1, 3, 2) -->\n",
       "<g id=\"node10\" class=\"node\">\n",
       "<title>(0, 1, 3, 2)</title>\n",
       "<ellipse fill=\"none\" stroke=\"black\" cx=\"150.65\" cy=\"-18\" rx=\"48.99\" ry=\"18\"/>\n",
       "<text text-anchor=\"middle\" x=\"150.65\" y=\"-14.3\" font-family=\"Times New Roman,serif\" font-size=\"14.00\">(0, 1, 3, 2)</text>\n",
       "<text text-anchor=\"middle\" x=\"94.9\" y=\"-39.8\" font-family=\"Times New Roman,serif\" font-size=\"14.00\">17</text>\n",
       "</g>\n",
       "<!-- (0, 1, 3)&#45;&gt;(0, 1, 3, 2) -->\n",
       "<g id=\"edge9\" class=\"edge\">\n",
       "<title>(0, 1, 3)-&gt;(0, 1, 3, 2)</title>\n",
       "<path fill=\"none\" stroke=\"black\" d=\"M150.65,-86.8C150.65,-75.16 150.65,-59.55 150.65,-46.24\"/>\n",
       "<polygon fill=\"black\" stroke=\"black\" points=\"154.15,-46.18 150.65,-36.18 147.15,-46.18 154.15,-46.18\"/>\n",
       "<text text-anchor=\"middle\" x=\"178.15\" y=\"-57.8\" font-family=\"Times New Roman,serif\" font-size=\"14.00\"> add:2 d:7</text>\n",
       "</g>\n",
       "<!-- (0, 2, 3, 1) -->\n",
       "<g id=\"node9\" class=\"node\">\n",
       "<title>(0, 2, 3, 1)</title>\n",
       "<ellipse fill=\"none\" stroke=\"black\" cx=\"344.65\" cy=\"-18\" rx=\"48.99\" ry=\"18\"/>\n",
       "<text text-anchor=\"middle\" x=\"344.65\" y=\"-14.3\" font-family=\"Times New Roman,serif\" font-size=\"14.00\">(0, 2, 3, 1)</text>\n",
       "<text text-anchor=\"middle\" x=\"288.9\" y=\"-39.8\" font-family=\"Times New Roman,serif\" font-size=\"14.00\">17</text>\n",
       "</g>\n",
       "<!-- (0, 2, 3)&#45;&gt;(0, 2, 3, 1) -->\n",
       "<g id=\"edge8\" class=\"edge\">\n",
       "<title>(0, 2, 3)-&gt;(0, 2, 3, 1)</title>\n",
       "<path fill=\"none\" stroke=\"black\" d=\"M344.65,-86.8C344.65,-75.16 344.65,-59.55 344.65,-46.24\"/>\n",
       "<polygon fill=\"black\" stroke=\"black\" points=\"348.15,-46.18 344.65,-36.18 341.15,-46.18 348.15,-46.18\"/>\n",
       "<text text-anchor=\"middle\" x=\"375.65\" y=\"-57.8\" font-family=\"Times New Roman,serif\" font-size=\"14.00\"> add:1 d:10</text>\n",
       "</g>\n",
       "</g>\n",
       "</svg>"
      ],
      "text/plain": [
       "<IPython.core.display.SVG object>"
      ]
     },
     "metadata": {},
     "output_type": "display_data"
    }
   ],
   "source": [
    "tour, distance = tsp_beam_search_visualized([0], distance_matrix_small, 2)"
   ]
  },
  {
   "cell_type": "code",
   "execution_count": 24,
   "metadata": {},
   "outputs": [
    {
     "name": "stdout",
     "output_type": "stream",
     "text": [
      "17\n"
     ]
    }
   ],
   "source": [
    "print(distance)"
   ]
  },
  {
   "cell_type": "markdown",
   "metadata": {
    "slideshow": {
     "slide_type": "slide"
    }
   },
   "source": [
    "## Beam Search ohne Visualisierung\n",
    "\n",
    "- zum Testen größerer Instanzen hier Code ohne Visualisierung:"
   ]
  },
  {
   "cell_type": "code",
   "execution_count": 25,
   "metadata": {
    "slideshow": {
     "slide_type": "slide"
    }
   },
   "outputs": [],
   "source": [
    "\n",
    "def tsp_beam_search(tour, distance_matrix, beam_width):\n",
    "        \n",
    "    total_distance = 0\n",
    "    \n",
    "    \n",
    "    # alle Zustandsknoten als Distanz-Tour-Tupel in der aktuellen Stufe / Ebene \n",
    "    dist_tours_current_stage = [(0, tour.copy())] \n",
    "    \n",
    "    for stage in range(0,len(distance_matrix)-1):\n",
    "        \n",
    "        dist_tours_next_stage = []\n",
    "        \n",
    "        for tour_dist, current_tour in dist_tours_current_stage:\n",
    "                  \n",
    "            #bestimme alle zulässigen Tourerweiterungen und deren Entfernungen\n",
    "            dist_candidate_tours = get_dist_feasible_candidate_tours(current_tour, tour_dist, distance_matrix)     \n",
    "            \n",
    "        \n",
    "            for candidate_tour_dist, candidate_tour in dist_candidate_tours:                         \n",
    "\n",
    "                dist_tours_next_stage.append( (candidate_tour_dist, candidate_tour) )\n",
    "                \n",
    "        dist_tours_current_stage = nsmallest(beam_width, dist_tours_next_stage)\n",
    "\n",
    "    \n",
    "    best_distance, best_tour  = min(dist_tours_current_stage)\n",
    "    return best_tour, best_distance"
   ]
  },
  {
   "cell_type": "markdown",
   "metadata": {
    "slideshow": {
     "slide_type": "fragment"
    }
   },
   "source": [
    "..probieren wir es aus:"
   ]
  },
  {
   "cell_type": "code",
   "execution_count": 26,
   "metadata": {},
   "outputs": [
    {
     "name": "stdout",
     "output_type": "stream",
     "text": [
      "8980\n"
     ]
    }
   ],
   "source": [
    "tour, distance = tsp_beam_search([0], distance_matrix, 1)\n",
    "\n",
    "print (distance)"
   ]
  },
  {
   "cell_type": "markdown",
   "metadata": {
    "slideshow": {
     "slide_type": "slide"
    }
   },
   "source": [
    "## Zwischenfazit: Baumsuche\n",
    "\n",
    "- Greedy kann als Baumsuch-Verfahren interpretiert werden\n",
    "- Breitensuche ist eine enumerative Baumsuche\n",
    "- Beam Search limitiert die Anzahl der untersuchten Zustände\n",
    "\n",
    "#### Beim nächsten Mal\n",
    "- interpretieren wir **rollout** als **heuristische Funktion** in einem **informierten** Suchverfahren\n",
    "- schauen wir, ob wir mit diesem Ansatz Beam Search verbessern können"
   ]
  }
 ],
 "metadata": {
  "celltoolbar": "Slideshow",
  "kernelspec": {
   "display_name": "Python [conda env:audprojekt2022]",
   "language": "python",
   "name": "conda-env-audprojekt2022-py"
  },
  "language_info": {
   "codemirror_mode": {
    "name": "ipython",
    "version": 3
   },
   "file_extension": ".py",
   "mimetype": "text/x-python",
   "name": "python",
   "nbconvert_exporter": "python",
   "pygments_lexer": "ipython3",
   "version": "3.9.12"
  },
  "toc": {
   "base_numbering": 1,
   "nav_menu": {},
   "number_sections": false,
   "sideBar": true,
   "skip_h1_title": false,
   "title_cell": "Table of Contents",
   "title_sidebar": "Contents",
   "toc_cell": false,
   "toc_position": {},
   "toc_section_display": true,
   "toc_window_display": false
  },
  "varInspector": {
   "cols": {
    "lenName": 16,
    "lenType": 16,
    "lenVar": 40
   },
   "kernels_config": {
    "python": {
     "delete_cmd_postfix": "",
     "delete_cmd_prefix": "del ",
     "library": "var_list.py",
     "varRefreshCmd": "print(var_dic_list())"
    },
    "r": {
     "delete_cmd_postfix": ") ",
     "delete_cmd_prefix": "rm(",
     "library": "var_list.r",
     "varRefreshCmd": "cat(var_dic_list()) "
    }
   },
   "types_to_exclude": [
    "module",
    "function",
    "builtin_function_or_method",
    "instance",
    "_Feature"
   ],
   "window_display": false
  }
 },
 "nbformat": 4,
 "nbformat_minor": 4
}
