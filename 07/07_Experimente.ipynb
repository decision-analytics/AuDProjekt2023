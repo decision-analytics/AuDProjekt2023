{
 "cells": [
  {
   "cell_type": "markdown",
   "metadata": {
    "slideshow": {
     "slide_type": "slide"
    }
   },
   "source": [
    "\n",
    "<img src=\"img/logo_wiwi.png\" width=\"25%\" align=\"left\">\n",
    "\n",
    "<img src=\"img/decision_analytics_logo.png\" width=\"17%\" align=\"right\">\n",
    "\n",
    "\n",
    "\n",
    "<br><br><br><br><br><br><br><br>\n",
    "\n",
    "\n",
    "\n",
    "# Algorithmen und Datenstrukturen(A+D)-Projekt \n",
    "\n",
    "**Sommersemester 2023**\n",
    "\n",
    "\n",
    "# 7. Experimente\n",
    "\n",
    "<br>\n",
    "\n",
    "<br>\n",
    "<br>\n",
    "\n",
    "**Michael Römer, Till Porrmann**\n",
    "\n",
    "Juniorprofessur für Decision Analytics  | Universität Bielefeld"
   ]
  },
  {
   "cell_type": "code",
   "execution_count": 1,
   "metadata": {
    "slideshow": {
     "slide_type": "skip"
    }
   },
   "outputs": [],
   "source": [
    "import matplotlib.pyplot as plt\n",
    "import numpy as np\n",
    "import pandas as pd\n",
    "from numba import njit"
   ]
  },
  {
   "cell_type": "markdown",
   "metadata": {
    "slideshow": {
     "slide_type": "slide"
    }
   },
   "source": [
    "## Was ist das Thema dieser Materialien?\n",
    "\n",
    "**Wir betrachten ein paar hilfreiche Techniken für das Durchführen und Auswerten von Experimenten mit Algorithmen**\n",
    "\n",
    "- Aufrufen mehrerer Instanzen und Algorithmen\n",
    "- Datenstrukturen für Ergebnisse\n",
    "- Aufbereiten der Ergebnisse mit `data frames`\n",
    "- Speichern von Ergebnissen in Dateien\n",
    "- Auslesen von Ergebnissen aus Dateien\n",
    "\n",
    "\n",
    "**Bitte beachten Sie:**\n",
    "\n",
    "Diese Materialien sollen Ihnen anhand von Beispielen einige Techniken zeigen, wie man Experimente durchführen kann und Ergebnisse sammel und aufbereiten kann.\n",
    "\n",
    "Sie können natürlich in Ihrem Projekt auch anders vorgehen.\n",
    "\n",
    "\n"
   ]
  },
  {
   "cell_type": "markdown",
   "metadata": {
    "slideshow": {
     "slide_type": "slide"
    }
   },
   "source": [
    "# Rückblick: Algorithmen für das TSP\n",
    "\n",
    "### Beachte: \n",
    "Wir haben hier alle Implementierungen der Algorithmen so geändert, dass `distance_matrix` das erste Argument ist"
   ]
  },
  {
   "cell_type": "markdown",
   "metadata": {
    "slideshow": {
     "slide_type": "slide"
    }
   },
   "source": [
    "## Das TSP als Beispiel\n",
    "\n",
    "Für das TSP haben wir \n",
    "- für viele Instanzen optimale Zielfunktionswerte: http://comopt.ifi.uni-heidelberg.de/software/TSPLIB95/STSP.html\n",
    "- das Python-Paket `python-tsp`, mit dem wir unsere Algorithmen vergleichen können (https://github.com/fillipe-gsm/python-tsp)\n",
    "- einige Algorithmen implementiert\n",
    "  - Nearest Neighbor\n",
    "  - Multistart Nearest Neighbor\n",
    "  - Informierter Greedy mit Rollout als heuristischer Funktion\n",
    "  - Beam Search (mit unterschiedlichen Breiten)\n",
    "  - Informiertes Beam Search (mit unterschiedlichen Breiten und limitierter Anwendung der Heuristik)"
   ]
  },
  {
   "cell_type": "markdown",
   "metadata": {
    "slideshow": {
     "slide_type": "slide"
    }
   },
   "source": [
    "**Wie können wir**\n",
    "- sinnvoll mit mehreren (z.B. > 10) Instanzen experimentieren?\n",
    "- die Ergebnisse in Dateien speichern und aufbereiten?"
   ]
  },
  {
   "cell_type": "markdown",
   "metadata": {
    "slideshow": {
     "slide_type": "slide"
    }
   },
   "source": [
    "# Code mit unseren bisherigen Algorithmen / Varianten"
   ]
  },
  {
   "cell_type": "code",
   "execution_count": 2,
   "metadata": {
    "slideshow": {
     "slide_type": "-"
    }
   },
   "outputs": [],
   "source": [
    "from python_tsp.distances import tsplib_distance_matrix\n",
    "\n",
    "#tsplib_file = \"./../problems/tsp/instances/gr48.tsp\" # optimale Lösung 5046 (lt. http://comopt.ifi.uni-heidelberg.de/software/TSPLIB95/STSP.html)\n",
    "#tsplib_file = \"./../problems/tsp/instances/brazil58.tsp\" # optimale Lösung 25395 (lt. http://comopt.ifi.uni-heidelberg.de/software/TSPLIB95/STSP.html)\n",
    "tsplib_file = \"./../problems/tsp/instances/berlin52.tsp\" # optimale Lösung 7542 (lt. http://comopt.ifi.uni-heidelberg.de/software/TSPLIB95/STSP.html)\n",
    "\n",
    "distance_matrix = tsplib_distance_matrix(tsplib_file)"
   ]
  },
  {
   "cell_type": "markdown",
   "metadata": {
    "slideshow": {
     "slide_type": "slide"
    }
   },
   "source": [
    "## Eine Routine zum Evaluieren einer Lösung\n",
    "\n",
    "- immer wenn man nicht-triviale Algorithmen für Optimierungsprobleme entwickelt, sollte man einen \"Solution-Checker\" schreiben / nutzen"
   ]
  },
  {
   "cell_type": "code",
   "execution_count": 3,
   "metadata": {
    "slideshow": {
     "slide_type": "-"
    }
   },
   "outputs": [],
   "source": [
    "def evaluate_tsp_solution(distance_matrix, permutation):\n",
    "    n = len(distance_matrix)\n",
    "    if len(permutation) != n:\n",
    "        print (\"Wrong number of nodes\")\n",
    "        return -1\n",
    "     # Menge der Lösungsindizes muss = der Menge der Indizes von 0 bis n-1 sein\n",
    "    if set(permutation) != set(range(n)):\n",
    "        print (\"Not a proper permutation!\")\n",
    "        return  -1\n",
    "    \n",
    "    total_distance = 0\n",
    "    for i in range(n):\n",
    "        if i < n-1:\n",
    "            total_distance += distance_matrix[permutation[i],permutation[i+1]]\n",
    "        else:\n",
    "            total_distance += distance_matrix[permutation[i],permutation[0]]   \n",
    "            \n",
    "    return total_distance    "
   ]
  },
  {
   "cell_type": "code",
   "execution_count": 4,
   "metadata": {
    "slideshow": {
     "slide_type": "slide"
    }
   },
   "outputs": [],
   "source": [
    "def print_obj_and_eval_tsp_solution(distance_matrix, tour, distance):\n",
    "    \n",
    "    eval_distance = evaluate_tsp_solution(distance_matrix, tour)\n",
    "    \n",
    "    if distance == eval_distance:\n",
    "        print (\"Solution feasible, distance is: \", distance)\n",
    "    elif eval_distance < 0:\n",
    "        print(\"Solution infeasible\")\n",
    "    else: \n",
    "        print(\"Solution feasible, wrong distance: \", distance, \" evaluation gave \", eval_distance)"
   ]
  },
  {
   "cell_type": "markdown",
   "metadata": {
    "slideshow": {
     "slide_type": "slide"
    }
   },
   "source": [
    "## Nearest Neighbor als Greedy-Verfahren für das TSP: Hilfsfunktion\n"
   ]
  },
  {
   "cell_type": "code",
   "execution_count": 5,
   "metadata": {},
   "outputs": [],
   "source": [
    "@njit\n",
    "def get_dist_feasible_candidate_tours(tour, total_distance, distance_matrix):\n",
    "    \n",
    "    dist_candidate_tour = []\n",
    "    for neighbor, distance in enumerate(distance_matrix[tour[-1]]):\n",
    "        if neighbor in tour:\n",
    "            continue\n",
    "        \n",
    "        candidate_tour = tour + [neighbor]\n",
    "        \n",
    "        if len(candidate_tour) == len(distance_matrix):\n",
    "            distance += distance_matrix[neighbor, tour[0]]\n",
    "        \n",
    "        total_distance_candidate_tour = total_distance + distance\n",
    "        dist_candidate_tour.append((total_distance_candidate_tour, candidate_tour))\n",
    "        \n",
    "        \n",
    "    return dist_candidate_tour\n"
   ]
  },
  {
   "cell_type": "code",
   "execution_count": 6,
   "metadata": {
    "slideshow": {
     "slide_type": "-"
    }
   },
   "outputs": [],
   "source": [
    "@njit\n",
    "def tsp_greedy(distance_matrix, tour):\n",
    "        \n",
    "    total_distance = 0\n",
    "    \n",
    "    #solange die sequenz noch nicht alle Knoten umfasst\n",
    "    while len(tour) < len(distance_matrix):    \n",
    "        \n",
    "        #bestimme alle zulässigen Nachbarn und deren Entfernungen\n",
    "        dist_candidate_tours = get_dist_feasible_candidate_tours(tour, total_distance, distance_matrix)   \n",
    "        \n",
    "        # bestimme das minimale Tupel (der erste Wert des Tupels, d.h. die Distance, wird automatisch genutzt)\n",
    "        distance_best_candidate_tour, best_candidate_tour = min(dist_candidate_tours)\n",
    "        \n",
    "        tour = best_candidate_tour\n",
    "        total_distance = distance_best_candidate_tour    \n",
    "        \n",
    "\n",
    "    return tour, total_distance"
   ]
  },
  {
   "cell_type": "markdown",
   "metadata": {
    "slideshow": {
     "slide_type": "slide"
    }
   },
   "source": [
    "## Nearest Neighbor als Greedy-Verfahren für das TSP: Hauptfunktion\n",
    "\n",
    "- die Hauptfunktion `tsp_greedy` sieht dann auch leicht anders aus:\n",
    "  - beachte: der erste Parameter ist eine Tour!\n",
    "  - und: durch die Verwendung des tupels `(distance, tour)` für jeden Nachbarn können wir einfach das Minimum aus der Liste der Tupel suchen (denn das erste Element wird zum Vergleich zuerst herangezogen)"
   ]
  },
  {
   "cell_type": "markdown",
   "metadata": {
    "slideshow": {
     "slide_type": "slide"
    }
   },
   "source": [
    "## Erste Verbesserungsidee: Multi-Start-Greedy\n",
    "\n",
    "- das Ergebnis der Greedy-Heuristik ist offenbar nicht sehr gut\n",
    "- **aber:** die Greedy-Heuristik ist schnell - es ist nicht teuer, sie aufzurufen\n",
    "  - dies kann man nutzen, um verbesserte Heuristiken \"um Greedy-Vefahren herum\" zu bauen\n",
    "\n",
    "**Erste einfache Idee: Starte Greedy mit verschiedenen (allen) Startknoten** \n",
    "- die Nearest-Neighbor-Heuristik hat für unterschiedliche Startpunkte unterschiedliche Werte\n",
    "\n"
   ]
  },
  {
   "cell_type": "code",
   "execution_count": 7,
   "metadata": {
    "slideshow": {
     "slide_type": "-"
    }
   },
   "outputs": [],
   "source": [
    "def tsp_greedy_multi_start(distance_matrix):\n",
    "    best_distance = 999999\n",
    "    best_tour = None\n",
    "    for start_node in range(len(distance_matrix)):\n",
    "        tour, distance = tsp_greedy(distance_matrix, [start_node])\n",
    "        if distance < best_distance:\n",
    "            best_distance = distance\n",
    "            best_tour = tour         \n",
    "\n",
    "    return best_tour, best_distance  "
   ]
  },
  {
   "cell_type": "markdown",
   "metadata": {
    "slideshow": {
     "slide_type": "slide"
    }
   },
   "source": [
    "# Beam Search: Einschränkung der Breitensuche\n",
    "\n",
    "- Idee: ein Kompromiss zwischen Greedy und Breitensuche\n",
    "- übernimm auf jeder Stufe nur eine bestimmte Anzahl (beam-width) von Zustandsknoten\n",
    "  - Auswahl z.B. auf Basis von Distanz der Tour\n",
    "- hier einfache Implementierung mit der Funktion `nsmallest` aus dem Paket `heapq`"
   ]
  },
  {
   "cell_type": "code",
   "execution_count": 8,
   "metadata": {
    "slideshow": {
     "slide_type": "slide"
    }
   },
   "outputs": [],
   "source": [
    "from heapq import nsmallest\n",
    "def tsp_beam_search(distance_matrix, tour,  beam_width):\n",
    "        \n",
    "    total_distance = 0\n",
    "    \n",
    "    \n",
    "    # alle Zustandsknoten als Distanz-Tour-Tupel in der aktuellen Stufe / Ebene \n",
    "    dist_tours_current_stage = [(0, tour.copy())] \n",
    "    \n",
    "    for stage in range(0,len(distance_matrix)-1):\n",
    "        \n",
    "        dist_tours_next_stage = []\n",
    "        \n",
    "        for tour_dist, current_tour in dist_tours_current_stage:\n",
    "                  \n",
    "            #bestimme alle zulässigen Tourerweiterungen und deren Entfernungen\n",
    "            dist_candidate_tours = get_dist_feasible_candidate_tours(current_tour, tour_dist, distance_matrix)     \n",
    "            \n",
    "        \n",
    "            for candidate_tour_dist, candidate_tour in dist_candidate_tours:                         \n",
    "\n",
    "                dist_tours_next_stage.append( (candidate_tour_dist, candidate_tour) )\n",
    "                \n",
    "        dist_tours_current_stage = nsmallest(beam_width, dist_tours_next_stage)\n",
    "    \n",
    "    best_distance, best_tour  = min(dist_tours_current_stage)\n",
    "    return best_tour, best_distance"
   ]
  },
  {
   "cell_type": "markdown",
   "metadata": {
    "slideshow": {
     "slide_type": "slide"
    }
   },
   "source": [
    "## Greedy mit Rollout als Beispiel für die Nutzung einer heuristischen Funktion (für das TSP)\n",
    "\n",
    "- wir haben bereits eine einfaches Beispiel für eine heuristische Funktion kennengelernt:\n",
    "- **Rollout**, wobei eine Greedy-Algroithmus von jedem Kandidatenzustand bis zum Ende ausgeführt wird, um eine **Abschätzung** des zukünftigen Wertes jedes Kandidaten zu erhalten!\n",
    "\n",
    "- die folgende Funktion erhält einen Zustand (d.h. eine Teil-Tour) und eine Distanzmatrix und gibt die Kosten den Greedy bi zum Ende zurück (beachte: die \"bisherigen\" Kosten fließen nicht ein!)"
   ]
  },
  {
   "cell_type": "code",
   "execution_count": 9,
   "metadata": {
    "slideshow": {
     "slide_type": "-"
    }
   },
   "outputs": [],
   "source": [
    "@njit # Abschätzung mittels \"Ausrollen\" des Greedy vom \"jetzigen\" Zustand\n",
    "def heuristic_rollout(distance_matrix, tour):\n",
    "    _, distance = tsp_greedy(distance_matrix, tour)\n",
    "    return distance"
   ]
  },
  {
   "cell_type": "markdown",
   "metadata": {
    "slideshow": {
     "slide_type": "slide"
    }
   },
   "source": [
    "## Greedy mit einer heuristischen Funktion zur Auswahl (Rollout)\n",
    "\n",
    "- wir stellen nun eine allgemeine Implementierung für die Verwendung einer heuristischen Funktion vor\n",
    "\n",
    "- der letzte Parameter `heuristic function` ist eine **Funktion**, d.h. wir können eine beliebige Funktion nutzen\n",
    "  - wir werden dann die Funktion `heuristic_rollout` übergeben"
   ]
  },
  {
   "cell_type": "code",
   "execution_count": 10,
   "metadata": {
    "slideshow": {
     "slide_type": "-"
    }
   },
   "outputs": [],
   "source": [
    "@njit\n",
    "def tsp_greedy_with_heuristic(distance_matrix, tour, heuristic_function = heuristic_rollout):\n",
    "    \n",
    "    total_distance = 0\n",
    "    \n",
    "    #solange die sequenz noch nicht alle Knoten umfasst\n",
    "    while len(tour) < len(distance_matrix):  \n",
    "        \n",
    "        #bestimme für alle zulässigen Nachbarn die Teil-Touren deren Entfernungen\n",
    "        dist_candidate_tours = get_dist_feasible_candidate_tours(tour, total_distance, distance_matrix)   \n",
    "        \n",
    "        # berechne für alle Kandidaten-Touren mit Hilfe der Heuristik den Wert f(n) = g(n)+h(n)\n",
    "        # estimates_candidates_tours gibt uns für jede Kandidatentour ein Triple (f(n), g(n), tour), d.h. (estimate, dist, tour)    \n",
    "        estimates_candidate_tours = get_estimates_candidate_tours(dist_candidate_tours, distance_matrix, heuristic_function)\n",
    "    \n",
    "        # bestimme das minimale Tupel (der erste Wert des Tupels, d.h. die Abschätzung f(x), wird automatisch genutzt)\n",
    "        estimate_best_candidate_tour, dist_best_candidate_tour, best_candidate_tour = min(estimates_candidate_tours)\n",
    "        \n",
    "        tour = best_candidate_tour\n",
    "        total_distance = dist_best_candidate_tour # wichtig: Hier nicht das estimate, sondern die Distanz (g(n))   \n",
    "        \n",
    "        \n",
    "    return tour, total_distance"
   ]
  },
  {
   "cell_type": "markdown",
   "metadata": {
    "slideshow": {
     "slide_type": "slide"
    }
   },
   "source": [
    "## Die Hilfsfunktion `get_estimates_candidate_tours`\n",
    "\n",
    "..berechnet mit Hilfe einer heuristischen Funktion `heuristic_function` ($h(n)$) für jede Kandidatentour $n$ die geschätzte Gesamtlänge $f(n) = g(n) + h(n)$ \n",
    "\n",
    "Parameter: \n",
    "- Liste mit Tupeln `(dist, tour`) für alle Kandidaten\n",
    "- Distanzmatrix \n",
    "- eine heuristische Funktion `heuristic_function`\n",
    "\n",
    "Rückgabe:\n",
    "- Liste mit 3-Tupeln (triples) `(estimate, dist, tour)` für jede Kandidatentour\n"
   ]
  },
  {
   "cell_type": "code",
   "execution_count": 11,
   "metadata": {
    "slideshow": {
     "slide_type": "-"
    }
   },
   "outputs": [],
   "source": [
    "@njit\n",
    "def get_estimates_candidate_tours(dist_candidate_tours, distance_matrix, heuristic_function):\n",
    "    \n",
    "    estimates_candidate_tours = []\n",
    "    for dist, candidate_tour in dist_candidate_tours:\n",
    "        heuristic_value = heuristic_function(distance_matrix, candidate_tour)\n",
    "        estimate = dist + heuristic_value\n",
    "        estimates_candidate_tours.append((estimate, dist, candidate_tour))\n",
    "        \n",
    "    return estimates_candidate_tours"
   ]
  },
  {
   "cell_type": "markdown",
   "metadata": {
    "slideshow": {
     "slide_type": "slide"
    }
   },
   "source": [
    "## Nun haben wir alles beisammen für ein \"informiertes Greedy\" / Greedy mit Heuristischer Funktion:\n",
    "\n",
    "..probieren wir es aus!"
   ]
  },
  {
   "cell_type": "code",
   "execution_count": 48,
   "metadata": {
    "scrolled": true,
    "slideshow": {
     "slide_type": "-"
    }
   },
   "outputs": [
    {
     "name": "stdout",
     "output_type": "stream",
     "text": [
      "8042\n"
     ]
    }
   ],
   "source": [
    "tour, distance = tsp_greedy_with_heuristic(distance_matrix, [0])\n",
    "\n",
    "print (distance)"
   ]
  },
  {
   "cell_type": "code",
   "execution_count": 13,
   "metadata": {
    "slideshow": {
     "slide_type": "slide"
    }
   },
   "outputs": [],
   "source": [
    "@njit\n",
    "def tsp_informed_beam_search(distance_matrix, tour, beam_width, heuristic_function):\n",
    "        \n",
    "    total_distance = 0\n",
    "    \n",
    "    # alle Zustandsknoten als Estimate-Distanz-Tour-Tupel in der aktuellen Stufe / Ebene \n",
    "    estimate_tours_current_stage = [(0, 0, tour)] \n",
    "    \n",
    "    for stage in range(0,len(distance_matrix)-1):\n",
    "        \n",
    "        estimate_tours_next_stage = []\n",
    "        \n",
    "        for tour_estimate, tour_dist, current_tour in estimate_tours_current_stage:\n",
    "                  \n",
    "            #bestimme alle zulässigen Tourerweiterungen und deren Entfernungen\n",
    "            dist_candidate_tours = get_dist_feasible_candidate_tours(current_tour, tour_dist, distance_matrix)  \n",
    "            \n",
    "            # berechne für alle Kandidaten-Touren mit Hilfe der Heuristik den Wert f(n) = g(n)+h(n)\n",
    "            # estimates_candidates_tours gibt uns für jede Kandidatentour ein Triple (f(n), g(n), tour), d.h. (estimate, dist, tour)    \n",
    "            estimates_candidate_tours = get_estimates_candidate_tours(dist_candidate_tours, distance_matrix, heuristic_function)\n",
    "        \n",
    "            for estimate_candidate_tour, dist_candidate_tour, candidate_tour in estimates_candidate_tours:                         \n",
    "\n",
    "                estimate_tours_next_stage.append( (estimate_candidate_tour, dist_candidate_tour, candidate_tour) )\n",
    "        \n",
    "        # wähle die besten aus zur Betrachtung in der nächsten Stufe!\n",
    "        estimate_tours_current_stage = nsmallest(beam_width, estimate_tours_next_stage)\n",
    "        #print (stage, estimate_tours_current_stage)\n",
    "        \n",
    "    best_estimate, best_distance, best_tour  = min(estimate_tours_current_stage)\n",
    "    return best_tour, best_distance"
   ]
  },
  {
   "cell_type": "markdown",
   "metadata": {
    "slideshow": {
     "slide_type": "slide"
    }
   },
   "source": [
    "## Informierte Suche mit begrenzter Anwendung der Heuristik\n",
    "\n",
    "#### Beobachtung:\n",
    "\n",
    "- wenn man in jedem Suchknoten einmal einen kompletten Greedy **für jeden Nachbarn / Kandidaten** ausführt, dann ist das sehr aufwändig!\n",
    "- insbesondere wird auch für \"Nachbarn\", die sehr weit weg liegen, trotzdem der Rollout durchgführt\n",
    "\n",
    "#### Idee: Limitiere die Anwendung der Heuristik auf \"vielversprechende Fälle\"\n",
    "- wir führen einen Parameter `no_candidates_for_heuristic` ein, der besagt, wie viele Nachbarn maximal mittels Heuristik betrachtet werden solln\n",
    "- und betrachten nur die `no_candidates_for_heuristic` Nachbarn / Kandidaten, die nach dem Kriterium $g(n)$ (hier: Distanz der Teiltour bis zum Kandidaten) am besten sind:\n",
    "\n",
    "#### Anmerkung:\n",
    "\n",
    "Bertsekas nennt diese Idee im Kontext von Rollout  **simplified rollout** (siehe A+D-Projekt vom letzten Jahr)\n"
   ]
  },
  {
   "cell_type": "code",
   "execution_count": 14,
   "metadata": {},
   "outputs": [],
   "source": [
    "@njit\n",
    "def get_estimates_candidate_tours_limited(dist_candidate_tours, distance_matrix, heuristic_function, no_candidates_for_heuristic):\n",
    "    \n",
    "    estimates_candidate_tours = []\n",
    "    \n",
    "    # hier erfolgt die Auswahl der zu betrachtenden Kandidaten anhand der Distanz \n",
    "    # beachte: gleiche logik mit nsmallest wie schon oben\n",
    "    dist_candidate_tours_limited = nsmallest(no_candidates_for_heuristic, dist_candidate_tours )\n",
    "    \n",
    "    for dist, candidate_tour in dist_candidate_tours_limited:\n",
    "        heuristic_value = heuristic_function(distance_matrix, candidate_tour)\n",
    "        estimate = dist + heuristic_value\n",
    "        estimates_candidate_tours.append((estimate, dist, candidate_tour))\n",
    "        \n",
    "    return estimates_candidate_tours"
   ]
  },
  {
   "cell_type": "markdown",
   "metadata": {
    "slideshow": {
     "slide_type": "slide"
    }
   },
   "source": [
    "## Begrenzte Anwendung der Heuristik bei Greedy"
   ]
  },
  {
   "cell_type": "code",
   "execution_count": 15,
   "metadata": {
    "slideshow": {
     "slide_type": "-"
    }
   },
   "outputs": [],
   "source": [
    "@njit\n",
    "def tsp_greedy_with_heuristic_limited(distance_matrix, tour, heuristic_function, no_candidates_for_heuristic):\n",
    "    \n",
    "    total_distance = 0\n",
    "    \n",
    "    #solange die sequenz noch nicht alle Knoten umfasst\n",
    "    while len(tour) < len(distance_matrix):    \n",
    "        \n",
    "        #bestimme alle zulässigen Nachbarn und deren Entfernungen\n",
    "        dist_candidate_tours = get_dist_feasible_candidate_tours(tour, total_distance, distance_matrix)   \n",
    "        \n",
    "        \n",
    "        estimates_candidate_tours = get_estimates_candidate_tours_limited(dist_candidate_tours, distance_matrix, heuristic_function, no_candidates_for_heuristic)\n",
    "    \n",
    "        # bestimme das minimale Tupel (der erste Wert des Tupels, d.h. die Distance, wird automatisch genutzt)\n",
    "        estimate_best_candidate_tour, dist_best_candidate_tour, best_candidate_tour = min(estimates_candidate_tours)\n",
    "        \n",
    "        tour = best_candidate_tour\n",
    "        total_distance = dist_best_candidate_tour    \n",
    "        \n",
    "        \n",
    "    return tour, total_distance"
   ]
  },
  {
   "cell_type": "markdown",
   "metadata": {},
   "source": [
    "..Test:"
   ]
  },
  {
   "cell_type": "code",
   "execution_count": 47,
   "metadata": {},
   "outputs": [
    {
     "data": {
      "text/plain": [
       "7970"
      ]
     },
     "execution_count": 47,
     "metadata": {},
     "output_type": "execute_result"
    }
   ],
   "source": [
    "tsp_greedy_with_heuristic_limited(distance_matrix, [1], heuristic_rollout, 10)[1]"
   ]
  },
  {
   "cell_type": "markdown",
   "metadata": {},
   "source": [
    "## Begrenzte Anwendung der Heuristik in Beam Search"
   ]
  },
  {
   "cell_type": "code",
   "execution_count": 17,
   "metadata": {},
   "outputs": [],
   "source": [
    "@njit\n",
    "def tsp_informed_beam_search_limited(distance_matrix, tour, beam_width, heuristic_function, no_candidates_for_heuristic):\n",
    "        \n",
    "    total_distance = 0\n",
    "    \n",
    "    # alle Zustandsknoten als Estimate-Distanz-Tour-Tupel in der aktuellen Stufe / Ebene \n",
    "    estimate_tours_current_stage = [(0, 0, tour)] \n",
    "    \n",
    "    for stage in range(0,len(distance_matrix)-1):\n",
    "        \n",
    "        estimate_tours_next_stage = []\n",
    "        \n",
    "        for tour_estimate, tour_dist, current_tour in estimate_tours_current_stage:\n",
    "                  \n",
    "            #bestimme alle zulässigen Tourerweiterungen und deren Entfernungen\n",
    "            dist_candidate_tours = get_dist_feasible_candidate_tours(current_tour, tour_dist, distance_matrix)  \n",
    "\n",
    "            estimates_candidate_tours = get_estimates_candidate_tours_limited(dist_candidate_tours, distance_matrix, heuristic_function, no_candidates_for_heuristic)\n",
    "            \n",
    "            for estimate_candidate_tour, dist_candidate_tour, candidate_tour in estimates_candidate_tours:                  \n",
    "                estimate_tours_next_stage.append( (estimate_candidate_tour, dist_candidate_tour, candidate_tour) )\n",
    "              \n",
    "        estimate_tours_current_stage = nsmallest(beam_width, estimate_tours_next_stage)\n",
    "\n",
    "    best_estimate, best_distance, best_tour  = min(estimate_tours_current_stage)\n",
    "    return best_tour, best_distance"
   ]
  },
  {
   "cell_type": "markdown",
   "metadata": {
    "slideshow": {
     "slide_type": "slide"
    }
   },
   "source": [
    "# Experimente und deren Auswertung"
   ]
  },
  {
   "cell_type": "markdown",
   "metadata": {
    "slideshow": {
     "slide_type": "slide"
    }
   },
   "source": [
    "## Herausforderungen für die Auswertung\n",
    "\n",
    "**Wir wollen:**\n",
    "- nicht nur eine, sondern mehrere Instanzen testen\n",
    "  - ohne jedes Mal jede Zelle des Notebooks laufen zu lassen\n",
    "- die Ergebnisse in Dateien speichern\n",
    "  - Läufe können länger dauern und an verschiedenen Tagen passieren\n",
    "  - die Auswertung kann später gemacht wercen\n",
    "- damit umgehen, dass es nicht nur verschiedene Algorithmen, sondern auch Varianten und paramtrisierte Algorithmen gibt\n",
    "  - z.B. Anzahl betrachteter Knote / Zustände (`beam width`) bei Beam Search, Limit für die Anwendung von Heuristiken in der informierten Suche\n",
    "- sinnvolle Tabellen erstellen\n",
    "  - Ergebnisse und Laufzeiten\n",
    "  - Zusammenfassung / Normierung von Ergebnissen mittes Abstand zur optimalen Lösung\n"
   ]
  },
  {
   "cell_type": "markdown",
   "metadata": {
    "slideshow": {
     "slide_type": "slide"
    }
   },
   "source": [
    "## Mehrere Algorithmen laufen lassen\n",
    "\n",
    "- wir schreiben eine Funktion, die \n",
    "  - für eine Instanz mehrere Algorithmen aufruft\n",
    "  - und die Ergebnisse über print-statements ausgibt\n",
    "  "
   ]
  },
  {
   "cell_type": "code",
   "execution_count": 21,
   "metadata": {
    "slideshow": {
     "slide_type": "-"
    }
   },
   "outputs": [],
   "source": [
    "from timeit import default_timer as timer\n",
    "\n",
    "def run_algorithms(instance_name):\n",
    "    \n",
    "    tsplib_file = \"./../problems/tsp/instances/\" + instance_name + \".tsp\" # optimale Lösung 7542 (lt. http://comopt.ifi.uni-heidelberg.de/software/TSPLIB95/STSP.html)\n",
    "    distance_matrix = tsplib_distance_matrix(tsplib_file)\n",
    "    print (\"Instanz\", instance_name)\n",
    "    print (\"Nodes\", len(distance_matrix))\n",
    "    \n",
    "    print(\"Nearest Neighbor:\")\n",
    "    starttime = timer()    \n",
    "    permutation_nn, distance_nn = tsp_greedy(distance_matrix, [0])\n",
    "    print_obj_and_eval_tsp_solution(distance_matrix, permutation_nn, distance_nn )\n",
    "    print(f\"Time: {timer()- starttime:0.5f}\")\n",
    "    \n",
    "    print(\"Mutltistart Nearest Neighbor:\")\n",
    "    starttime = timer()    \n",
    "    permutation_nn, distance_nn = tsp_greedy_multi_start(distance_matrix)\n",
    "    print_obj_and_eval_tsp_solution(distance_matrix, permutation_nn, distance_nn )\n",
    "    print(f\"Time: {timer()- starttime:0.5f}\")\n",
    "    \n",
    "    print(\"Beam Search Width 20\")\n",
    "    starttime = timer()    \n",
    "    permutation_nn, distance_nn  = tsp_beam_search(distance_matrix, [0], 20)\n",
    "    print_obj_and_eval_tsp_solution(distance_matrix, permutation_nn, distance_nn )\n",
    "    print(f\"Time: {timer()- starttime:0.3f}\")\n",
    "     \n",
    "    \n",
    "    print(\"Informed Beam Search Width 20\")\n",
    "    starttime = timer()    \n",
    "    permutation_nn, distance_nn  = tsp_informed_beam_search(distance_matrix, [0], 20, heuristic_rollout)\n",
    "    print_obj_and_eval_tsp_solution(distance_matrix, permutation_nn, distance_nn )\n",
    "    print(f\"Time: {timer()- starttime:0.3f}\")\n",
    "    \n",
    "    \n",
    "    print(\"Informed Beam Search Width 20 Limited HeurEvals 10\")\n",
    "    starttime = timer()    \n",
    "    permutation_nn, distance_nn  = tsp_informed_beam_search_limited(distance_matrix, [0], 20, heuristic_rollout,10)\n",
    "    print_obj_and_eval_tsp_solution(distance_matrix, permutation_nn, distance_nn )\n",
    "    print(f\"Time: {timer()- starttime:0.3f}\")\n",
    "    "
   ]
  },
  {
   "cell_type": "code",
   "execution_count": 23,
   "metadata": {
    "slideshow": {
     "slide_type": "-"
    }
   },
   "outputs": [
    {
     "name": "stdout",
     "output_type": "stream",
     "text": [
      "Instanz berlin52\n",
      "Nodes 52\n",
      "Nearest Neighbor:\n",
      "Solution feasible, distance is:  8980\n",
      "Time: 0.00087\n",
      "Mutltistart Nearest Neighbor:\n",
      "Solution feasible, distance is:  8181\n",
      "Time: 0.03850\n",
      "Beam Search Width 20\n",
      "Solution feasible, distance is:  10129\n",
      "Time: 0.084\n",
      "Informed Beam Search Width 20\n",
      "Solution feasible, distance is:  8002\n",
      "Time: 7.728\n",
      "Informed Beam Search Width 20 Limited HeurEvals 10\n",
      "Solution feasible, distance is:  7997\n",
      "Time: 2.092\n"
     ]
    }
   ],
   "source": [
    "run_algorithms(\"berlin52\")"
   ]
  },
  {
   "cell_type": "markdown",
   "metadata": {
    "slideshow": {
     "slide_type": "slide"
    }
   },
   "source": [
    "## Eine Funktion zum Experimentieren mit mehreren Instanzen\n",
    "- wir möchten nicht  nur eine, sondern mehrere Instanzen testen"
   ]
  },
  {
   "cell_type": "code",
   "execution_count": 25,
   "metadata": {
    "slideshow": {
     "slide_type": "-"
    }
   },
   "outputs": [],
   "source": [
    "def run_algorithms_on_instances(instance_names):\n",
    "\n",
    "    for instance_name in instance_names: \n",
    "        run_algorithms(instance_name)\n",
    "        "
   ]
  },
  {
   "cell_type": "code",
   "execution_count": 27,
   "metadata": {
    "slideshow": {
     "slide_type": "-"
    }
   },
   "outputs": [
    {
     "name": "stdout",
     "output_type": "stream",
     "text": [
      "Instanz berlin52\n",
      "Nodes 52\n",
      "Nearest Neighbor:\n",
      "Solution feasible, distance is:  8980\n",
      "Time: 0.00077\n",
      "Mutltistart Nearest Neighbor:\n",
      "Solution feasible, distance is:  8181\n",
      "Time: 0.03346\n",
      "Beam Search Width 20\n",
      "Solution feasible, distance is:  10129\n",
      "Time: 0.088\n",
      "Informed Beam Search Width 20\n",
      "Solution feasible, distance is:  8002\n",
      "Time: 8.009\n",
      "Informed Beam Search Width 20 Limited HeurEvals 10\n",
      "Solution feasible, distance is:  7997\n",
      "Time: 1.959\n",
      "Instanz gr48\n",
      "Nodes 48\n",
      "Nearest Neighbor:\n",
      "Solution feasible, distance is:  6098\n",
      "Time: 0.00060\n",
      "Mutltistart Nearest Neighbor:\n",
      "Solution feasible, distance is:  5840\n",
      "Time: 0.02334\n",
      "Beam Search Width 20\n",
      "Solution feasible, distance is:  6372\n",
      "Time: 0.065\n",
      "Informed Beam Search Width 20\n",
      "Solution feasible, distance is:  5464\n",
      "Time: 5.457\n",
      "Informed Beam Search Width 20 Limited HeurEvals 10\n",
      "Solution feasible, distance is:  5482\n",
      "Time: 1.594\n"
     ]
    }
   ],
   "source": [
    "run_algorithms_on_instances([\"berlin52\", \"gr48\"])  "
   ]
  },
  {
   "cell_type": "markdown",
   "metadata": {
    "slideshow": {
     "slide_type": "slide"
    }
   },
   "source": [
    "## Daten strukturiert erfassen\n",
    "\n",
    "- im obigen Code wurden die Daten relativ unstrukturiert ausgegeben\n",
    "- man kann dann die Daten zwar per copy/paste \"herausschreiben\", das ist jedoch relativ aufwändig und umständlich\n",
    "\n",
    "**Neuer Ansatz:**\n",
    "- wir sammeln die Daten für jeden Lauf eines Algorithmus in einem `dict` mit den folgenden Daten\n",
    "  - Instance\n",
    "  - Algorithm\n",
    "  - verwendete Parameter\n",
    "  - Objective\n",
    "  - Time\n",
    "- fügen all diese Ergebnisse zusammen\n",
    "- und bilden daraus einen `dataframe`\n",
    "  \n",
    " "
   ]
  },
  {
   "cell_type": "markdown",
   "metadata": {
    "slideshow": {
     "slide_type": "slide"
    }
   },
   "source": [
    "## Daten strukturiert erfassen: Funktion, die einen Algorithmus ausführt und ein `dict` zurückgibt\n",
    "\n",
    "Die folgende Funktion `run_algorithm_with_parameters` hat folgende Argumente:\n",
    "- den Namen der Instanz\n",
    "- die Funktion, die ausgeführt werden soll \n",
    "- ein `dict` `algorithm_parameters`mit den Parametern der Funktion (alle außer der Distanzmatrix) \n",
    "  - Beispiel: `{ \"tour\" : [0] }` für den Greedy-Algorithmus wird der Funktionsparameter `tour` (die zunächst nur den Start-Knoten enthält), als `[0]` festgelegt\n",
    "  - wichtig: Parameter-Name ist ein string!\n",
    "\n",
    "Auf diese Weise können **unterschiedliche Algorithmen**, die insbesondere eine  **unterschiedliche Anzahl an Parametern haben können**, einheitlich aufgerufen werden\n",
    " \n",
    "\n",
    "Die Funktion führt den Algorithmus aus\n",
    "- der Ausdruck `**algorithm_parameters` beim Aufruf der Funktion \"entpackt\" das dict so, dass die Elemente des `dict` als Funktionsparameter genutzt werden\n",
    "- wichtig: die `keys` des `dict` müssen genau so heißen wie die Parameter der Algorithmen-Funktion!\n",
    "\n",
    "Schließlich gibt die Funktion ein `dict` zurück mit den wichtigsten Ergebnissen"
   ]
  },
  {
   "cell_type": "code",
   "execution_count": 28,
   "metadata": {
    "slideshow": {
     "slide_type": "-"
    }
   },
   "outputs": [],
   "source": [
    "def run_algorithm_with_parameters(instance_name, function_algorithm, algorithm_parameters):\n",
    "    \n",
    "    ## hier ggf den Dateipfad anpassen\n",
    "    tsplib_file = \"./../problems/tsp/instances/\" + instance_name +\".tsp\" # \n",
    "    distance_matrix = tsplib_distance_matrix(tsplib_file)  \n",
    "\n",
    "    # ausführen\n",
    "    starttime = timer()    \n",
    "    permutation, distance = function_algorithm(distance_matrix, **algorithm_parameters)\n",
    "    \n",
    "    result_dict = {}\n",
    "    result_dict[\"Instance\"] = instance_name\n",
    "    result_dict[\"Algorithm\"] = function_algorithm.__name__\n",
    "    result_dict[\"Parameters\"] = algorithm_parameters\n",
    "    result_dict[\"Objective\"] = distance\n",
    "    result_dict[\"Time\"] = timer()- starttime\n",
    "    \n",
    "    return result_dict\n",
    "    "
   ]
  },
  {
   "cell_type": "markdown",
   "metadata": {
    "slideshow": {
     "slide_type": "slide"
    }
   },
   "source": [
    "Beispiele:"
   ]
  },
  {
   "cell_type": "code",
   "execution_count": 29,
   "metadata": {
    "scrolled": true
   },
   "outputs": [
    {
     "name": "stdout",
     "output_type": "stream",
     "text": [
      "{'Instance': 'berlin52', 'Algorithm': 'tsp_greedy', 'Parameters': {'tour': [0]}, 'Objective': 8980, 'Time': 0.000720599999993965}\n",
      "{'Instance': 'berlin52', 'Algorithm': 'tsp_beam_search', 'Parameters': {'tour': [0], 'beam_width': 500}, 'Objective': 8446, 'Time': 3.9379715000000033}\n"
     ]
    }
   ],
   "source": [
    "# Beispiel: der greedy nearest neighbor hat einen Parameter (tour, d.h. start-Knoten)\n",
    "parameters = { \"tour\" : [0]}\n",
    "result = run_algorithm_with_parameters(\"berlin52\", tsp_greedy, parameters)\n",
    "print(result)\n",
    "\n",
    "# Beispiel: beam search hat zwei Parameter\n",
    "parameters = { \"tour\" : [0], \"beam_width\" :500 }\n",
    "result = run_algorithm_with_parameters(\"berlin52\", tsp_beam_search, parameters)\n",
    "print(result)\n"
   ]
  },
  {
   "cell_type": "markdown",
   "metadata": {
    "slideshow": {
     "slide_type": "slide"
    }
   },
   "source": [
    "## Mehrere Algorithmen auswerten und Ergebnisse als Data Frame darstellen\n",
    "\n",
    "- nun haben wir eine einheitliche Funktion, die Daten strukturiert ausgibt\n",
    "- wir schreiben nun eine Funktion, die mehrere Algorithmen ausführt\n",
    "- diese Funktion hat als Parameter:\n",
    "  - einen Instanznamen\n",
    "  - eine Liste aus 2- `tuples`, bestehend aus: `algorithmus_funktion` und einem `dict` mit Paramtern\n",
    "  \n",
    "..die Funktion führt die Algorithmen aus und gibt eine Liste mit Ergebnis-`dict`s zurück\n"
   ]
  },
  {
   "cell_type": "code",
   "execution_count": 30,
   "metadata": {
    "slideshow": {
     "slide_type": "-"
    }
   },
   "outputs": [],
   "source": [
    "def run_algorithms_with_parameters(instance_name, algorithms_parameters):\n",
    "    \n",
    "    results = []\n",
    "    for algorithm, parameters in algorithms_parameters:\n",
    "    \n",
    "        results.append (run_algorithm_with_parameters(instance_name, algorithm, parameters) )\n",
    "    \n",
    "    \n",
    "    \n",
    "    return results"
   ]
  },
  {
   "cell_type": "code",
   "execution_count": 31,
   "metadata": {},
   "outputs": [
    {
     "name": "stdout",
     "output_type": "stream",
     "text": [
      "[{'Instance': 'berlin52', 'Algorithm': 'tsp_greedy', 'Parameters': {'tour': [0]}, 'Objective': 8980, 'Time': 0.0010986000000059448}, {'Instance': 'berlin52', 'Algorithm': 'tsp_beam_search', 'Parameters': {'tour': [0], 'beam_width': 500}, 'Objective': 8446, 'Time': 4.042473300000012}]\n"
     ]
    }
   ],
   "source": [
    "algorithms_parameters = [] # Liste erstellen\n",
    "\n",
    "# greedy (beachte: jeder Eintrag der Liste ist ein Tupel (algorithmus, parameter-dict )  )\n",
    "algorithms_parameters.append( ( tsp_greedy, { \"tour\" : [0] } ) ) \n",
    "\n",
    "algorithms_parameters.append( ( tsp_beam_search, { \"tour\" : [0],\n",
    "                                                  \"beam_width\": 500 } ) )\n",
    "\n",
    "results = run_algorithms_with_parameters( \"berlin52\", algorithms_parameters) \n",
    "\n",
    "print(results)"
   ]
  },
  {
   "cell_type": "markdown",
   "metadata": {},
   "source": [
    "## Ergebnisse als Data Frame darstellen\n",
    "\n",
    "..der nächste Schritt ist dann relativ einfach:\n",
    "\n",
    "- eine Liste von `dict`s kann einfach in ein data frame überführt werden"
   ]
  },
  {
   "cell_type": "code",
   "execution_count": 32,
   "metadata": {
    "scrolled": true
   },
   "outputs": [
    {
     "data": {
      "text/html": [
       "<div>\n",
       "<style scoped>\n",
       "    .dataframe tbody tr th:only-of-type {\n",
       "        vertical-align: middle;\n",
       "    }\n",
       "\n",
       "    .dataframe tbody tr th {\n",
       "        vertical-align: top;\n",
       "    }\n",
       "\n",
       "    .dataframe thead th {\n",
       "        text-align: right;\n",
       "    }\n",
       "</style>\n",
       "<table border=\"1\" class=\"dataframe\">\n",
       "  <thead>\n",
       "    <tr style=\"text-align: right;\">\n",
       "      <th></th>\n",
       "      <th>Instance</th>\n",
       "      <th>Algorithm</th>\n",
       "      <th>Parameters</th>\n",
       "      <th>Objective</th>\n",
       "      <th>Time</th>\n",
       "    </tr>\n",
       "  </thead>\n",
       "  <tbody>\n",
       "    <tr>\n",
       "      <th>0</th>\n",
       "      <td>berlin52</td>\n",
       "      <td>tsp_greedy</td>\n",
       "      <td>{'tour': [0]}</td>\n",
       "      <td>8980</td>\n",
       "      <td>0.001099</td>\n",
       "    </tr>\n",
       "    <tr>\n",
       "      <th>1</th>\n",
       "      <td>berlin52</td>\n",
       "      <td>tsp_beam_search</td>\n",
       "      <td>{'tour': [0], 'beam_width': 500}</td>\n",
       "      <td>8446</td>\n",
       "      <td>4.042473</td>\n",
       "    </tr>\n",
       "  </tbody>\n",
       "</table>\n",
       "</div>"
      ],
      "text/plain": [
       "   Instance        Algorithm                        Parameters  Objective  \\\n",
       "0  berlin52       tsp_greedy                     {'tour': [0]}       8980   \n",
       "1  berlin52  tsp_beam_search  {'tour': [0], 'beam_width': 500}       8446   \n",
       "\n",
       "       Time  \n",
       "0  0.001099  \n",
       "1  4.042473  "
      ]
     },
     "execution_count": 32,
     "metadata": {},
     "output_type": "execute_result"
    }
   ],
   "source": [
    "pd.DataFrame(results)"
   ]
  },
  {
   "cell_type": "markdown",
   "metadata": {
    "slideshow": {
     "slide_type": "slide"
    }
   },
   "source": [
    "## Erweitern der Ergebnisse \n",
    "\n",
    ".. wir können auch die Results um weitere Läufe ergänzen:"
   ]
  },
  {
   "cell_type": "code",
   "execution_count": 33,
   "metadata": {
    "scrolled": true,
    "slideshow": {
     "slide_type": "-"
    }
   },
   "outputs": [
    {
     "data": {
      "text/html": [
       "<div>\n",
       "<style scoped>\n",
       "    .dataframe tbody tr th:only-of-type {\n",
       "        vertical-align: middle;\n",
       "    }\n",
       "\n",
       "    .dataframe tbody tr th {\n",
       "        vertical-align: top;\n",
       "    }\n",
       "\n",
       "    .dataframe thead th {\n",
       "        text-align: right;\n",
       "    }\n",
       "</style>\n",
       "<table border=\"1\" class=\"dataframe\">\n",
       "  <thead>\n",
       "    <tr style=\"text-align: right;\">\n",
       "      <th></th>\n",
       "      <th>Instance</th>\n",
       "      <th>Algorithm</th>\n",
       "      <th>Parameters</th>\n",
       "      <th>Objective</th>\n",
       "      <th>Time</th>\n",
       "    </tr>\n",
       "  </thead>\n",
       "  <tbody>\n",
       "    <tr>\n",
       "      <th>0</th>\n",
       "      <td>berlin52</td>\n",
       "      <td>tsp_greedy</td>\n",
       "      <td>{'tour': [0]}</td>\n",
       "      <td>8980</td>\n",
       "      <td>0.001099</td>\n",
       "    </tr>\n",
       "    <tr>\n",
       "      <th>1</th>\n",
       "      <td>berlin52</td>\n",
       "      <td>tsp_beam_search</td>\n",
       "      <td>{'tour': [0], 'beam_width': 500}</td>\n",
       "      <td>8446</td>\n",
       "      <td>4.042473</td>\n",
       "    </tr>\n",
       "    <tr>\n",
       "      <th>2</th>\n",
       "      <td>berlin52</td>\n",
       "      <td>tsp_greedy_multi_start</td>\n",
       "      <td>{}</td>\n",
       "      <td>8181</td>\n",
       "      <td>0.034619</td>\n",
       "    </tr>\n",
       "    <tr>\n",
       "      <th>3</th>\n",
       "      <td>berlin52</td>\n",
       "      <td>tsp_informed_beam_search</td>\n",
       "      <td>{'tour': [0], 'beam_width': 20, 'heuristic_fun...</td>\n",
       "      <td>8002</td>\n",
       "      <td>7.882782</td>\n",
       "    </tr>\n",
       "    <tr>\n",
       "      <th>4</th>\n",
       "      <td>berlin52</td>\n",
       "      <td>tsp_informed_beam_search_limited</td>\n",
       "      <td>{'tour': [0], 'beam_width': 20, 'heuristic_fun...</td>\n",
       "      <td>7997</td>\n",
       "      <td>2.051019</td>\n",
       "    </tr>\n",
       "  </tbody>\n",
       "</table>\n",
       "</div>"
      ],
      "text/plain": [
       "   Instance                         Algorithm  \\\n",
       "0  berlin52                        tsp_greedy   \n",
       "1  berlin52                   tsp_beam_search   \n",
       "2  berlin52            tsp_greedy_multi_start   \n",
       "3  berlin52          tsp_informed_beam_search   \n",
       "4  berlin52  tsp_informed_beam_search_limited   \n",
       "\n",
       "                                          Parameters  Objective      Time  \n",
       "0                                      {'tour': [0]}       8980  0.001099  \n",
       "1                   {'tour': [0], 'beam_width': 500}       8446  4.042473  \n",
       "2                                                 {}       8181  0.034619  \n",
       "3  {'tour': [0], 'beam_width': 20, 'heuristic_fun...       8002  7.882782  \n",
       "4  {'tour': [0], 'beam_width': 20, 'heuristic_fun...       7997  2.051019  "
      ]
     },
     "execution_count": 33,
     "metadata": {},
     "output_type": "execute_result"
    }
   ],
   "source": [
    "\n",
    "algorithms_parameters = []\n",
    "\n",
    "\n",
    "algorithms_parameters.append(( tsp_greedy_multi_start, {} ))\n",
    "\n",
    "algorithms_parameters.append(( tsp_informed_beam_search, {  \"tour\" : [0],\n",
    "                                                            \"beam_width\": 20, \n",
    "                                                            \"heuristic_function\" : heuristic_rollout } ))\n",
    "\n",
    "algorithms_parameters.append(( tsp_informed_beam_search_limited, { \"tour\" : [0], \n",
    "                                                                   \"beam_width\": 20, \n",
    "                                                                   \"heuristic_function\" : heuristic_rollout,\n",
    "                                                                   \"no_candidates_for_heuristic\" : 10 } ))\n",
    "\n",
    "\n",
    "results += run_algorithms_with_parameters( \"berlin52\", algorithms_parameters) \n",
    "\n",
    "\n",
    "pd.DataFrame(results)   "
   ]
  },
  {
   "cell_type": "markdown",
   "metadata": {
    "slideshow": {
     "slide_type": "fragment"
    }
   },
   "source": [
    "\n",
    "><div class=\"alert alert-block alert-info\">\n",
    "<b>\n",
    "Ergänzen Sie die Funktion `run_algorithms` so, dass der Gap zur optimalen Lösung als Ergebniswert ausgegeben wird!\n",
    "</b></div>  \n",
    "\n",
    "    "
   ]
  },
  {
   "cell_type": "markdown",
   "metadata": {
    "slideshow": {
     "slide_type": "slide"
    }
   },
   "source": [
    "## Mehrere Instanzen vergleichen\n",
    "\n",
    "Nun können wir relativ einfach eine neue Funktion schreiben, die die Experimente für mehrere Instanzen ausführt:\n",
    "\n"
   ]
  },
  {
   "cell_type": "code",
   "execution_count": 34,
   "metadata": {},
   "outputs": [],
   "source": [
    "def run_algorithms_with_parameters_on_instances (instance_names, algorithms_parameters):\n",
    "    \n",
    "    results = []\n",
    "    \n",
    "    for instance_name in instance_names: \n",
    "        results += run_algorithms_with_parameters( instance_name, algorithms_parameters) \n",
    "        \n",
    "    return results\n"
   ]
  },
  {
   "cell_type": "markdown",
   "metadata": {
    "slideshow": {
     "slide_type": "fragment"
    }
   },
   "source": [
    "..probieren wir es aus:\n"
   ]
  },
  {
   "cell_type": "code",
   "execution_count": 35,
   "metadata": {},
   "outputs": [
    {
     "data": {
      "text/html": [
       "<div>\n",
       "<style scoped>\n",
       "    .dataframe tbody tr th:only-of-type {\n",
       "        vertical-align: middle;\n",
       "    }\n",
       "\n",
       "    .dataframe tbody tr th {\n",
       "        vertical-align: top;\n",
       "    }\n",
       "\n",
       "    .dataframe thead th {\n",
       "        text-align: right;\n",
       "    }\n",
       "</style>\n",
       "<table border=\"1\" class=\"dataframe\">\n",
       "  <thead>\n",
       "    <tr style=\"text-align: right;\">\n",
       "      <th></th>\n",
       "      <th>Instance</th>\n",
       "      <th>Algorithm</th>\n",
       "      <th>Parameters</th>\n",
       "      <th>Objective</th>\n",
       "      <th>Time</th>\n",
       "    </tr>\n",
       "  </thead>\n",
       "  <tbody>\n",
       "    <tr>\n",
       "      <th>0</th>\n",
       "      <td>berlin52</td>\n",
       "      <td>tsp_greedy</td>\n",
       "      <td>{'tour': [0]}</td>\n",
       "      <td>8980</td>\n",
       "      <td>0.000799</td>\n",
       "    </tr>\n",
       "    <tr>\n",
       "      <th>1</th>\n",
       "      <td>berlin52</td>\n",
       "      <td>tsp_beam_search</td>\n",
       "      <td>{'tour': [0], 'beam_width': 500}</td>\n",
       "      <td>8446</td>\n",
       "      <td>3.961152</td>\n",
       "    </tr>\n",
       "    <tr>\n",
       "      <th>2</th>\n",
       "      <td>gr48</td>\n",
       "      <td>tsp_greedy</td>\n",
       "      <td>{'tour': [0]}</td>\n",
       "      <td>6098</td>\n",
       "      <td>0.000580</td>\n",
       "    </tr>\n",
       "    <tr>\n",
       "      <th>3</th>\n",
       "      <td>gr48</td>\n",
       "      <td>tsp_beam_search</td>\n",
       "      <td>{'tour': [0], 'beam_width': 500}</td>\n",
       "      <td>6315</td>\n",
       "      <td>3.388942</td>\n",
       "    </tr>\n",
       "  </tbody>\n",
       "</table>\n",
       "</div>"
      ],
      "text/plain": [
       "   Instance        Algorithm                        Parameters  Objective  \\\n",
       "0  berlin52       tsp_greedy                     {'tour': [0]}       8980   \n",
       "1  berlin52  tsp_beam_search  {'tour': [0], 'beam_width': 500}       8446   \n",
       "2      gr48       tsp_greedy                     {'tour': [0]}       6098   \n",
       "3      gr48  tsp_beam_search  {'tour': [0], 'beam_width': 500}       6315   \n",
       "\n",
       "       Time  \n",
       "0  0.000799  \n",
       "1  3.961152  \n",
       "2  0.000580  \n",
       "3  3.388942  "
      ]
     },
     "execution_count": 35,
     "metadata": {},
     "output_type": "execute_result"
    }
   ],
   "source": [
    "algorithms_parameters = [] # Liste erstellen\n",
    "\n",
    "# greedy (beachte: jeder Eintrag der Liste ist ein Tupel (algorithmus, parameter-dict )  )\n",
    "algorithms_parameters.append( ( tsp_greedy, { \"tour\" : [0] } ) ) \n",
    "\n",
    "algorithms_parameters.append( ( tsp_beam_search, { \"tour\" : [0],\n",
    "                                                  \"beam_width\": 500 } ) )\n",
    "\n",
    "instances = [\"berlin52\", \"gr48\"]\n",
    "\n",
    "results = run_algorithms_with_parameters_on_instances (instances, algorithms_parameters)\n",
    "\n",
    "df_results = pd.DataFrame(results)   \n",
    "df_results"
   ]
  },
  {
   "cell_type": "markdown",
   "metadata": {
    "slideshow": {
     "slide_type": "slide"
    }
   },
   "source": [
    "## Ergebnisse aufbereiten mit Pivot-Tabellen\n",
    "\n",
    "- die Ergebnistabelle von oben ist etwas redundant \n",
    "- was, wenn wir z.B. nur eine Zeile je Instanz haben wollen und für jeden Algorithmus eine Spalte?\n",
    "\n",
    "- derartige Umstellungen können wir mit so genannten Pivot-Tabellen machen:\n",
    "https://pandas.pydata.org/docs/reference/api/pandas.DataFrame.pivot.html\n",
    "\n"
   ]
  },
  {
   "cell_type": "code",
   "execution_count": 36,
   "metadata": {
    "slideshow": {
     "slide_type": "-"
    }
   },
   "outputs": [
    {
     "data": {
      "text/html": [
       "<div>\n",
       "<style scoped>\n",
       "    .dataframe tbody tr th:only-of-type {\n",
       "        vertical-align: middle;\n",
       "    }\n",
       "\n",
       "    .dataframe tbody tr th {\n",
       "        vertical-align: top;\n",
       "    }\n",
       "\n",
       "    .dataframe thead tr th {\n",
       "        text-align: left;\n",
       "    }\n",
       "\n",
       "    .dataframe thead tr:last-of-type th {\n",
       "        text-align: right;\n",
       "    }\n",
       "</style>\n",
       "<table border=\"1\" class=\"dataframe\">\n",
       "  <thead>\n",
       "    <tr>\n",
       "      <th></th>\n",
       "      <th colspan=\"2\" halign=\"left\">Objective</th>\n",
       "    </tr>\n",
       "    <tr>\n",
       "      <th>Algorithm</th>\n",
       "      <th>tsp_beam_search</th>\n",
       "      <th>tsp_greedy</th>\n",
       "    </tr>\n",
       "    <tr>\n",
       "      <th>Instance</th>\n",
       "      <th></th>\n",
       "      <th></th>\n",
       "    </tr>\n",
       "  </thead>\n",
       "  <tbody>\n",
       "    <tr>\n",
       "      <th>berlin52</th>\n",
       "      <td>8446</td>\n",
       "      <td>8980</td>\n",
       "    </tr>\n",
       "    <tr>\n",
       "      <th>gr48</th>\n",
       "      <td>6315</td>\n",
       "      <td>6098</td>\n",
       "    </tr>\n",
       "  </tbody>\n",
       "</table>\n",
       "</div>"
      ],
      "text/plain": [
       "                Objective           \n",
       "Algorithm tsp_beam_search tsp_greedy\n",
       "Instance                            \n",
       "berlin52             8446       8980\n",
       "gr48                 6315       6098"
      ]
     },
     "execution_count": 36,
     "metadata": {},
     "output_type": "execute_result"
    }
   ],
   "source": [
    "df_pivot = df_results.pivot_table(index=\"Instance\", columns=\"Algorithm\", values=[\"Objective\"])\n",
    "df_pivot"
   ]
  },
  {
   "cell_type": "markdown",
   "metadata": {
    "slideshow": {
     "slide_type": "fragment"
    }
   },
   "source": [
    "...wir können auch zwei Arten von Ergebnissen nebeneinander Anzeigen:"
   ]
  },
  {
   "cell_type": "code",
   "execution_count": 37,
   "metadata": {
    "scrolled": true
   },
   "outputs": [
    {
     "data": {
      "text/html": [
       "<div>\n",
       "<style scoped>\n",
       "    .dataframe tbody tr th:only-of-type {\n",
       "        vertical-align: middle;\n",
       "    }\n",
       "\n",
       "    .dataframe tbody tr th {\n",
       "        vertical-align: top;\n",
       "    }\n",
       "\n",
       "    .dataframe thead tr th {\n",
       "        text-align: left;\n",
       "    }\n",
       "\n",
       "    .dataframe thead tr:last-of-type th {\n",
       "        text-align: right;\n",
       "    }\n",
       "</style>\n",
       "<table border=\"1\" class=\"dataframe\">\n",
       "  <thead>\n",
       "    <tr>\n",
       "      <th></th>\n",
       "      <th colspan=\"2\" halign=\"left\">Objective</th>\n",
       "      <th colspan=\"2\" halign=\"left\">Time</th>\n",
       "    </tr>\n",
       "    <tr>\n",
       "      <th>Algorithm</th>\n",
       "      <th>tsp_beam_search</th>\n",
       "      <th>tsp_greedy</th>\n",
       "      <th>tsp_beam_search</th>\n",
       "      <th>tsp_greedy</th>\n",
       "    </tr>\n",
       "    <tr>\n",
       "      <th>Instance</th>\n",
       "      <th></th>\n",
       "      <th></th>\n",
       "      <th></th>\n",
       "      <th></th>\n",
       "    </tr>\n",
       "  </thead>\n",
       "  <tbody>\n",
       "    <tr>\n",
       "      <th>berlin52</th>\n",
       "      <td>8446</td>\n",
       "      <td>8980</td>\n",
       "      <td>3.961152</td>\n",
       "      <td>0.000799</td>\n",
       "    </tr>\n",
       "    <tr>\n",
       "      <th>gr48</th>\n",
       "      <td>6315</td>\n",
       "      <td>6098</td>\n",
       "      <td>3.388942</td>\n",
       "      <td>0.000580</td>\n",
       "    </tr>\n",
       "  </tbody>\n",
       "</table>\n",
       "</div>"
      ],
      "text/plain": [
       "                Objective                       Time           \n",
       "Algorithm tsp_beam_search tsp_greedy tsp_beam_search tsp_greedy\n",
       "Instance                                                       \n",
       "berlin52             8446       8980        3.961152   0.000799\n",
       "gr48                 6315       6098        3.388942   0.000580"
      ]
     },
     "execution_count": 37,
     "metadata": {},
     "output_type": "execute_result"
    }
   ],
   "source": [
    "df_pivot = df_results.pivot_table(index=\"Instance\", columns=\"Algorithm\", values=[\"Objective\", \"Time\"])\n",
    "df_pivot"
   ]
  },
  {
   "cell_type": "markdown",
   "metadata": {
    "slideshow": {
     "slide_type": "fragment"
    }
   },
   "source": [
    "..oder die Mittelwerte der Zeilen und Spalten mit anzeigen lassen"
   ]
  },
  {
   "cell_type": "code",
   "execution_count": 38,
   "metadata": {
    "scrolled": true,
    "slideshow": {
     "slide_type": "-"
    }
   },
   "outputs": [
    {
     "data": {
      "text/html": [
       "<div>\n",
       "<style scoped>\n",
       "    .dataframe tbody tr th:only-of-type {\n",
       "        vertical-align: middle;\n",
       "    }\n",
       "\n",
       "    .dataframe tbody tr th {\n",
       "        vertical-align: top;\n",
       "    }\n",
       "\n",
       "    .dataframe thead tr th {\n",
       "        text-align: left;\n",
       "    }\n",
       "\n",
       "    .dataframe thead tr:last-of-type th {\n",
       "        text-align: right;\n",
       "    }\n",
       "</style>\n",
       "<table border=\"1\" class=\"dataframe\">\n",
       "  <thead>\n",
       "    <tr>\n",
       "      <th></th>\n",
       "      <th colspan=\"3\" halign=\"left\">Time</th>\n",
       "    </tr>\n",
       "    <tr>\n",
       "      <th>Algorithm</th>\n",
       "      <th>tsp_beam_search</th>\n",
       "      <th>tsp_greedy</th>\n",
       "      <th>All</th>\n",
       "    </tr>\n",
       "    <tr>\n",
       "      <th>Instance</th>\n",
       "      <th></th>\n",
       "      <th></th>\n",
       "      <th></th>\n",
       "    </tr>\n",
       "  </thead>\n",
       "  <tbody>\n",
       "    <tr>\n",
       "      <th>berlin52</th>\n",
       "      <td>3.961152</td>\n",
       "      <td>0.000799</td>\n",
       "      <td>1.980975</td>\n",
       "    </tr>\n",
       "    <tr>\n",
       "      <th>gr48</th>\n",
       "      <td>3.388942</td>\n",
       "      <td>0.000580</td>\n",
       "      <td>1.694761</td>\n",
       "    </tr>\n",
       "    <tr>\n",
       "      <th>All</th>\n",
       "      <td>3.675047</td>\n",
       "      <td>0.000690</td>\n",
       "      <td>1.837868</td>\n",
       "    </tr>\n",
       "  </tbody>\n",
       "</table>\n",
       "</div>"
      ],
      "text/plain": [
       "                     Time                     \n",
       "Algorithm tsp_beam_search tsp_greedy       All\n",
       "Instance                                      \n",
       "berlin52         3.961152   0.000799  1.980975\n",
       "gr48             3.388942   0.000580  1.694761\n",
       "All              3.675047   0.000690  1.837868"
      ]
     },
     "execution_count": 38,
     "metadata": {},
     "output_type": "execute_result"
    }
   ],
   "source": [
    "df_pivot = df_results.pivot_table(index=\"Instance\", columns=\"Algorithm\", values=[\"Time\"], margins=True)\n",
    "df_pivot"
   ]
  },
  {
   "cell_type": "markdown",
   "metadata": {
    "slideshow": {
     "slide_type": "slide"
    }
   },
   "source": [
    "## Ausgabe in LaTeX-Tabelle\n",
    "- falls Sie LaTeX nutzen, können Sie direkt LaTeX-Code zur Darstellung der Tabelle erzeugen:"
   ]
  },
  {
   "cell_type": "code",
   "execution_count": 39,
   "metadata": {
    "scrolled": false,
    "slideshow": {
     "slide_type": "slide"
    }
   },
   "outputs": [
    {
     "name": "stdout",
     "output_type": "stream",
     "text": [
      "\\begin{tabular}{lrrr}\n",
      "\\toprule\n",
      "{} & \\multicolumn{3}{l}{Time} \\\\\n",
      "Algorithm & tsp\\_beam\\_search & tsp\\_greedy &       All \\\\\n",
      "Instance &                 &            &           \\\\\n",
      "\\midrule\n",
      "berlin52 &        3.961152 &   0.000799 &  1.980975 \\\\\n",
      "gr48     &        3.388942 &   0.000580 &  1.694761 \\\\\n",
      "All      &        3.675047 &   0.000690 &  1.837868 \\\\\n",
      "\\bottomrule\n",
      "\\end{tabular}\n",
      "\n"
     ]
    },
    {
     "name": "stderr",
     "output_type": "stream",
     "text": [
      "C:\\Users\\mroemer\\AppData\\Local\\Temp\\ipykernel_21052\\3636991984.py:1: FutureWarning: In future versions `DataFrame.to_latex` is expected to utilise the base implementation of `Styler.to_latex` for formatting and rendering. The arguments signature may therefore change. It is recommended instead to use `DataFrame.style.to_latex` which also contains additional functionality.\n",
      "  print(df_pivot.to_latex())\n"
     ]
    }
   ],
   "source": [
    "print(df_pivot.to_latex())"
   ]
  },
  {
   "cell_type": "markdown",
   "metadata": {
    "slideshow": {
     "slide_type": "slide"
    }
   },
   "source": [
    "## Schreiben in und Lesen aus Dateien\n",
    "\n",
    "- oftmals können nicht alle Experimente und Auswertungen am Stück durchgeführt werden\n",
    "- weiterhin möchte man häufig später weitere Analysen machen und die Auswertungen auch später noch nachvollziehen können\n",
    "- mit dataframes geht das sehr leicht:"
   ]
  },
  {
   "cell_type": "markdown",
   "metadata": {
    "slideshow": {
     "slide_type": "fragment"
    }
   },
   "source": [
    "- schreiben des (ursprünglichen) data frames in eine Datei:"
   ]
  },
  {
   "cell_type": "code",
   "execution_count": 40,
   "metadata": {
    "slideshow": {
     "slide_type": "-"
    }
   },
   "outputs": [],
   "source": [
    "file_name = \"results.txt\"\n",
    "df_results.to_csv(file_name, index=False) # csv heisst comma-separated values"
   ]
  },
  {
   "cell_type": "markdown",
   "metadata": {
    "slideshow": {
     "slide_type": "fragment"
    }
   },
   "source": [
    "- einlesen in ein Data Frame:"
   ]
  },
  {
   "cell_type": "markdown",
   "metadata": {
    "slideshow": {
     "slide_type": "slide"
    }
   },
   "source": [
    "## Beispiel für ein einheitliches Qualitätsmaß: Der Gap zur optimalen Lösung\n",
    "\n",
    "- wenn wir Instanzen mit unterschiedlich skalierten Zielfunktionswerten (Distanzen) haben, sind Ergebnisse nur schwer einheitlich zu vergleichen bzw. aggregiert zu betrachten\n",
    "- besser ist es daher oft, die relative Performance eines Algorithmus zu einer Bezugsgröße zu betrachten, z.B.:\n",
    "  - eine optimale Lösung\n",
    "  - die Lösung eines anderen Algorithmus\n",
    "\n",
    "Da wir die optimalen Lösungen kennen, können wir diese in einem dict speichern:"
   ]
  },
  {
   "cell_type": "code",
   "execution_count": 41,
   "metadata": {
    "slideshow": {
     "slide_type": "-"
    }
   },
   "outputs": [],
   "source": [
    "instance_optimal_value = {\"gr48\":5046, \"brazil58\":25395, \"berlin52\":7542}"
   ]
  },
  {
   "cell_type": "markdown",
   "metadata": {},
   "source": [
    "..und dann berechen wir den relativen Gap (den relativen Abstand zur optimalen Lösung):\n",
    "- wir nutzen dazu den optimalen Wert als Grundlage, durch den wir die Differenz aus der gefundenen und der optimalen Lösung teilen\n",
    "- wenn wir die optimale Lösung finden, ist der Gap 0 %"
   ]
  },
  {
   "cell_type": "code",
   "execution_count": 42,
   "metadata": {
    "slideshow": {
     "slide_type": "-"
    }
   },
   "outputs": [],
   "source": [
    "def get_opt_gap(objective_value, instance_name):\n",
    "    return (objective_value - instance_optimal_value[instance_name]) / instance_optimal_value[instance_name]\n"
   ]
  },
  {
   "cell_type": "markdown",
   "metadata": {
    "slideshow": {
     "slide_type": "fragment"
    }
   },
   "source": [
    "Beispiel:\n"
   ]
  },
  {
   "cell_type": "code",
   "execution_count": 43,
   "metadata": {},
   "outputs": [
    {
     "name": "stdout",
     "output_type": "stream",
     "text": [
      "Greedy  8980\n",
      "Optimal  7542\n",
      "Gap  0.19066560594006896\n"
     ]
    }
   ],
   "source": [
    "parameters = { \"tour\" : [0]}\n",
    "result = run_algorithm_with_parameters(\"berlin52\", tsp_greedy, parameters)\n",
    "print(\"Greedy \", result[\"Objective\"])\n",
    "\n",
    "print(\"Optimal \",  instance_optimal_value[\"berlin52\"])\n",
    "\n",
    "print(\"Gap \", get_opt_gap(result[\"Objective\"], \"berlin52\"))"
   ]
  },
  {
   "cell_type": "markdown",
   "metadata": {},
   "source": [
    "## Einbau des Optimality Gap in die Auswertungs-Funktion:\n",
    "\n",
    "\n"
   ]
  },
  {
   "cell_type": "code",
   "execution_count": 44,
   "metadata": {
    "slideshow": {
     "slide_type": "-"
    }
   },
   "outputs": [],
   "source": [
    "def run_algorithm_with_parameters(instance_name, function_algorithm, algorithm_parameters):\n",
    "    \n",
    "    ## hier ggf den Dateipfad anpassen\n",
    "    tsplib_file = \"./../problems/tsp/instances/\" + instance_name +\".tsp\" # \n",
    "    distance_matrix = tsplib_distance_matrix(tsplib_file)  \n",
    "\n",
    "    # ausführen\n",
    "    starttime = timer()    \n",
    "    permutation, distance = function_algorithm(distance_matrix, **algorithm_parameters)\n",
    "    \n",
    "    result_dict = {}\n",
    "    result_dict[\"Instance\"] = instance_name\n",
    "    result_dict[\"Algorithm\"] = function_algorithm.__name__\n",
    "    result_dict[\"Parameters\"] = algorithm_parameters\n",
    "    result_dict[\"Objective\"] = distance\n",
    "    result_dict[\"OptGap\"] = get_opt_gap(distance, instance_name)\n",
    "    result_dict[\"Time\"] = timer()- starttime\n",
    "    \n",
    "    return result_dict\n",
    "    "
   ]
  },
  {
   "cell_type": "markdown",
   "metadata": {
    "slideshow": {
     "slide_type": "slide"
    }
   },
   "source": [
    "## Untersuchen der Auswirkung von Parametern \n",
    "\n",
    "- viele komplexere Algorithmen haben **Parameter**, die ihr Verhalten beeinflussen, z.B.\n",
    "   - Startort beim Nearest Neighbor\n",
    "   - Breite (beam_width) beim Beam Search\n",
    "   - Anzahl an betrachteten Nachbarn bei limitierter Anwendung informierter Suche\n",
    "- oftmals ist es interessant, die Auswirkung der wesentlichen Parameter auf Ergebnis und Laufzeit zu untersuchen!\n",
    "\n"
   ]
  },
  {
   "cell_type": "markdown",
   "metadata": {
    "slideshow": {
     "slide_type": "slide"
    }
   },
   "source": [
    "## Anpassung der Run Algorithm-Funktion\n",
    "\n",
    "- wir wollen nun, dass für alle Parameter ein eigener Wert angelegt wird\n",
    "- wir passsen die Funktion `run_algorithm_with_parameters` entsprechend an:"
   ]
  },
  {
   "cell_type": "code",
   "execution_count": 45,
   "metadata": {
    "slideshow": {
     "slide_type": "-"
    }
   },
   "outputs": [],
   "source": [
    "def run_algorithm_with_parameters(instance_name, function_algorithm, algorithm_parameters):\n",
    "    \n",
    "    ## hier ggf den Dateipfad anpassen\n",
    "    tsplib_file = \"./../problems/tsp/instances/\" + instance_name +\".tsp\" # \n",
    "    distance_matrix = tsplib_distance_matrix(tsplib_file)  \n",
    "\n",
    "    # ausführen\n",
    "    starttime = timer()    \n",
    "    permutation, distance = function_algorithm(distance_matrix, **algorithm_parameters)\n",
    "    \n",
    "    result_dict = {}\n",
    "    result_dict[\"Instance\"] = instance_name\n",
    "    result_dict[\"Algorithm\"] = function_algorithm.__name__\n",
    "    \n",
    "    ## hier wird ein einzelnes Feld für jeden Parameter angelegt ausser für den Tour-Parameter:\n",
    "    for name, value in algorithm_parameters.items():\n",
    "        if name != \"tour\":\n",
    "             result_dict[name] = value        \n",
    "   \n",
    "    result_dict[\"Objective\"] = distance\n",
    "    result_dict[\"OptGap\"] = get_opt_gap(distance, instance_name)\n",
    "    result_dict[\"Time\"] = timer()- starttime\n",
    "    \n",
    "    return result_dict\n",
    "    "
   ]
  },
  {
   "cell_type": "markdown",
   "metadata": {
    "slideshow": {
     "slide_type": "fragment"
    }
   },
   "source": [
    ".. nun können wir das z.B. für Beam Search ausprobieren:"
   ]
  },
  {
   "cell_type": "code",
   "execution_count": 46,
   "metadata": {
    "slideshow": {
     "slide_type": "-"
    }
   },
   "outputs": [
    {
     "data": {
      "text/html": [
       "<div>\n",
       "<style scoped>\n",
       "    .dataframe tbody tr th:only-of-type {\n",
       "        vertical-align: middle;\n",
       "    }\n",
       "\n",
       "    .dataframe tbody tr th {\n",
       "        vertical-align: top;\n",
       "    }\n",
       "\n",
       "    .dataframe thead th {\n",
       "        text-align: right;\n",
       "    }\n",
       "</style>\n",
       "<table border=\"1\" class=\"dataframe\">\n",
       "  <thead>\n",
       "    <tr style=\"text-align: right;\">\n",
       "      <th></th>\n",
       "      <th>Instance</th>\n",
       "      <th>Algorithm</th>\n",
       "      <th>beam_width</th>\n",
       "      <th>Objective</th>\n",
       "      <th>OptGap</th>\n",
       "      <th>Time</th>\n",
       "    </tr>\n",
       "  </thead>\n",
       "  <tbody>\n",
       "    <tr>\n",
       "      <th>0</th>\n",
       "      <td>berlin52</td>\n",
       "      <td>tsp_beam_search</td>\n",
       "      <td>1</td>\n",
       "      <td>8980</td>\n",
       "      <td>0.190666</td>\n",
       "      <td>0.006351</td>\n",
       "    </tr>\n",
       "    <tr>\n",
       "      <th>1</th>\n",
       "      <td>berlin52</td>\n",
       "      <td>tsp_beam_search</td>\n",
       "      <td>10</td>\n",
       "      <td>9423</td>\n",
       "      <td>0.249403</td>\n",
       "      <td>0.051271</td>\n",
       "    </tr>\n",
       "    <tr>\n",
       "      <th>2</th>\n",
       "      <td>berlin52</td>\n",
       "      <td>tsp_beam_search</td>\n",
       "      <td>50</td>\n",
       "      <td>9497</td>\n",
       "      <td>0.259215</td>\n",
       "      <td>0.262090</td>\n",
       "    </tr>\n",
       "    <tr>\n",
       "      <th>3</th>\n",
       "      <td>berlin52</td>\n",
       "      <td>tsp_beam_search</td>\n",
       "      <td>100</td>\n",
       "      <td>9846</td>\n",
       "      <td>0.305489</td>\n",
       "      <td>0.722041</td>\n",
       "    </tr>\n",
       "    <tr>\n",
       "      <th>4</th>\n",
       "      <td>berlin52</td>\n",
       "      <td>tsp_beam_search</td>\n",
       "      <td>500</td>\n",
       "      <td>8446</td>\n",
       "      <td>0.119862</td>\n",
       "      <td>4.097409</td>\n",
       "    </tr>\n",
       "  </tbody>\n",
       "</table>\n",
       "</div>"
      ],
      "text/plain": [
       "   Instance        Algorithm  beam_width  Objective    OptGap      Time\n",
       "0  berlin52  tsp_beam_search           1       8980  0.190666  0.006351\n",
       "1  berlin52  tsp_beam_search          10       9423  0.249403  0.051271\n",
       "2  berlin52  tsp_beam_search          50       9497  0.259215  0.262090\n",
       "3  berlin52  tsp_beam_search         100       9846  0.305489  0.722041\n",
       "4  berlin52  tsp_beam_search         500       8446  0.119862  4.097409"
      ]
     },
     "execution_count": 46,
     "metadata": {},
     "output_type": "execute_result"
    }
   ],
   "source": [
    "results = []\n",
    "algorithm_parameters = {\"tour\" : [0], \"beam_width\" : 1}\n",
    "\n",
    "for beam_width in [1,10,50,100,500]:\n",
    "    algorithm_parameters[\"beam_width\"] = beam_width\n",
    "    results.append(run_algorithm_with_parameters(\"berlin52\", tsp_beam_search, algorithm_parameters))\n",
    "    \n",
    "\n",
    "pd.DataFrame(results) \n",
    "    "
   ]
  },
  {
   "cell_type": "markdown",
   "metadata": {
    "slideshow": {
     "slide_type": "slide"
    }
   },
   "source": [
    "## Zusammenfassung\n",
    "\n",
    "Heute haben wir einige Techniken zum Experimentieren kennengelernt:\n",
    "- Aufrufen mehrerer Instanzen und Algorithmen\n",
    "- Datenstrukturen für Ergebnisse\n",
    "- Aufbereiten der Ergebnisse mit data frames\n",
    "- Speichern von Ergebnissen in Dateien\n",
    "- Auslesen von Ergebnissen aus Dateien\n",
    "\n",
    "\n",
    "**Bitte beachten Sie:**\n",
    "- Sie können natürlich auch anders arbeiten, z.B. direkt in Dateien schreiben\n",
    "- Hier haben wir nur zwei Instanzen genutzt - es wäre schön, wenn Sie (deutlich) mehr Instanzen für Ihre Experimente nutzen würden!"
   ]
  }
 ],
 "metadata": {
  "celltoolbar": "Slideshow",
  "kernelspec": {
   "display_name": "Python [conda env:audprojekt2022]",
   "language": "python",
   "name": "conda-env-audprojekt2022-py"
  },
  "language_info": {
   "codemirror_mode": {
    "name": "ipython",
    "version": 3
   },
   "file_extension": ".py",
   "mimetype": "text/x-python",
   "name": "python",
   "nbconvert_exporter": "python",
   "pygments_lexer": "ipython3",
   "version": "3.9.12"
  },
  "toc": {
   "base_numbering": 1,
   "nav_menu": {},
   "number_sections": false,
   "sideBar": true,
   "skip_h1_title": false,
   "title_cell": "Table of Contents",
   "title_sidebar": "Contents",
   "toc_cell": false,
   "toc_position": {},
   "toc_section_display": true,
   "toc_window_display": false
  },
  "varInspector": {
   "cols": {
    "lenName": 16,
    "lenType": 16,
    "lenVar": 40
   },
   "kernels_config": {
    "python": {
     "delete_cmd_postfix": "",
     "delete_cmd_prefix": "del ",
     "library": "var_list.py",
     "varRefreshCmd": "print(var_dic_list())"
    },
    "r": {
     "delete_cmd_postfix": ") ",
     "delete_cmd_prefix": "rm(",
     "library": "var_list.r",
     "varRefreshCmd": "cat(var_dic_list()) "
    }
   },
   "types_to_exclude": [
    "module",
    "function",
    "builtin_function_or_method",
    "instance",
    "_Feature"
   ],
   "window_display": false
  }
 },
 "nbformat": 4,
 "nbformat_minor": 4
}
