{
 "cells": [
  {
   "cell_type": "markdown",
   "metadata": {
    "slideshow": {
     "slide_type": "slide"
    }
   },
   "source": [
    "\n",
    "<img src=\"img/logo_wiwi.png\" width=\"25%\" align=\"left\">\n",
    "\n",
    "<img src=\"img/decision_analytics_logo.png\" width=\"17%\" align=\"right\">\n",
    "\n",
    "\n",
    "\n",
    "<br><br><br><br><br><br><br><br>\n",
    "\n",
    "\n",
    "\n",
    "# Algorithmen und Datenstrukturen(A+D)-Projekt \n",
    "\n",
    "**Sommersemester 2023**\n",
    "\n",
    "\n",
    "# 5. Informierte Suche mit Rollout als heuristischer Funktion\n",
    "<br>\n",
    "\n",
    "<br>\n",
    "<br>\n",
    "\n",
    "**J-Prof. Dr. Michael Römer, Till Porrmann**\n",
    "\n",
    "Juniorprofessur für Decision Analytics  | Universität Bielefeld"
   ]
  },
  {
   "cell_type": "code",
   "execution_count": 4,
   "metadata": {
    "slideshow": {
     "slide_type": "skip"
    }
   },
   "outputs": [],
   "source": [
    "import matplotlib.pyplot as plt\n",
    "import numpy as np\n",
    "from numba import njit\n",
    "import networkx as nx\n",
    "import keyboard\n",
    "from IPython.display import SVG, display, clear_output\n",
    "\n",
    "from heapq import nsmallest"
   ]
  },
  {
   "cell_type": "markdown",
   "metadata": {
    "slideshow": {
     "slide_type": "slide"
    }
   },
   "source": [
    "## Termine Zwischenpräsentation\n",
    "\n",
    "**Zwischenpräsentation**: Terminvorschlag: Montag,  22. Mai 2023 von 9-12 Uhr\n",
    "\n",
    "**Frage:**\n",
    "- wem würde **kein Zeitslot** passen?"
   ]
  },
  {
   "cell_type": "markdown",
   "metadata": {
    "slideshow": {
     "slide_type": "slide"
    }
   },
   "source": [
    "## Was machen wir heute?\n",
    "\n",
    "- wir wiederholen Beam Search, und schauen, wie wir Beam Search auf das Rucksack-Problem anwenden können\n",
    "- wir betrachten die so genannte **informierte Suche** \n",
    "- insbesondere nutzen wir **Rollout** als heuristische Funktion\n",
    "- wir lernen eine Technik kennen, um \"teure\" Heuristiken wie Rollout nur begrenzt anzuwenden\n",
    "\n",
    "- wir haben noch etwas Zeit, um Fragen mit den Gruppen zu klären"
   ]
  },
  {
   "cell_type": "markdown",
   "metadata": {
    "slideshow": {
     "slide_type": "slide"
    }
   },
   "source": [
    "# Wiederholung: Nearest Neighbor als Greedy-Verfahren für das TSP"
   ]
  },
  {
   "cell_type": "markdown",
   "metadata": {
    "slideshow": {
     "slide_type": "slide"
    }
   },
   "source": [
    "## Ein Greedy-Ansatz für das TSP / SHPP: Nearest-Neighbor"
   ]
  },
  {
   "cell_type": "markdown",
   "metadata": {
    "slideshow": {
     "slide_type": "-"
    }
   },
   "source": [
    "<img src=\"./img/32.png\" width=\"20%\" align=\"right\">\n",
    "\n",
    "\n",
    "Eine einfache und sehr bekannte Heuristik für das SHPP (und das TSP) nennt sich **nearest neighbor**:\n",
    "- man startet bei einem Knoten und\n",
    "- wählt in jedem Schritt immer den Knoten aus, der dem aktuellen am nächsten ist:\n",
    "\n",
    "Beispiel rechts: wir starten in Marin und suchen immer den nächsten Nachbarn"
   ]
  },
  {
   "cell_type": "markdown",
   "metadata": {
    "slideshow": {
     "slide_type": "slide"
    }
   },
   "source": [
    "## TSP in Python: Distanzmatrix\n",
    "\n",
    "- die einzige Information, die wir für die Darstellung des TSP brauchen, ist eine **Distanz-Matrix**\n",
    "- in dieser (symmetrischen) Matrix steht in jedem Element $[i,j]$ die Distanz zwischen den Knoten (Orten) $i$ und $j$\n",
    "- als Beispiel betrachten wir folgende Matrix:\n"
   ]
  },
  {
   "cell_type": "code",
   "execution_count": 5,
   "metadata": {
    "slideshow": {
     "slide_type": "-"
    }
   },
   "outputs": [],
   "source": [
    "distance_matrix = np.array([\n",
    "    [0,  5, 4, 10],\n",
    "    [5,  0, 8,  5],\n",
    "    [4,  8, 0,  3],\n",
    "    [10, 5, 3,  0]\n",
    "])\n",
    "\n",
    "distance_matrix_small = distance_matrix"
   ]
  },
  {
   "cell_type": "markdown",
   "metadata": {
    "slideshow": {
     "slide_type": "slide"
    }
   },
   "source": [
    "## Eine Routine zum Evaluieren einer Lösung\n",
    "\n",
    "- immer wenn man nicht-triviale Algorithmen für Optimierungsprobleme entwickelt, sollte man einen \"Solution-Checker\" schreiben / nutzen"
   ]
  },
  {
   "cell_type": "markdown",
   "metadata": {
    "slideshow": {
     "slide_type": "notes"
    }
   },
   "source": [
    "><div class=\"alert alert-block alert-info\">\n",
    "<b>Was ist im Fall des TSP zu prüfen?</b></div>  \n"
   ]
  },
  {
   "cell_type": "markdown",
   "metadata": {
    "slideshow": {
     "slide_type": "slide"
    }
   },
   "source": [
    "**Im Fall des TSP gilt es:**\n",
    "- zu prüfen, ob\n",
    "  - die Lösung die Richtige Anzahl an Knoten enthält\n",
    "  - dass es sich bei der Lösung tatsächlich um eine Permutation der Indizes handelt (kein Index kommt zweimal vor)\n",
    "- die Distanz der Tour zu berechnen"
   ]
  },
  {
   "cell_type": "code",
   "execution_count": 6,
   "metadata": {
    "slideshow": {
     "slide_type": "-"
    }
   },
   "outputs": [],
   "source": [
    "def evaluate_tsp_solution(distance_matrix, tour):\n",
    "    n = len(distance_matrix)\n",
    "    if len(tour) != n:\n",
    "        print (\"Wrong number of nodes\")\n",
    "        return -1\n",
    "     # Menge der Lösungsindizes muss = der Menge der Indizes von 0 bis n-1 sein\n",
    "    if set(tour) != set(range(n)):\n",
    "        print (\"Not a proper tour!\")\n",
    "        return  -1\n",
    "    \n",
    "    total_distance = 0\n",
    "    for i in range(n):\n",
    "        if i < n-1:\n",
    "            total_distance += distance_matrix[tour[i],tour[i+1]]\n",
    "        else:\n",
    "            total_distance += distance_matrix[tour[i],tour[0]]   \n",
    "            \n",
    "    return total_distance    "
   ]
  },
  {
   "cell_type": "markdown",
   "metadata": {
    "slideshow": {
     "slide_type": "fragment"
    }
   },
   "source": [
    "...probieren wir es aus:"
   ]
  },
  {
   "cell_type": "code",
   "execution_count": 7,
   "metadata": {
    "slideshow": {
     "slide_type": "-"
    }
   },
   "outputs": [
    {
     "data": {
      "text/plain": [
       "26"
      ]
     },
     "execution_count": 7,
     "metadata": {},
     "output_type": "execute_result"
    }
   ],
   "source": [
    "tour = [0,1,2,3]\n",
    "evaluate_tsp_solution(distance_matrix, tour)"
   ]
  },
  {
   "cell_type": "markdown",
   "metadata": {
    "slideshow": {
     "slide_type": "slide"
    }
   },
   "source": [
    "## Erweiterung: Evaluation zum Überprüfen einer gegebenen Distanz\n",
    "\n",
    "- oftmals ist es nützlich, in einer Funktion direkt die vom Algorithmus berechnete Distanz zu prüfen\n",
    "- folgende Funktion macht eine entsprechende Ergebnisausgabe:\n"
   ]
  },
  {
   "cell_type": "code",
   "execution_count": 8,
   "metadata": {
    "slideshow": {
     "slide_type": "slide"
    }
   },
   "outputs": [],
   "source": [
    "def print_obj_and_eval_tsp_solution(distance_matrix, tour, distance):\n",
    "    \n",
    "    eval_distance = evaluate_tsp_solution(distance_matrix, tour)\n",
    "    \n",
    "    if distance == eval_distance:\n",
    "        print (\"Solution feasible, distance is: \", distance)\n",
    "    elif eval_distance < 0:\n",
    "        print(\"Solution infeasible\")\n",
    "    else: \n",
    "        print(\"Solution feasible, wrong distance: \", distance, \" evaluation gave \", eval_distance)"
   ]
  },
  {
   "cell_type": "markdown",
   "metadata": {
    "slideshow": {
     "slide_type": "fragment"
    }
   },
   "source": [
    "...probien wir es aus:"
   ]
  },
  {
   "cell_type": "markdown",
   "metadata": {
    "slideshow": {
     "slide_type": "slide"
    }
   },
   "source": [
    "## Das Python-Paket `python-tsp` testen\n",
    "\n",
    "- TSP-Instanzen einlesen"
   ]
  },
  {
   "cell_type": "code",
   "execution_count": 9,
   "metadata": {
    "slideshow": {
     "slide_type": "-"
    }
   },
   "outputs": [],
   "source": [
    "from python_tsp.distances import tsplib_distance_matrix\n",
    "\n",
    "# Lokale Installation\n",
    "instances_path = \"./../instances/tsp/\" \n",
    "\n",
    "#Im Fall von Colab (oder lokal im selben Ordner wir Notebook) nach drag&drop:\n",
    "#instances_path = \"./\" \n",
    "\n",
    "#instance_name = \"a280.tsp\" # optimale Lösung 2579 (lt. http://comopt.ifi.uni-heidelberg.de/software/TSPLIB95/STSP.html)\n",
    "#instance_name = \"brazil58.tsp\" # optimale Lösung 25395 (lt. http://comopt.ifi.uni-heidelberg.de/software/TSPLIB95/STSP.html)\n",
    "instance_name = \"berlin52.tsp\" # optimale Lösung 7542 (lt. http://comopt.ifi.uni-heidelberg.de/software/TSPLIB95/STSP.html)\n",
    "tsplib_file = instances_path+instance_name \n",
    "distance_matrix = tsplib_distance_matrix(tsplib_file)\n",
    "\n",
    "instance_name_medium = \"ulysses22.tsp\" # optimale Lösung 7013(lt. http://comopt.ifi.uni-heidelberg.de/software/TSPLIB95/STSP.html)\n",
    "tsplib_file_medium = instances_path+instance_name_medium \n",
    "distance_matrix_medium = tsplib_distance_matrix(tsplib_file_medium)"
   ]
  },
  {
   "cell_type": "markdown",
   "metadata": {
    "slideshow": {
     "slide_type": "fragment"
    }
   },
   "source": [
    " - heuristische TSP-Algorithmen:"
   ]
  },
  {
   "cell_type": "code",
   "execution_count": 10,
   "metadata": {
    "slideshow": {
     "slide_type": "-"
    }
   },
   "outputs": [],
   "source": [
    "from python_tsp.heuristics import solve_tsp_local_search, solve_tsp_simulated_annealing"
   ]
  },
  {
   "cell_type": "code",
   "execution_count": 11,
   "metadata": {
    "slideshow": {
     "slide_type": "-"
    }
   },
   "outputs": [
    {
     "name": "stdout",
     "output_type": "stream",
     "text": [
      "CPU times: total: 1.22 s\n",
      "Wall time: 1.22 s\n"
     ]
    },
    {
     "data": {
      "text/plain": [
       "7881"
      ]
     },
     "execution_count": 11,
     "metadata": {},
     "output_type": "execute_result"
    }
   ],
   "source": [
    "%%time\n",
    "tour, distance = solve_tsp_simulated_annealing(distance_matrix)\n",
    "distance"
   ]
  },
  {
   "cell_type": "markdown",
   "metadata": {
    "slideshow": {
     "slide_type": "fragment"
    }
   },
   "source": [
    "- exakte TSP-Algorithmen basierend auf Enumeration und dynamischer Programmierung\n",
    "  - (vorsicht: dauert wahrscheinlich lange mit Instanzen > 10 Items)\n",
    "  "
   ]
  },
  {
   "cell_type": "code",
   "execution_count": 12,
   "metadata": {
    "slideshow": {
     "slide_type": "-"
    }
   },
   "outputs": [],
   "source": [
    "from python_tsp.exact import solve_tsp_dynamic_programming\n",
    "\n",
    "#tour, distance = solve_tsp_dynamic_programming(distance_matrix_21)\n",
    "\n",
    "#distance"
   ]
  },
  {
   "cell_type": "markdown",
   "metadata": {
    "slideshow": {
     "slide_type": "slide"
    }
   },
   "source": [
    "## Nearest Neighbor als Greedy-Verfahren für das TSP: Hilfsfunktion\n",
    "\n",
    "- hier eine etwas andere Implementierung als zuvor:\n",
    "  - zuvor hatten wir eine Hilfsfunktion: `select_nearest_neighbor`, die den nächsten Knoten ausgewählt hat\n",
    "  - nun schreiben wir eine Funktion, die uns für jeden zulässigen Nachbarn (der noch nicht in der Tour ist) ein `tuple` `(distance, tour)` gibt, mit der Distanz und der gesamten Kandidaten-Tour \n",
    "  - beachte: Wir schließen die \"Rückfahrt\" ein!"
   ]
  },
  {
   "cell_type": "code",
   "execution_count": 13,
   "metadata": {},
   "outputs": [],
   "source": [
    "@njit\n",
    "def get_dist_feasible_candidate_tours(tour, total_distance, distance_matrix):\n",
    "    \n",
    "    dist_candidate_tour = []\n",
    "    for neighbor, distance in enumerate(distance_matrix[tour[-1]]):\n",
    "        if neighbor in tour:\n",
    "            continue\n",
    "        \n",
    "        candidate_tour = tour + [neighbor]\n",
    "        \n",
    "        if len(candidate_tour) == len(distance_matrix):\n",
    "            distance += distance_matrix[neighbor, tour[0]]\n",
    "        \n",
    "        total_distance_candidate_tour = total_distance + distance\n",
    "        dist_candidate_tour.append((total_distance_candidate_tour, candidate_tour))\n",
    "        \n",
    "        \n",
    "    return dist_candidate_tour\n"
   ]
  },
  {
   "cell_type": "code",
   "execution_count": 61,
   "metadata": {
    "slideshow": {
     "slide_type": "-"
    }
   },
   "outputs": [
    {
     "name": "stdout",
     "output_type": "stream",
     "text": [
      "[(5, [1, 0]), (8, [1, 2]), (5, [1, 3])]\n"
     ]
    },
    {
     "data": {
      "text/plain": [
       "(5, [1, 0])"
      ]
     },
     "execution_count": 61,
     "metadata": {},
     "output_type": "execute_result"
    }
   ],
   "source": [
    "dist_tour = get_dist_feasible_candidate_tours([1], 0, distance_matrix_small)\n",
    "print (dist_tour)\n",
    "min(dist_tour)"
   ]
  },
  {
   "cell_type": "markdown",
   "metadata": {
    "slideshow": {
     "slide_type": "slide"
    }
   },
   "source": [
    "## Nearest Neighbor als Greedy-Verfahren für das TSP: Hauptfunktion\n",
    "\n",
    "- die Hauptfunktion `tsp_greedy` sieht dann auch leicht anders aus:\n",
    "  - beachte: der erste Parameter ist eine Tour!\n",
    "  - und: durch die Verwendung des tupels `(distance, tour)` für jeden Nachbarn können wir einfach das Minimum aus der Liste der Tupel suchen (denn das erste Element wird zum Vergleich zuerst herangezogen)"
   ]
  },
  {
   "cell_type": "code",
   "execution_count": 15,
   "metadata": {
    "slideshow": {
     "slide_type": "-"
    }
   },
   "outputs": [],
   "source": [
    "@njit\n",
    "def tsp_greedy(tour, distance_matrix):\n",
    "        \n",
    "    total_distance = 0\n",
    "    \n",
    "    #solange die sequenz noch nicht alle Knoten umfasst\n",
    "    while len(tour) < len(distance_matrix):    \n",
    "        \n",
    "        #bestimme alle zulässigen Nachbarn und deren Entfernungen\n",
    "        dist_candidate_tours = get_dist_feasible_candidate_tours(tour, total_distance, distance_matrix)   \n",
    "        \n",
    "        # bestimme das minimale Tupel (der erste Wert des Tupels, d.h. die Distance, wird automatisch genutzt)\n",
    "        distance_best_candidate_tour, best_candidate_tour = min(dist_candidate_tours)\n",
    "        \n",
    "        tour = best_candidate_tour\n",
    "        total_distance = distance_best_candidate_tour    \n",
    "        \n",
    "\n",
    "    return tour, total_distance"
   ]
  },
  {
   "cell_type": "code",
   "execution_count": 60,
   "metadata": {},
   "outputs": [
    {
     "data": {
      "text/plain": [
       "8980"
      ]
     },
     "execution_count": 60,
     "metadata": {},
     "output_type": "execute_result"
    }
   ],
   "source": [
    "tour, distance = tsp_greedy([0], distance_matrix)\n",
    "distance"
   ]
  },
  {
   "cell_type": "markdown",
   "metadata": {
    "slideshow": {
     "slide_type": "slide"
    }
   },
   "source": [
    "## Abstraktion: Zustands(raum)modellierung / State Space Representation\n",
    "\n",
    "Ein Greedy-Verfahren konstruiert Schritt für Schritt eine Lösung (es ist ein Konstruktionsverfahren)\n",
    "\n",
    "Für jeden Schritt müssen wir folgende Fragen beantworten:\n",
    "1. Welche Entscheidungen / Handlungen / Aktionen sind möglich?\n",
    "2. Welche der möglichen Entscheidungen sollte gewählt werden?"
   ]
  },
  {
   "cell_type": "markdown",
   "metadata": {
    "slideshow": {
     "slide_type": "fragment"
    }
   },
   "source": [
    "Zur Beantwortung von Frage 1 brauchen wir:\n",
    "- eine Beschreibung des aktuellen **Zustands**:\n",
    "  - TSP: die bisherige Tour\n",
    "  - Rucksackproblem: das bisher eingepackte Gewicht \n",
    "- die \"Regeln\" / Restriktionen, die beschreiben, **welche Handlungen in einem Zustand zulässig sind**\n",
    "  - TSP: kein erneuter Besuch einer bereits besuchten Stadt\n",
    "  - Rucksackproblem: Gegenstand einpacken geht nur, wenn das Gesamtgewicht nicht überschritten wird"
   ]
  },
  {
   "cell_type": "markdown",
   "metadata": {
    "slideshow": {
     "slide_type": "fragment"
    }
   },
   "source": [
    "Zur Beantwortung von Frage 2 brauchen wir ein Auswahl-Kriterium\n",
    "- z.B. der Wert der neuen Teillösung:\n",
    "  - TSP: Distanz der (Teil-)Tour nach Hinzunahme des Nacharn\n",
    "  - Rucksackproblem: Gesamtwert der Lösung nach Hinzunahme eines Elements"
   ]
  },
  {
   "cell_type": "markdown",
   "metadata": {
    "slideshow": {
     "slide_type": "slide"
    }
   },
   "source": [
    "## Die Suche im Lösungsraum kann als Graph dargestellt werden\n",
    "\n",
    "- man nennt diesen Graph den Suchgraph oder auch **Suchbaum**\n",
    "- in diesem Graph entsprechen \n",
    "  - die Knoten den **Zuständen** (siehe oben)\n",
    "  - die Kanten den **Entscheidungen**\n",
    "  \n"
   ]
  },
  {
   "cell_type": "markdown",
   "metadata": {
    "slideshow": {
     "slide_type": "-"
    }
   },
   "source": [
    "Wir können daher **Suchverfahren in Graphen** anwenden, um eine optimale Lösung zu finden.\n",
    "- wir schauen uns das gleich einmal für den Greedy-Fall an"
   ]
  },
  {
   "cell_type": "markdown",
   "metadata": {
    "slideshow": {
     "slide_type": "slide"
    }
   },
   "source": [
    "## Beachte: Es folgen Funktionen zur Visualisierung\n",
    "- wir möchten manche unserer Algorithmen visualisieren\n",
    "- dazu nutzen wir einige Hilfsfunktionen sowie\n",
    "- angepasste Implementierungen unserer Algorithmen\n",
    "\n",
    "**Wichtig:** Die Anpassungen brauchen wir nicht für die Algorithmen selbst!"
   ]
  },
  {
   "cell_type": "code",
   "execution_count": 17,
   "metadata": {},
   "outputs": [],
   "source": [
    "    \n",
    "def add_to_search_graph(g, prev_state, state, decision, distance_decision, distance_state):\n",
    "    clear_output()\n",
    "    g.add_edge(prev_state,state, label= \" add:\" + str(decision) + \" d:\" + str(distance_decision))\n",
    "    g.nodes()[state][\"xlabel\"]= distance_state\n",
    "    svg = nx.nx_agraph.to_agraph(g).draw(prog='dot',format='svg')\n",
    "    display(SVG(svg))\n"
   ]
  },
  {
   "cell_type": "markdown",
   "metadata": {
    "slideshow": {
     "slide_type": "slide"
    }
   },
   "source": [
    "## Eine visualisierte Version des Greedy-Verfahrens für das TSP"
   ]
  },
  {
   "cell_type": "code",
   "execution_count": 18,
   "metadata": {},
   "outputs": [],
   "source": [
    "def tsp_greedy_visualized(tour, distance_matrix):\n",
    "    total_distance = 0\n",
    "    g = nx.MultiDiGraph()\n",
    "    \n",
    "    #solange die sequenz noch nicht alle Knoten umfasst\n",
    "    while len(tour) < len(distance_matrix):    \n",
    "        \n",
    "        #bestimme alle zulässigen Kandidatentouren und deren Entfernungen\n",
    "        dist_candidate_tours = get_dist_feasible_candidate_tours(tour, total_distance, distance_matrix)   \n",
    "        \n",
    "        # bestimme das minimale Tupel (der erste Wert des Tupels, d.h. die Distance, wird automatisch genutzt)\n",
    "        distance_best_candidate_tour, best_candidate_tour = min(dist_candidate_tours)\n",
    "        \n",
    "        next_node = best_candidate_tour[-1]\n",
    "        \n",
    "        next_node_distance = distance_best_candidate_tour - total_distance\n",
    "        \n",
    "        add_to_search_graph(g, tuple(tour), tuple(best_candidate_tour), next_node, next_node_distance, total_distance)\n",
    "        \n",
    "        tour = best_candidate_tour\n",
    "        total_distance = distance_best_candidate_tour   \n",
    "        keyboard.read_key()\n",
    "        \n",
    "    return tour, total_distance    \n"
   ]
  },
  {
   "cell_type": "code",
   "execution_count": 19,
   "metadata": {
    "scrolled": true,
    "slideshow": {
     "slide_type": "slide"
    }
   },
   "outputs": [
    {
     "name": "stdout",
     "output_type": "stream",
     "text": [
      "8980\n"
     ]
    }
   ],
   "source": [
    "\n",
    "#tour, distance = tsp_greedy_visualized([0], distance_matrix_small)\n",
    "print (distance)"
   ]
  },
  {
   "cell_type": "markdown",
   "metadata": {
    "slideshow": {
     "slide_type": "slide"
    }
   },
   "source": [
    "## Durchlaufen des Suchbaums: Breitensuche\n",
    "\n",
    "- Greedy betrachtet pro Stufe / Level / Ebene des Suchbaums nur einen einzigen Zustandsknoten\n",
    "- Wenn wir alle Knoten betrachen, haben wir eine **Breitensuche** (siehe Vorlesung)"
   ]
  },
  {
   "cell_type": "code",
   "execution_count": 20,
   "metadata": {},
   "outputs": [],
   "source": [
    "def tsp_breadth_first_search_visualized(tour, distance_matrix):\n",
    "        \n",
    "    total_distance = 0\n",
    "    \n",
    "    ## für die Visualisierung\n",
    "    g = nx.MultiDiGraph()\n",
    "    \n",
    "    # alle Zustandsknoten als Distanz-Tour-Tupel in der aktuellen Stufe / Ebene \n",
    "    dist_tours_current_stage = [(0, tour.copy())] \n",
    "    \n",
    "    for stage in range(0,len(distance_matrix)-1):\n",
    "        \n",
    "        dist_tours_next_stage = []\n",
    "        \n",
    "        for tour_dist, current_tour in dist_tours_current_stage:\n",
    "            \n",
    "            old_tour_tuple = tuple(current_tour)\n",
    "            \n",
    "            #bestimme alle zulässigen Tourerweiterungen und deren Entfernungen\n",
    "            dist_candidate_tours = get_dist_feasible_candidate_tours(current_tour, tour_dist, distance_matrix)   \n",
    "        \n",
    "            for candidate_tour_dist, candidate_tour in dist_candidate_tours:\n",
    "                         \n",
    "                next_node = candidate_tour[-1]\n",
    "        \n",
    "                next_node_distance = candidate_tour_dist - tour_dist\n",
    "            \n",
    "                add_to_search_graph(g, old_tour_tuple, tuple(candidate_tour), next_node, next_node_distance, candidate_tour_dist)\n",
    "                \n",
    "                keyboard.read_key()\n",
    "\n",
    "                dist_tours_next_stage.append( (candidate_tour_dist, candidate_tour) )\n",
    "                \n",
    "        dist_tours_current_stage = dist_tours_next_stage.copy()\n",
    "\n",
    "    best_distance, best_tour  = min(dist_tours_current_stage)\n",
    "    return best_tour, best_distance"
   ]
  },
  {
   "cell_type": "code",
   "execution_count": 21,
   "metadata": {
    "slideshow": {
     "slide_type": "slide"
    }
   },
   "outputs": [],
   "source": [
    "distance_matrix_5 =  np.array([\n",
    "    [0,  5, 4, 10, 8],\n",
    "    [5,  0, 8,  5, 4],\n",
    "    [4,  8, 0,  3, 7],\n",
    "    [10, 5, 3,  0, 9 ],\n",
    "    [8,  4, 7,  9, 0]\n",
    "])\n",
    "\n",
    "#tour, distance = tsp_breadth_first_search_visualized([0], distance_matrix_5)"
   ]
  },
  {
   "cell_type": "code",
   "execution_count": 22,
   "metadata": {},
   "outputs": [
    {
     "name": "stdout",
     "output_type": "stream",
     "text": [
      "8980\n"
     ]
    }
   ],
   "source": [
    "print(distance)"
   ]
  },
  {
   "cell_type": "markdown",
   "metadata": {
    "slideshow": {
     "slide_type": "slide"
    }
   },
   "source": [
    "# Beam Search: Einschränkung der Breitensuche\n",
    "\n",
    "- Idee: ein Kompromiss zwischen Greedy und Breitensuche\n",
    "- übernimm auf jeder Stufe nur eine bestimmte Anzahl (beam-width) von Zustandsknoten\n",
    "  - Auswahl z.B. auf Basis von Distanz der Tour\n",
    "- hier einfache Implementierung mit der Funktion `nsmallest` aus dem Paket `heapq`"
   ]
  },
  {
   "cell_type": "code",
   "execution_count": 23,
   "metadata": {},
   "outputs": [],
   "source": [
    "from heapq import nsmallest\n",
    "def tsp_beam_search_visualized(tour, distance_matrix, beam_width):\n",
    "        \n",
    "    total_distance = 0\n",
    "    \n",
    "    ## für die Visualisierung\n",
    "    g = nx.MultiDiGraph()\n",
    "    \n",
    "    # alle Zustandsknoten als Distanz-Tour-Tupel in der aktuellen Stufe / Ebene \n",
    "    dist_tours_current_stage = [(0, tour.copy())] \n",
    "    \n",
    "    for stage in range(0,len(distance_matrix)-1):\n",
    "        \n",
    "        dist_tours_next_stage = []\n",
    "        \n",
    "        for tour_dist, current_tour in dist_tours_current_stage:\n",
    "            \n",
    "            old_tour_tuple = tuple(current_tour)\n",
    "            \n",
    "            #bestimme alle zulässigen Tourerweiterungen und deren Entfernungen\n",
    "            dist_candidate_tours = get_dist_feasible_candidate_tours(current_tour, tour_dist, distance_matrix)     \n",
    "            \n",
    "        \n",
    "            for candidate_tour_dist, candidate_tour in dist_candidate_tours:\n",
    "                         \n",
    "                next_node = candidate_tour[-1]\n",
    "        \n",
    "                next_node_distance = candidate_tour_dist - tour_dist\n",
    "            \n",
    "                add_to_search_graph(g, old_tour_tuple, tuple(candidate_tour), next_node, next_node_distance, candidate_tour_dist)\n",
    "                \n",
    "                keyboard.read_key()\n",
    "\n",
    "                dist_tours_next_stage.append( (candidate_tour_dist, candidate_tour) )\n",
    "                \n",
    "        dist_tours_current_stage = nsmallest(beam_width, dist_tours_next_stage)\n",
    "\n",
    "    \n",
    "    best_distance, best_tour  = min(dist_tours_current_stage)\n",
    "    \n",
    "    return best_tour, best_distance"
   ]
  },
  {
   "cell_type": "code",
   "execution_count": 24,
   "metadata": {
    "slideshow": {
     "slide_type": "slide"
    }
   },
   "outputs": [],
   "source": [
    "#tour, distance = tsp_beam_search_visualized([0], distance_matrix_5 1)"
   ]
  },
  {
   "cell_type": "code",
   "execution_count": 25,
   "metadata": {},
   "outputs": [
    {
     "name": "stdout",
     "output_type": "stream",
     "text": [
      "8980\n"
     ]
    }
   ],
   "source": [
    "print(distance)"
   ]
  },
  {
   "cell_type": "markdown",
   "metadata": {
    "slideshow": {
     "slide_type": "slide"
    }
   },
   "source": [
    "## Beam Search ohne Visualisierung\n",
    "\n",
    "- zum Testen größerer Instanzen hier Code ohne Visualisierung:"
   ]
  },
  {
   "cell_type": "code",
   "execution_count": 26,
   "metadata": {
    "slideshow": {
     "slide_type": "slide"
    }
   },
   "outputs": [],
   "source": [
    "\n",
    "def tsp_beam_search(tour, distance_matrix, beam_width):\n",
    "        \n",
    "    total_distance = 0\n",
    "    \n",
    "    \n",
    "    # alle Zustandsknoten als Distanz-Tour-Tupel in der aktuellen Stufe / Ebene \n",
    "    dist_tours_current_stage = [(0, tour.copy())] \n",
    "    \n",
    "    for stage in range(0,len(distance_matrix)-1):\n",
    "        \n",
    "        dist_tours_next_stage = []\n",
    "        \n",
    "        for tour_dist, current_tour in dist_tours_current_stage:\n",
    "                  \n",
    "            #bestimme alle zulässigen Tourerweiterungen und deren Entfernungen\n",
    "            dist_candidate_tours = get_dist_feasible_candidate_tours(current_tour, tour_dist, distance_matrix)     \n",
    "            \n",
    "        \n",
    "            for candidate_tour_dist, candidate_tour in dist_candidate_tours:                         \n",
    "\n",
    "                dist_tours_next_stage.append( (candidate_tour_dist, candidate_tour) )\n",
    "                \n",
    "        dist_tours_current_stage = nsmallest(beam_width, dist_tours_next_stage)\n",
    "    \n",
    "    best_distance, best_tour  = min(dist_tours_current_stage)\n",
    "    return best_tour, best_distance"
   ]
  },
  {
   "cell_type": "markdown",
   "metadata": {
    "slideshow": {
     "slide_type": "fragment"
    }
   },
   "source": [
    "..probieren wir es aus:"
   ]
  },
  {
   "cell_type": "code",
   "execution_count": 27,
   "metadata": {},
   "outputs": [
    {
     "name": "stdout",
     "output_type": "stream",
     "text": [
      "8446\n"
     ]
    }
   ],
   "source": [
    "tour, distance = tsp_beam_search([0], distance_matrix, 1000)\n",
    "\n",
    "print (distance)"
   ]
  },
  {
   "cell_type": "markdown",
   "metadata": {
    "slideshow": {
     "slide_type": "slide"
    }
   },
   "source": [
    "## Beobachtung: Eine größere Breite impliziert nicht unbedingt eine bessere Lösung! "
   ]
  },
  {
   "cell_type": "markdown",
   "metadata": {},
   "source": [
    "- intuitiv könnte man denken, dass eine breitere Suche automatisch zu einer besseren Lösung führt\n",
    "- das stimmt auch im Grenzfall einer unbegrenzten Breite - da haben wir eine vollständige Enumeration\n",
    "- allerdings kann eine Erweiterung der Breite auch verschlechternd wirken, siehe unser Beispiel für das TSP:"
   ]
  },
  {
   "cell_type": "code",
   "execution_count": 28,
   "metadata": {},
   "outputs": [
    {
     "name": "stdout",
     "output_type": "stream",
     "text": [
      "Beam width 1 Distanz: 8980\n",
      "Beam width 10 Distanz: 9423\n",
      "Beam width 50 Distanz: 9497\n",
      "Beam width 100 Distanz: 9846\n",
      "Beam width 1000 Distanz: 8446\n"
     ]
    }
   ],
   "source": [
    "beam_widths = [1, 10, 50, 100, 1000]\n",
    "\n",
    "for beam_width in beam_widths:    \n",
    "    tour, distance = tsp_beam_search([0], distance_matrix, beam_width)\n",
    "    print (\"Beam width\", beam_width, \"Distanz:\", distance)"
   ]
  },
  {
   "cell_type": "markdown",
   "metadata": {},
   "source": [
    "- das kann insbesondere dann passieren, wenn das Auswahl- bzw. Evaluationskritierium, nach dem die zu untersuchenden Zustände / Knoten im Suchbaum nicht sehr gut sind.\n",
    "\n",
    ".. für eine Diskussion einschließlich eines Beispiels siehe z.B. https://cs.stackexchange.com/questions/117600/why-increasing-the-beam-width-does-not-necessarily-improve-the-beam-search-solut"
   ]
  },
  {
   "cell_type": "markdown",
   "metadata": {},
   "source": [
    "- schauen wir später, wie wir an bessere Evaluationskriterien kommen!"
   ]
  },
  {
   "cell_type": "markdown",
   "metadata": {},
   "source": [
    "# Übung: Beam Search für das Rucksackproblem\n",
    "\n"
   ]
  },
  {
   "cell_type": "markdown",
   "metadata": {
    "slideshow": {
     "slide_type": "slide"
    }
   },
   "source": [
    "## Greedy-Algorithmus für das Rucksack-Problem: Implementierung in Python"
   ]
  },
  {
   "cell_type": "code",
   "execution_count": 29,
   "metadata": {
    "slideshow": {
     "slide_type": "-"
    }
   },
   "outputs": [],
   "source": [
    "def greedy_knapsack(values, weights, capacity):\n",
    "    solution = [] # Array mit Lösungen\n",
    "    obj_val=0 # akkumulierter Wert\n",
    "    total_weight=0 # akkumuliertes Gewicht\n",
    "    \n",
    "    for i in range(len(values)): \n",
    "        if total_weight + weights[i] <= capacity: ## wenn das item noch reinpasst...\n",
    "            solution.append(i) ## füge es hinzu und\n",
    "            total_weight+= weights[i] # erhöhe das verbrauchte Gewicht\n",
    "            obj_val += values[i] # und den Zielfunktionswert\n",
    "    return obj_val, solution\n"
   ]
  },
  {
   "cell_type": "markdown",
   "metadata": {
    "slideshow": {
     "slide_type": "fragment"
    }
   },
   "source": [
    ".. probieren wir es aus:"
   ]
  },
  {
   "cell_type": "code",
   "execution_count": 30,
   "metadata": {
    "slideshow": {
     "slide_type": "-"
    }
   },
   "outputs": [
    {
     "data": {
      "text/plain": [
       "(3000, [0])"
      ]
     },
     "execution_count": 30,
     "metadata": {},
     "output_type": "execute_result"
    }
   ],
   "source": [
    "values = [3000,2000,1500]\n",
    "weights = [30,20,15]\n",
    "capacity = 35\n",
    "\n",
    "greedy_knapsack(values, weights, capacity)"
   ]
  },
  {
   "cell_type": "markdown",
   "metadata": {
    "slideshow": {
     "slide_type": "slide"
    }
   },
   "source": [
    "## Verbesserungsidee Greedy-Algorithmus: Sortieren der Elemente\n",
    "\n",
    "Welche Sortierungen wären sinnvoll?"
   ]
  },
  {
   "cell_type": "markdown",
   "metadata": {
    "slideshow": {
     "slide_type": "slide"
    }
   },
   "source": [
    "Wie kann man eine solche Sortierung implementieren?"
   ]
  },
  {
   "cell_type": "markdown",
   "metadata": {
    "slideshow": {
     "slide_type": "slide"
    }
   },
   "source": [
    "## Sortierung: Nutzung von vorhandenen Funktionen\n",
    "\n",
    "- in \"reinem\" Python: `sorted(liste)` gibt die Liste "
   ]
  },
  {
   "cell_type": "code",
   "execution_count": 31,
   "metadata": {},
   "outputs": [
    {
     "data": {
      "text/plain": [
       "[15, 20, 30]"
      ]
     },
     "execution_count": 31,
     "metadata": {},
     "output_type": "execute_result"
    }
   ],
   "source": [
    "sorted(weights)"
   ]
  },
  {
   "cell_type": "markdown",
   "metadata": {
    "slideshow": {
     "slide_type": "fragment"
    }
   },
   "source": [
    "- in `numpy` gibt es eine Reihe von Sortierfunktionen, z.B. `sort`"
   ]
  },
  {
   "cell_type": "code",
   "execution_count": 32,
   "metadata": {
    "slideshow": {
     "slide_type": "-"
    }
   },
   "outputs": [
    {
     "data": {
      "text/plain": [
       "array([15, 20, 30])"
      ]
     },
     "execution_count": 32,
     "metadata": {},
     "output_type": "execute_result"
    }
   ],
   "source": [
    "np.sort(weights)"
   ]
  },
  {
   "cell_type": "markdown",
   "metadata": {
    "slideshow": {
     "slide_type": "-"
    }
   },
   "source": [
    "**Problem:** Wir haben jetzt zwar die sortierten Gewichte, aber wir möchten wissen, zu welchen Items / Gegenstände zu diesen gehören!"
   ]
  },
  {
   "cell_type": "markdown",
   "metadata": {
    "slideshow": {
     "slide_type": "slide"
    }
   },
   "source": [
    "## Sortierung: Wie können wir beide Arrays \"simultan\" sortieren?\n",
    "\n",
    "- in `numpy` gibt es die Funktion `argsort`, die nicht die sortierten Elemente zurückgibt, sondern die Indizes der Elemente:"
   ]
  },
  {
   "cell_type": "code",
   "execution_count": 33,
   "metadata": {
    "slideshow": {
     "slide_type": "-"
    }
   },
   "outputs": [
    {
     "data": {
      "text/plain": [
       "array([2, 1, 0], dtype=int64)"
      ]
     },
     "execution_count": 33,
     "metadata": {},
     "output_type": "execute_result"
    }
   ],
   "source": [
    "sorted_indexes = np.argsort(weights)\n",
    "sorted_indexes"
   ]
  },
  {
   "cell_type": "markdown",
   "metadata": {
    "slideshow": {
     "slide_type": "slide"
    }
   },
   "source": [
    "- diese sortierten Indizes können zum umsortieren von `numpy`-arrays wie folgt genutzt werden:"
   ]
  },
  {
   "cell_type": "code",
   "execution_count": 34,
   "metadata": {
    "slideshow": {
     "slide_type": "-"
    }
   },
   "outputs": [
    {
     "data": {
      "text/plain": [
       "array([15, 20, 30])"
      ]
     },
     "execution_count": 34,
     "metadata": {},
     "output_type": "execute_result"
    }
   ],
   "source": [
    "values = np.array(values)\n",
    "weights = np.array(weights)\n",
    "\n",
    "values_sorted_by_weight = values[sorted_indexes]\n",
    "weights_sorted_by_weight = weights[sorted_indexes]\n",
    "\n",
    "weights_sorted_by_weight\n",
    "\n"
   ]
  },
  {
   "cell_type": "markdown",
   "metadata": {
    "slideshow": {
     "slide_type": "slide"
    }
   },
   "source": [
    "## Greedy-Knapack mit aufsteigend nach Gewicht sortiertem Array:"
   ]
  },
  {
   "cell_type": "code",
   "execution_count": 35,
   "metadata": {
    "slideshow": {
     "slide_type": "-"
    }
   },
   "outputs": [
    {
     "data": {
      "text/plain": [
       "(3500, [0, 1])"
      ]
     },
     "execution_count": 35,
     "metadata": {},
     "output_type": "execute_result"
    }
   ],
   "source": [
    "greedy_knapsack(values_sorted_by_weight, weights_sorted_by_weight, capacity)"
   ]
  },
  {
   "cell_type": "markdown",
   "metadata": {
    "slideshow": {
     "slide_type": "slide"
    }
   },
   "source": [
    "## Sortierung: Wie können wir die Arrays nach einem anderen Kriterium sortieren?\n",
    "\n",
    "Mögliche Sortierungen wären:\n",
    "- absteigend nach Wert\n",
    "- absteigend nach Wert / Gewicht\n",
    "\n",
    "\n",
    "**Einfacher Ansatz** zum Erhalt einer **absteigenden Sortierung**: Multiplikation mit -1"
   ]
  },
  {
   "cell_type": "code",
   "execution_count": 36,
   "metadata": {
    "slideshow": {
     "slide_type": "-"
    }
   },
   "outputs": [
    {
     "data": {
      "text/plain": [
       "array([3000, 2000, 1500])"
      ]
     },
     "execution_count": 36,
     "metadata": {},
     "output_type": "execute_result"
    }
   ],
   "source": [
    "negative_values = values * -1\n",
    "sorted_indexes = np.argsort(negative_values)\n",
    "\n",
    "values_sorted = values[sorted_indexes]\n",
    "weights_sorted = weights[sorted_indexes]\n",
    "values_sorted"
   ]
  },
  {
   "cell_type": "markdown",
   "metadata": {
    "slideshow": {
     "slide_type": "fragment"
    }
   },
   "source": [
    "**Einfacher Ansatz** zum Erhalt einer **absteigenden Sortierung nach Wert / Gewicht**: Bildung eines Hilfsarrays"
   ]
  },
  {
   "cell_type": "code",
   "execution_count": 37,
   "metadata": {},
   "outputs": [
    {
     "data": {
      "text/plain": [
       "array([3000, 2000, 1500])"
      ]
     },
     "execution_count": 37,
     "metadata": {},
     "output_type": "execute_result"
    }
   ],
   "source": [
    "negative_ratio = values/weights * -1\n",
    "\n",
    "sorted_indexes = np.argsort(negative_ratio)\n",
    "\n",
    "values_sorted = values[sorted_indexes]\n",
    "weights_sorted = weights[sorted_indexes]\n",
    "values_sorted"
   ]
  },
  {
   "cell_type": "markdown",
   "metadata": {
    "slideshow": {
     "slide_type": "slide"
    }
   },
   "source": [
    "## Genug Sandkasten-Beispiele: Größere Probleminstanzen\n",
    "\n",
    "- eines der Ziele dieser Veranstaltung besteht darin, auch größere / schwierigere Probleme zu lösen\n",
    "  - genauer gesagt: größere / schwierigere **Probleminstanzen**\n",
    "- wir könnten solche Instanzen (zufällig) generieren\n",
    "- es existieren jedoch für grundlegende kombinatorische Optimierungsprobleme in der Regel eine Reihe von bekannten Probleminstanzen, die z.B. in Form von strukturierten Textdateien vorliegen\n",
    "- diese können z.B. zum Vergleich / Benchmarking von Algorithmen verwendet werden\n",
    "- es gibt auch für viele schwere Probleme so genannte \"offene\" Instanzen, die bisher noch nicht optimal gelöst wurden\n",
    "\n",
    "  \n"
   ]
  },
  {
   "cell_type": "markdown",
   "metadata": {
    "slideshow": {
     "slide_type": "slide"
    }
   },
   "source": [
    "## Probleminstanzen für das Rucksackproblem\n",
    "\n",
    "- für das Rucksackproblem gibt es sehr viele Instanzen\n",
    "- ein bekannter Satz von Instanzen wurde von D. Pisinger erstellt\n",
    "- wir haben ein paar dieser Instanzen im Instanz-Ordner zu diesem Foliensatz hinterlegt\n",
    "\n",
    "Für einige dieser Instanzen findet man unter folgendem Link die optimalen Lösungen:\n",
    "\n",
    "http://artemisa.unicauca.edu.co/~johnyortega/instances_01_KP/\n"
   ]
  },
  {
   "cell_type": "markdown",
   "metadata": {
    "slideshow": {
     "slide_type": "slide"
    }
   },
   "source": [
    "## Dateiformat der Rucksack-Probleminstanzen\n",
    "\n",
    "Die Instanzdateien haben folgendes Format:\n",
    "\n",
    "- erste Zeile: `anzahl_items` `kapazität`\n",
    "- jede weitere Zeile enthält für jedes Item: `wert` `gewicht`"
   ]
  },
  {
   "cell_type": "markdown",
   "metadata": {
    "slideshow": {
     "slide_type": "slide"
    }
   },
   "source": [
    "Unser \"Sandkastenbeispiel\" sähe in diesem Format wie folgt aus:"
   ]
  },
  {
   "cell_type": "raw",
   "metadata": {
    "slideshow": {
     "slide_type": "-"
    }
   },
   "source": [
    "3 35\n",
    "3000 30\n",
    "2000 20\n",
    "1500 15"
   ]
  },
  {
   "cell_type": "markdown",
   "metadata": {
    "slideshow": {
     "slide_type": "slide"
    }
   },
   "source": [
    "## Einlesen von Probleminstanzen\n",
    "\n",
    "Wollen wir die bekannten Instanzen nutzen, so müssen wir: \n",
    "- die Daten aus den Textdateien auslesen und\n",
    "- in Datenstrukturen überführen, die wir für unsere Algorithmen nutzen können:"
   ]
  },
  {
   "cell_type": "code",
   "execution_count": 38,
   "metadata": {
    "slideshow": {
     "slide_type": "-"
    }
   },
   "outputs": [],
   "source": [
    "def read_knapsack_instance(filename):\n",
    "    weights=[]\n",
    "    values=[]\n",
    "    with open(filename) as f: # öffne die Datei\n",
    "        line = f.readline().split()  # splitte die erste Zeile in Einzelelemente\n",
    "        number_of_items = int(line[0]) # lese die Anzahl items aus Zeile 1 aus\n",
    "        capacity = int(line[1]) # lese die Kapazität aus\n",
    "        for i in range(number_of_items): # lese die Werte der einzelnen Items aus\n",
    "            line = f.readline().split() # lese Zeile aus Datei und splitte die Zeile in Einzelelemente\n",
    "            values.append(int(line[0])) # lese den Wert\n",
    "            weights.append(int(line[1])) # lese die Kapazität\n",
    "    return np.array(values), np.array(weights), capacity"
   ]
  },
  {
   "cell_type": "markdown",
   "metadata": {
    "slideshow": {
     "slide_type": "fragment"
    }
   },
   "source": [
    "... probieren wir es aus an einer Instanz mit 5000 Items:"
   ]
  },
  {
   "cell_type": "code",
   "execution_count": 39,
   "metadata": {
    "slideshow": {
     "slide_type": "-"
    }
   },
   "outputs": [],
   "source": [
    "filename = \"../instances/knapsack/knapPI_1_5000_1000_1\"\n",
    "\n",
    "values, weights, capacity  = read_knapsack_instance(filename)"
   ]
  },
  {
   "cell_type": "markdown",
   "metadata": {
    "slideshow": {
     "slide_type": "slide"
    }
   },
   "source": [
    "## Lösen der Probleminstanzen\n",
    "\n",
    "- nun können wir unseren Greedy-Ansatz und veschiedene Sortierungen evaluieren!"
   ]
  },
  {
   "cell_type": "code",
   "execution_count": 40,
   "metadata": {
    "slideshow": {
     "slide_type": "-"
    }
   },
   "outputs": [
    {
     "name": "stdout",
     "output_type": "stream",
     "text": [
      "Zielfunktionswert in der Basisversion: 33727\n"
     ]
    }
   ],
   "source": [
    "values, weights, capacity  = read_knapsack_instance(filename)\n",
    "\n",
    "obj_val, solution = greedy_knapsack(values,weights,capacity)\n",
    "\n",
    "print (\"Zielfunktionswert in der Basisversion:\", obj_val)"
   ]
  },
  {
   "cell_type": "markdown",
   "metadata": {
    "slideshow": {
     "slide_type": "fragment"
    }
   },
   "source": [
    ".. wie gut ist die Lösung im Vergleich zum Optimum? Schauen wir nach:\n",
    "http://artemisa.unicauca.edu.co/~johnyortega/instances_01_KP/"
   ]
  },
  {
   "cell_type": "markdown",
   "metadata": {
    "slideshow": {
     "slide_type": "slide"
    }
   },
   "source": [
    "><div class=\"alert alert-block alert-info\">\n",
    "<b> Testen Sie den Greedy-Algorithmus mit verschiedenen Sortierungen und vergleichen Sie mit der optimalen Lösung!</b></div>\n"
   ]
  },
  {
   "cell_type": "code",
   "execution_count": 41,
   "metadata": {},
   "outputs": [
    {
     "name": "stdout",
     "output_type": "stream",
     "text": [
      "Zielfunktionswert mit Ratio-Sortierung: 276379\n"
     ]
    }
   ],
   "source": [
    "negative_ratio = values/weights * -1\n",
    "\n",
    "sorted_indexes = np.argsort(negative_ratio)\n",
    "\n",
    "values_sorted = values[sorted_indexes]\n",
    "weights_sorted = weights[sorted_indexes]\n",
    "values_sorted\n",
    "\n",
    "obj_val, solution = greedy_knapsack(values_sorted,weights_sorted,capacity)\n",
    "\n",
    "print (\"Zielfunktionswert mit Ratio-Sortierung:\", obj_val)\n"
   ]
  },
  {
   "cell_type": "code",
   "execution_count": null,
   "metadata": {},
   "outputs": [],
   "source": []
  },
  {
   "cell_type": "markdown",
   "metadata": {
    "slideshow": {
     "slide_type": "slide"
    }
   },
   "source": [
    "### Aufgabe: Entwickeln Sie einen Beam Search-Algorithmus für das Rucksack-Problem!\n",
    "\n",
    "- wie lautet die grundlegende Idee?\n",
    "\n",
    "- nutzen Sie den Greedy-Algorithmus für das Rucksack-Problem sowie die Beam-Search-Implementierung für das Rucksack-Problem als Basis!\n",
    "\n",
    "- Beachten Sie: Wir haben es  mit einem Maximierungsproblem zu tun!\n",
    "  - anstelle von `nsmallest` können Sie `nlargest` nutzen\n",
    "\n"
   ]
  },
  {
   "cell_type": "code",
   "execution_count": 42,
   "metadata": {},
   "outputs": [],
   "source": [
    "from heapq import nlargest\n",
    "\n",
    "def knapsack_beam_search(values, weights,  beam_width):\n",
    "    \n",
    "    return"
   ]
  },
  {
   "cell_type": "markdown",
   "metadata": {
    "slideshow": {
     "slide_type": "slide"
    }
   },
   "source": [
    "# Informierte Suche"
   ]
  },
  {
   "cell_type": "markdown",
   "metadata": {
    "slideshow": {
     "slide_type": "slide"
    }
   },
   "source": [
    "## Uninformierte Suche\n",
    "\n",
    "- wie bereits mehrfach erwähnt, ist ein Greedy-Verfahren, das lediglich auf den Kosten der Teillösung durch eine Entscheidung (z.B. Länge der Tour nach Hinzufügen des Kandidaten / Nachbarn) bzw. auf den Kosten der Entscheidung (z.B. die Distanz zum Kandidaten / Nachbarn) **kurzsichtig**, weil es die zukünftigen Folgen der Entscheidung nicht berücksichtigt\n",
    "- für **Beam Search** gilt natürlich das gleiche, weil ebenfalls ein Kriterium nutzen, um die weiter zu verfolgenden Zustände / Knoten im Suchbaum zu bestimmen\n",
    "- in der Baumsuche nennt man diese Funktion, nach der man die Reihenfolge der Abarbeitung bestimmt, **Evaluationsfunktion**, die man als $f(n)$ schreibt, wobei $n$ ein Zustand bzw. Suchknoten ist.\n",
    "\n",
    "\n",
    "- in kurzsichtigen oder auch **uninformierten** Verfahren nutzt man zur Auswahl lediglich die **Kosten der Teillösung** der offenene Suchknoten / Zustände, die man als $g(n)$ schreibt\n",
    "  - d.h. $f(n) = g(n)$\n",
    "  - das ist, was in unserem obigen Greedy bzw. in unserem obigen Beam Search macht"
   ]
  },
  {
   "cell_type": "markdown",
   "metadata": {
    "slideshow": {
     "slide_type": "slide"
    }
   },
   "source": [
    "## Informierte Suche"
   ]
  },
  {
   "cell_type": "markdown",
   "metadata": {
    "slideshow": {
     "slide_type": "-"
    }
   },
   "source": [
    "- in der **informierten Suche** versucht man, die Auswirkungen der Entscheidung / Auswahl auf die Teillösung vom Suchknoten bis zum Ende der Suche (bis zu einer fertigen Lösung) abzuschätzen, man versucht also die **cost-to-go** abzuschätzen\n",
    "\n",
    "- man nennt eine Funktion, mit der man diese Abschätzung machen kann, eine **heuristische Funktion**, die allgemein als $h(n)$ geschrieben wird\n",
    "\n",
    "\n",
    "- diese Abschätzung der zukünftigen Kosten wird dann kombiniert mit den \"bisherigen\" Kosten, und man erhält die Evaluationsfunktion:\n",
    "\n",
    "  - $f(n) = g(n) + h(n)$"
   ]
  },
  {
   "cell_type": "markdown",
   "metadata": {
    "slideshow": {
     "slide_type": "-"
    }
   },
   "source": [
    "- haben Sie eine Idee, was wir für das TSP als heuristische Funktion nutzen könnten?"
   ]
  },
  {
   "cell_type": "markdown",
   "metadata": {
    "slideshow": {
     "slide_type": "slide"
    }
   },
   "source": [
    "## Greedy mit Rollout als Beispiel für die Nutzung einer heuristischen Funktion (für das TSP)\n",
    "\n",
    "- wir haben bereits eine einfaches Beispiel für eine heuristische Funktion kennengelernt:\n",
    "- **Rollout**, wobei eine Greedy-Algroithmus von jedem Kandidatenzustand bis zum Ende ausgeführt wird, um eine **Abschätzung** des zukünftigen Wertes jedes Kandidaten zu erhalten!\n",
    "\n",
    "- die folgende Funktion erhält einen Zustand (d.h. eine Teil-Tour) und eine Distanzmatrix und gibt die Kosten den Greedy bi zum Ende zurück (beachte: die \"bisherigen\" Kosten fließen nicht ein!)"
   ]
  },
  {
   "cell_type": "code",
   "execution_count": 43,
   "metadata": {
    "slideshow": {
     "slide_type": "-"
    }
   },
   "outputs": [],
   "source": [
    "@njit\n",
    "def heuristic_rollout(tour, distance_matrix):\n",
    "\n",
    "    _, distance = tsp_greedy(tour, distance_matrix)\n",
    "\n",
    "    return distance\n"
   ]
  },
  {
   "cell_type": "markdown",
   "metadata": {
    "slideshow": {
     "slide_type": "fragment"
    }
   },
   "source": [
    "Beispiel:"
   ]
  },
  {
   "cell_type": "code",
   "execution_count": 55,
   "metadata": {
    "slideshow": {
     "slide_type": "-"
    }
   },
   "outputs": [
    {
     "data": {
      "text/plain": [
       "9573"
      ]
     },
     "execution_count": 55,
     "metadata": {},
     "output_type": "execute_result"
    }
   ],
   "source": [
    "heuristic_rollout([0,1,2], distance_matrix)"
   ]
  },
  {
   "cell_type": "markdown",
   "metadata": {
    "slideshow": {
     "slide_type": "slide"
    }
   },
   "source": [
    "## Greedy mit einer heuristischen Funktion zur Auswahl\n",
    "\n",
    "- wir stellen nun eine allgemeine Implementierung für die Verwendung einer heuristischen Funktion vor\n",
    "\n",
    "- der letzte Parameter `heuristic function` ist eine **Funktion**, d.h. wir können eine beliebige Funktion nutzen\n",
    "  - wir werden dann die Funktion `heuristic_rollout` übergeben"
   ]
  },
  {
   "cell_type": "code",
   "execution_count": 45,
   "metadata": {
    "slideshow": {
     "slide_type": "-"
    }
   },
   "outputs": [],
   "source": [
    "@njit\n",
    "def tsp_greedy_with_heuristic(tour, distance_matrix, heuristic_function):\n",
    "    \n",
    "    total_distance = 0\n",
    "    \n",
    "    #solange die sequenz noch nicht alle Knoten umfasst\n",
    "    while len(tour) < len(distance_matrix):    \n",
    "        \n",
    "        #bestimme für alle zulässigen Nachbarn die Teil-Touren deren Entfernungen\n",
    "        dist_candidate_tours = get_dist_feasible_candidate_tours(tour, total_distance, distance_matrix)   \n",
    "        \n",
    "        # berechne für alle Kandidaten-Touren mit Hilfe der Heuristik den Wert f(n) = g(n)+h(n)\n",
    "        # estimates_candidates_tours gibt uns für jede Kandidatentour ein Triple (f(n), g(n), tour), d.h. (estimate, dist, tour)    \n",
    "        estimates_candidate_tours = get_estimates_candidate_tours(dist_candidate_tours, distance_matrix, heuristic_function)\n",
    "    \n",
    "        # bestimme das minimale Tupel (der erste Wert des Tupels, d.h. die Abschätzung f(x), wird automatisch genutzt)\n",
    "        estimate_best_candidate_tour, dist_best_candidate_tour, best_candidate_tour = min(estimates_candidate_tours)\n",
    "        \n",
    "        tour = best_candidate_tour\n",
    "        total_distance = dist_best_candidate_tour # wichtig: Hier nicht das estimate, sondern die Distanz (g(n))   \n",
    "        \n",
    "        \n",
    "    return tour, total_distance"
   ]
  },
  {
   "cell_type": "markdown",
   "metadata": {
    "slideshow": {
     "slide_type": "slide"
    }
   },
   "source": [
    "## Die Hilfsfunktion `get_estimates_candidate_tours`\n",
    "\n",
    "..berechnet mit Hilfe einer heuristischen Funktion `heuristic_function` ($h(n)$) für jede Kandidatentour $n$ die geschätzte Gesamtlänge $f(n) = g(n) + h(n)$ \n",
    "\n",
    "Parameter: \n",
    "- Liste mit Tupeln `(dist, tour`) für alle Kandidaten\n",
    "- Distanzmatrix \n",
    "- eine heuristische Funktion `heuristic_function`\n",
    "\n",
    "Rückgabe:\n",
    "- Liste mit 3-Tupeln (triples) `(estimate, dist, tour)` für jede Kandidatentour\n"
   ]
  },
  {
   "cell_type": "code",
   "execution_count": 46,
   "metadata": {
    "slideshow": {
     "slide_type": "-"
    }
   },
   "outputs": [],
   "source": [
    "@njit\n",
    "def get_estimates_candidate_tours(dist_candidate_tours, distance_matrix, heuristic_function):\n",
    "    \n",
    "    estimates_candidate_tours = []\n",
    "    for dist, candidate_tour in dist_candidate_tours:\n",
    "        heuristic_value = heuristic_function(candidate_tour, distance_matrix)\n",
    "        estimate = dist + heuristic_value\n",
    "        estimates_candidate_tours.append((estimate, dist, candidate_tour))\n",
    "        \n",
    "    return estimates_candidate_tours"
   ]
  },
  {
   "cell_type": "markdown",
   "metadata": {
    "slideshow": {
     "slide_type": "slide"
    }
   },
   "source": [
    "## Nun haben wir alles beisammen für ein \"informiertes Greedy\" / Greed mit Heuristik:\n",
    "\n",
    "..probieren wir es aus!"
   ]
  },
  {
   "cell_type": "code",
   "execution_count": 59,
   "metadata": {
    "scrolled": true,
    "slideshow": {
     "slide_type": "-"
    }
   },
   "outputs": [
    {
     "name": "stdout",
     "output_type": "stream",
     "text": [
      "8042\n"
     ]
    }
   ],
   "source": [
    "tour, distance = tsp_greedy_with_heuristic([0], distance_matrix, heuristic_rollout)\n",
    "\n",
    "print (distance)"
   ]
  },
  {
   "cell_type": "markdown",
   "metadata": {
    "slideshow": {
     "slide_type": "-"
    }
   },
   "source": [
    "- wir haben nun also eine andere, etwas allgemeinere Implementierung von Greedy+Rollout\n",
    "- betrachten wir nun eine informierte Variante von **Beam Search**"
   ]
  },
  {
   "cell_type": "markdown",
   "metadata": {
    "slideshow": {
     "slide_type": "slide"
    }
   },
   "source": [
    "## Informiertes Beam Search \n",
    "\n",
    "- die Logik der heuristischen Funktion lässt sich natürlich auch auf Beam Search übertragen\n",
    "- hier dient die informierte Evaluationsfunktion $f(n) + g(n) + h(n)$ als Auswahlkritirium für die Knoten, die in der nächsten Stufe weiter untersucht werden sollen:"
   ]
  },
  {
   "cell_type": "code",
   "execution_count": 48,
   "metadata": {
    "slideshow": {
     "slide_type": "slide"
    }
   },
   "outputs": [],
   "source": [
    "@njit\n",
    "def tsp_informed_beam_search(tour, distance_matrix, beam_width, heuristic_function):\n",
    "        \n",
    "    total_distance = 0\n",
    "    \n",
    "    # alle Zustandsknoten als Estimate-Distanz-Tour-Tupel in der aktuellen Stufe / Ebene \n",
    "    estimate_tours_current_stage = [(0, 0, tour)] \n",
    "    \n",
    "    for stage in range(0,len(distance_matrix)-1):\n",
    "        \n",
    "        estimate_tours_next_stage = []\n",
    "        \n",
    "        for tour_estimate, tour_dist, current_tour in estimate_tours_current_stage:\n",
    "                  \n",
    "            #bestimme alle zulässigen Tourerweiterungen und deren Entfernungen\n",
    "            dist_candidate_tours = get_dist_feasible_candidate_tours(current_tour, tour_dist, distance_matrix)  \n",
    "            \n",
    "            # berechne für alle Kandidaten-Touren mit Hilfe der Heuristik den Wert f(n) = g(n)+h(n)\n",
    "            # estimates_candidates_tours gibt uns für jede Kandidatentour ein Triple (f(n), g(n), tour), d.h. (estimate, dist, tour)    \n",
    "            estimates_candidate_tours = get_estimates_candidate_tours(dist_candidate_tours, distance_matrix, heuristic_function)\n",
    "        \n",
    "            for estimate_candidate_tour, dist_candidate_tour, candidate_tour in estimates_candidate_tours:                         \n",
    "\n",
    "                estimate_tours_next_stage.append( (estimate_candidate_tour, dist_candidate_tour, candidate_tour) )\n",
    "        \n",
    "        # wähle die besten aus zur Betrachtung in der nächsten Stufe!\n",
    "        estimate_tours_current_stage = nsmallest(beam_width, estimate_tours_next_stage)\n",
    "        #print (stage, estimate_tours_current_stage)\n",
    "        \n",
    "    best_estimate, best_distance, best_tour  = min(estimate_tours_current_stage)\n",
    "    return best_tour, best_distance"
   ]
  },
  {
   "cell_type": "markdown",
   "metadata": {
    "slideshow": {
     "slide_type": "slide"
    }
   },
   "source": [
    "## Informiertes Beam Search: Test \n",
    "\n",
    "..probieren wir es aus:"
   ]
  },
  {
   "cell_type": "code",
   "execution_count": 56,
   "metadata": {},
   "outputs": [
    {
     "name": "stdout",
     "output_type": "stream",
     "text": [
      "7926\n"
     ]
    }
   ],
   "source": [
    "tour, distance = tsp_informed_beam_search([0], distance_matrix, 40, heuristic_rollout)\n",
    "\n",
    "print (distance)"
   ]
  },
  {
   "cell_type": "markdown",
   "metadata": {
    "slideshow": {
     "slide_type": "slide"
    }
   },
   "source": [
    "## Informierte Suche mit begrenzter Anwendung der Heuristik\n",
    "\n",
    "#### Beobachtung:\n",
    "\n",
    "- wenn man in jedem Suchknoten einmal einen kompletten Greedy **für jeden Nachbarn / Kandidaten** ausführt, dann ist das sehr aufwändig!\n",
    "- insbesondere wird auch für \"Nachbarn\", die sehr weit weg liegen, trotzdem der Rollout durchgführt\n",
    "\n",
    "#### Idee: Limitiere die Anwendung der Heuristik auf \"vielversprechende Fälle\"\n",
    "- wir führen einen Parameter `no_candidates_for_heuristic` ein, der besagt, wie viele Nachbarn maximal mittels Heuristik betrachtet werden solln\n",
    "- und betrachten nur die `no_candidates_for_heuristic` Nachbarn / Kandidaten, die nach dem Kriterium $g(n)$ (hier: Distanz der Teiltour bis zum Kandidaten) am besten sind:\n",
    "\n",
    "#### Anmerkung:\n",
    "\n",
    "Bertsekas nennt diese Idee im Kontext von Rollout  **simplified rollout** (siehe A+D-Projekt vom letzten Jahr)\n"
   ]
  },
  {
   "cell_type": "code",
   "execution_count": 50,
   "metadata": {},
   "outputs": [],
   "source": [
    "@njit\n",
    "def get_estimates_candidate_tours_limited(dist_candidate_tours, distance_matrix, heuristic_function, no_candidates_for_heuristic):\n",
    "    \n",
    "    estimates_candidate_tours = []\n",
    "    \n",
    "    # hier erfolgt die Auswahl der zu betrachtenden Kandidaten anhand der Distanz \n",
    "    # beachte: gleiche logik mit nsmallest wie schon oben\n",
    "    dist_candidate_tours_limited = nsmallest(no_candidates_for_heuristic, dist_candidate_tours )\n",
    "    \n",
    "    for dist, candidate_tour in dist_candidate_tours_limited:\n",
    "        heuristic_value = heuristic_function(candidate_tour, distance_matrix)\n",
    "        estimate = dist + heuristic_value\n",
    "        estimates_candidate_tours.append((estimate, dist, candidate_tour))\n",
    "        \n",
    "    return estimates_candidate_tours"
   ]
  },
  {
   "cell_type": "markdown",
   "metadata": {
    "slideshow": {
     "slide_type": "slide"
    }
   },
   "source": [
    "## Begrenzte Anwendung der Heuristik bei Greedy"
   ]
  },
  {
   "cell_type": "code",
   "execution_count": 51,
   "metadata": {
    "slideshow": {
     "slide_type": "-"
    }
   },
   "outputs": [],
   "source": [
    "@njit\n",
    "def tsp_greedy_with_heuristic_limited(tour, distance_matrix, heuristic_function, no_candidates_for_heuristic):\n",
    "    \n",
    "    total_distance = 0\n",
    "    \n",
    "    #solange die sequenz noch nicht alle Knoten umfasst\n",
    "    while len(tour) < len(distance_matrix):    \n",
    "        \n",
    "        #bestimme alle zulässigen Nachbarn und deren Entfernungen\n",
    "        dist_candidate_tours = get_dist_feasible_candidate_tours(tour, total_distance, distance_matrix)   \n",
    "        \n",
    "        \n",
    "        estimates_candidate_tours = get_estimates_candidate_tours_limited(dist_candidate_tours, distance_matrix, heuristic_function, no_candidates_for_heuristic)\n",
    "    \n",
    "        # bestimme das minimale Tupel (der erste Wert des Tupels, d.h. die Distance, wird automatisch genutzt)\n",
    "        estimate_best_candidate_tour, dist_best_candidate_tour, best_candidate_tour = min(estimates_candidate_tours)\n",
    "        \n",
    "        tour = best_candidate_tour\n",
    "        total_distance = dist_best_candidate_tour    \n",
    "        \n",
    "        \n",
    "    return tour, total_distance"
   ]
  },
  {
   "cell_type": "markdown",
   "metadata": {},
   "source": [
    "..Test:"
   ]
  },
  {
   "cell_type": "code",
   "execution_count": 57,
   "metadata": {},
   "outputs": [
    {
     "name": "stdout",
     "output_type": "stream",
     "text": [
      "8122\n"
     ]
    }
   ],
   "source": [
    "tour, distance = tsp_greedy_with_heuristic_limited([0], distance_matrix, heuristic_rollout, 10)\n",
    "\n",
    "print (distance)"
   ]
  },
  {
   "cell_type": "markdown",
   "metadata": {},
   "source": [
    "## Begrenzte Anwendung der Heuristik in Beam Search"
   ]
  },
  {
   "cell_type": "code",
   "execution_count": 53,
   "metadata": {},
   "outputs": [],
   "source": [
    "@njit\n",
    "def tsp_informed_beam_search_limited(tour, distance_matrix, beam_width, heuristic_function, no_candidates_for_heuristic):\n",
    "        \n",
    "    total_distance = 0\n",
    "    \n",
    "    # alle Zustandsknoten als Estimate-Distanz-Tour-Tupel in der aktuellen Stufe / Ebene \n",
    "    estimate_tours_current_stage = [(0, 0, tour)] \n",
    "    \n",
    "    for stage in range(0,len(distance_matrix)-1):\n",
    "        \n",
    "        estimate_tours_next_stage = []\n",
    "        \n",
    "        for tour_estimate, tour_dist, current_tour in estimate_tours_current_stage:\n",
    "                  \n",
    "            #bestimme alle zulässigen Tourerweiterungen und deren Entfernungen\n",
    "            dist_candidate_tours = get_dist_feasible_candidate_tours(current_tour, tour_dist, distance_matrix)  \n",
    "\n",
    "            estimates_candidate_tours = get_estimates_candidate_tours_limited(dist_candidate_tours, distance_matrix, heuristic_function, no_candidates_for_heuristic)\n",
    "            \n",
    "            for estimate_candidate_tour, dist_candidate_tour, candidate_tour in estimates_candidate_tours:                  \n",
    "                estimate_tours_next_stage.append( (estimate_candidate_tour, dist_candidate_tour, candidate_tour) )\n",
    "              \n",
    "        estimate_tours_current_stage = nsmallest(beam_width, estimate_tours_next_stage)\n",
    "\n",
    "    best_estimate, best_distance, best_tour  = min(estimate_tours_current_stage)\n",
    "    return best_tour, best_distance"
   ]
  },
  {
   "cell_type": "markdown",
   "metadata": {
    "slideshow": {
     "slide_type": "-"
    }
   },
   "source": [
    "...Test:"
   ]
  },
  {
   "cell_type": "code",
   "execution_count": 58,
   "metadata": {
    "slideshow": {
     "slide_type": "-"
    }
   },
   "outputs": [
    {
     "name": "stdout",
     "output_type": "stream",
     "text": [
      "7997\n"
     ]
    }
   ],
   "source": [
    "tour, distance = tsp_informed_beam_search_limited([0], distance_matrix, 20, heuristic_rollout, 10)\n",
    "\n",
    "print (distance)"
   ]
  },
  {
   "cell_type": "markdown",
   "metadata": {
    "slideshow": {
     "slide_type": "slide"
    }
   },
   "source": [
    "## Fazit\n",
    "\n",
    "- wir haben Beam Search auf das Rucksack-Problem angewendet\n",
    "- wir haben die so genannte **informierte Suche** kennengelernt, \n",
    "- insbesondere **Rollout** als heuristische Funktion\n",
    "- und eine Technik, um \"teure\" Heuristiken wie Rollout nur begrenzt anzuwenden\n",
    "\n",
    "- wir haben noch etwas Zeit, um Fragen mit den Gruppen zu klären"
   ]
  }
 ],
 "metadata": {
  "celltoolbar": "Slideshow",
  "kernelspec": {
   "display_name": "Python [conda env:audprojekt2022]",
   "language": "python",
   "name": "conda-env-audprojekt2022-py"
  },
  "language_info": {
   "codemirror_mode": {
    "name": "ipython",
    "version": 3
   },
   "file_extension": ".py",
   "mimetype": "text/x-python",
   "name": "python",
   "nbconvert_exporter": "python",
   "pygments_lexer": "ipython3",
   "version": "3.9.12"
  },
  "toc": {
   "base_numbering": 1,
   "nav_menu": {},
   "number_sections": false,
   "sideBar": true,
   "skip_h1_title": false,
   "title_cell": "Table of Contents",
   "title_sidebar": "Contents",
   "toc_cell": false,
   "toc_position": {},
   "toc_section_display": true,
   "toc_window_display": false
  },
  "varInspector": {
   "cols": {
    "lenName": 16,
    "lenType": 16,
    "lenVar": 40
   },
   "kernels_config": {
    "python": {
     "delete_cmd_postfix": "",
     "delete_cmd_prefix": "del ",
     "library": "var_list.py",
     "varRefreshCmd": "print(var_dic_list())"
    },
    "r": {
     "delete_cmd_postfix": ") ",
     "delete_cmd_prefix": "rm(",
     "library": "var_list.r",
     "varRefreshCmd": "cat(var_dic_list()) "
    }
   },
   "types_to_exclude": [
    "module",
    "function",
    "builtin_function_or_method",
    "instance",
    "_Feature"
   ],
   "window_display": false
  }
 },
 "nbformat": 4,
 "nbformat_minor": 4
}
