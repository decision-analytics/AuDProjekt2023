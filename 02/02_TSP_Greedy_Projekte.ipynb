{
 "cells": [
  {
   "cell_type": "markdown",
   "metadata": {
    "slideshow": {
     "slide_type": "slide"
    }
   },
   "source": [
    "\n",
    "<img src=\"img/logo_wiwi.png\" width=\"25%\" align=\"left\">\n",
    "\n",
    "<img src=\"img/decision_analytics_logo.png\" width=\"17%\" align=\"right\">\n",
    "\n",
    "\n",
    "\n",
    "<br><br><br><br><br><br><br><br>\n",
    "\n",
    "\n",
    "\n",
    "# Algorithmen und Datenstrukturen(A+D)-Projekt \n",
    "\n",
    "**Sommersemester 2023**\n",
    "\n",
    "\n",
    "# 2. Ein Greedy-Verfahren für das TSP, Projektthemen\n",
    "\n",
    "<br>\n",
    "\n",
    "<br>\n",
    "<br>\n",
    "\n",
    "**J-Prof. Dr. Michael Römer, Till Porrmann**\n",
    "\n",
    "Juniorprofessur für Decision Analytics  | Universität Bielefeld"
   ]
  },
  {
   "cell_type": "code",
   "execution_count": 20,
   "metadata": {
    "slideshow": {
     "slide_type": "skip"
    }
   },
   "outputs": [],
   "source": [
    "import matplotlib.pyplot as plt\n",
    "import numpy as np"
   ]
  },
  {
   "cell_type": "markdown",
   "metadata": {
    "slideshow": {
     "slide_type": "slide"
    }
   },
   "source": [
    "## Was machen wir heute?\n",
    "\n",
    "- wir implementieren einen Greedy-Algorithmzus für das TSP (nearest neighbor)\n",
    "- wir implementieren eine Multi-Start-Variante\n",
    "- wir lernen die Projektthemen vor und bilden eventuell schon Gruppen\n",
    "\n"
   ]
  },
  {
   "cell_type": "markdown",
   "metadata": {
    "slideshow": {
     "slide_type": "slide"
    }
   },
   "source": [
    "# Wiederholung aus  der Vorlesung: Greedy-Verfahren "
   ]
  },
  {
   "cell_type": "markdown",
   "metadata": {
    "slideshow": {
     "slide_type": "slide"
    }
   },
   "source": [
    "## Was tun, wenn für ein Optimierungsproblem kein effizienter Algorithmus bekannt ist?\n",
    "\n",
    "- für viele NP-harte Probleme wie das das Shortest Hamiltonian Path-Problem (SHPP) und das Traveling Salesperson-Problem (TSP) sind keine effizienten Algorithmen bekannt\n",
    "- was kann man tun, wenn man dennoch ein großes TSP, z.B. mit 10000 Städten lösen möchte?"
   ]
  },
  {
   "cell_type": "markdown",
   "metadata": {
    "slideshow": {
     "slide_type": "fragment"
    }
   },
   "source": [
    "#### Idee: Man gibt die Optimalitätsforderung auf!\n",
    "\n",
    "Wenn man es nicht schafft, in kurzer Zeit eine exakte / optimale Lösung zu finden,\n",
    "- kann man versuchen, in kurzer Zeit eine **gute** Lösung zu finden!\n",
    "- Verfahren, die das für Optimierungsprobleme versuchen, nennt man **Heuristiken**\n",
    "- ein besonders einfacher und allgemeiner Ansatz nennt sich **Greedy-Verfahren** (greedy = gierig)\n",
    " - diesen Ansatz werden wir nun näher betrachten"
   ]
  },
  {
   "cell_type": "markdown",
   "metadata": {
    "slideshow": {
     "slide_type": "slide"
    }
   },
   "source": [
    "## Rückblick: Greedy für das Rucksackproblem\n",
    "\n",
    "- die \"naive\" Variante hat nicht gut funktioniert\n",
    "- die Variante mit Sortierung der Items in absteigender Reihenfolge des Quotienten aus Wert und Gewicht hat erstaunlich gut funktioniert - wir waren nicht weit vom Optimum entfernt\n",
    "\n",
    "**Betrachten wir doch nun einmal das TSP!**"
   ]
  },
  {
   "cell_type": "markdown",
   "metadata": {
    "slideshow": {
     "slide_type": "slide"
    }
   },
   "source": [
    "## Ein Greedy-Ansatz für das TSP / SHPP: Nearest-Neighbor"
   ]
  },
  {
   "cell_type": "markdown",
   "metadata": {
    "slideshow": {
     "slide_type": "-"
    }
   },
   "source": [
    "<img src=\"./img/32.png\" width=\"20%\" align=\"right\">\n",
    "\n",
    "\n",
    "Eine einfache und sehr bekannte Heuristik für das SHPP (und das TSP) nennt sich **nearest neighbor**:\n",
    "- man startet bei einem Knoten und\n",
    "- wählt in jedem Schritt immer den Knoten aus, der dem aktuellen am nächsten ist:\n",
    "\n",
    "Beispiel rechts: wir starten in Marin und suchen immer den nächsten Nachbarn"
   ]
  },
  {
   "cell_type": "markdown",
   "metadata": {
    "slideshow": {
     "slide_type": "slide"
    }
   },
   "source": [
    "## TSP in Python: Distanzmatrix\n",
    "\n",
    "- die einzige Information, die wir für die Darstellung des TSP brauchen, ist eine **Distanz-Matrix**\n",
    "- in dieser (symmetrischen) Matrix steht in jedem Element $[i,j]$ die Distanz zwischen den Knoten (Orten) $i$ und $j$\n",
    "- als Beispiel betrachten wir folgende Matrix:\n"
   ]
  },
  {
   "cell_type": "code",
   "execution_count": 21,
   "metadata": {
    "slideshow": {
     "slide_type": "-"
    }
   },
   "outputs": [],
   "source": [
    "distance_matrix = np.array([\n",
    "    [0,  5, 4, 10],\n",
    "    [5,  0, 8,  5],\n",
    "    [4,  8, 0,  3],\n",
    "    [10, 5, 3,  0]\n",
    "])"
   ]
  },
  {
   "cell_type": "markdown",
   "metadata": {
    "slideshow": {
     "slide_type": "slide"
    }
   },
   "source": [
    "## Nearest Neighor in Python: Überblick\n",
    "\n",
    "**Wie funktioniert der Algorithmus?**\n",
    "\n",
    "**Eingabe:** Distanzmatrix, Startknoten\n",
    "\n",
    "- aktueller Knoten `node` := Startknoten\n",
    "- Solange noch nicht alle Knoten besucht wurden:\n",
    "  - bestimme den **noch nicht besuchten** Knoten **mit kürzester Distanz** von `node`\n",
    "  - füge den Knoten zur Tour (Liste der besuchten Knoten) hinzu"
   ]
  },
  {
   "cell_type": "markdown",
   "metadata": {
    "slideshow": {
     "slide_type": "fragment"
    }
   },
   "source": [
    "**Die Länge der Tour** berechnet sich dann als:\n",
    "- Distanz zwischen jedem Knoten und Nachfolger in der Tour\n",
    "    - wobei der Nachfolger des letzen Knotens der Startknoten ist\n",
    "- diese Berechnung kann natürlich \"on-the-fly\" im Nearest-Neighbor-Algorithmus berechnet werden"
   ]
  },
  {
   "cell_type": "markdown",
   "metadata": {
    "slideshow": {
     "slide_type": "slide"
    }
   },
   "source": [
    "## Hilfsfunktion: `select_nearest_neighbor`\n",
    "\n",
    "- wir lagern die Bestimmung des nächsten Nachbarn aus in eine eigene Funktion\n"
   ]
  },
  {
   "cell_type": "code",
   "execution_count": 22,
   "metadata": {
    "slideshow": {
     "slide_type": "-"
    }
   },
   "outputs": [],
   "source": [
    "def select_nearest_neighbor(tour, distance_matrix):\n",
    "    \n",
    "    # node ist der letzte Knoten der tour\n",
    "    node = tour[-1]\n",
    "    \n",
    "    smallest_distance = 9999999999 ## grosser Wert\n",
    "    nearest_neighbor = 0\n",
    "    \n",
    "    #Anzahl an Knoten = Dimension der Distanzmatrix\n",
    "    for neighbor in range(len(distance_matrix)):\n",
    "        \n",
    "        if neighbor in tour:\n",
    "            continue\n",
    "            \n",
    "        if distance_matrix[node][neighbor] < smallest_distance:\n",
    "            nearest_neighbor = neighbor\n",
    "            smallest_distance = distance_matrix[node][neighbor]            \n",
    "       \n",
    "    return nearest_neighbor, smallest_distance "
   ]
  },
  {
   "cell_type": "markdown",
   "metadata": {
    "slideshow": {
     "slide_type": "slide"
    }
   },
   "source": [
    "## Implementierung des Nearest-Neighbor-Algorithmus\n",
    "\n"
   ]
  },
  {
   "cell_type": "code",
   "execution_count": 23,
   "metadata": {
    "slideshow": {
     "slide_type": "-"
    }
   },
   "outputs": [],
   "source": [
    "   \n",
    "def tsp_nearest_neighbor(start_node, distance_matrix ):\n",
    "    \n",
    "    tour = [start_node]\n",
    "    total_distance = 0\n",
    "    \n",
    "    #solange die sequenz noch nicht alle Knoten umfasst\n",
    "    while len(tour) < len(distance_matrix):\n",
    "        \n",
    "        node, distance = select_nearest_neighbor(tour, distance_matrix )\n",
    "        \n",
    "        tour.append(node)\n",
    "        total_distance += distance\n",
    "        \n",
    "    total_distance += distance_matrix[tour[-1], tour[0]]\n",
    "    return tour, total_distance\n"
   ]
  },
  {
   "cell_type": "markdown",
   "metadata": {
    "slideshow": {
     "slide_type": "fragment"
    }
   },
   "source": [
    "..probieren wir es aus:"
   ]
  },
  {
   "cell_type": "code",
   "execution_count": 24,
   "metadata": {
    "slideshow": {
     "slide_type": "-"
    }
   },
   "outputs": [
    {
     "data": {
      "text/plain": [
       "17"
      ]
     },
     "execution_count": 24,
     "metadata": {},
     "output_type": "execute_result"
    }
   ],
   "source": [
    "tour, distance = tsp_nearest_neighbor(0, distance_matrix)\n",
    "distance"
   ]
  },
  {
   "cell_type": "markdown",
   "metadata": {
    "slideshow": {
     "slide_type": "fragment"
    }
   },
   "source": [
    "><div class=\"alert alert-block alert-info\">\n",
    "<b>Wie können wir diesen Algorithmus durch geschickte Wahl einer Datenstruktur verbessern?</b></div>  \n"
   ]
  },
  {
   "cell_type": "markdown",
   "metadata": {
    "slideshow": {
     "slide_type": "slide"
    }
   },
   "source": [
    "## Eine Routine zum Evaluieren einer Lösung\n",
    "\n",
    "- immer wenn man nicht-triviale Algorithmen für Optimierungsprobleme entwickelt, sollte man einen \"Solution-Checker\" schreiben / nutzen"
   ]
  },
  {
   "cell_type": "markdown",
   "metadata": {
    "slideshow": {
     "slide_type": "-"
    }
   },
   "source": [
    "><div class=\"alert alert-block alert-info\">\n",
    "<b>Was ist im Fall des TSP zu prüfen?</b></div>  \n"
   ]
  },
  {
   "cell_type": "markdown",
   "metadata": {
    "slideshow": {
     "slide_type": "slide"
    }
   },
   "source": [
    "**Im Fall des TSP gilt es:**\n",
    "- zu prüfen, ob\n",
    "  - die Lösung die Richtige Anzahl an Knoten enthält\n",
    "  - dass es sich bei der Lösung tatsächlich um eine Permutation der Indizes handelt (kein Index kommt zweimal vor)\n",
    "- die Distanz der Tour zu berechnen"
   ]
  },
  {
   "cell_type": "code",
   "execution_count": 25,
   "metadata": {
    "slideshow": {
     "slide_type": "-"
    }
   },
   "outputs": [],
   "source": [
    "def evaluate_tsp_solution(distance_matrix, tour):\n",
    "    n = len(distance_matrix)\n",
    "    if len(tour) != n:\n",
    "        print (\"Wrong number of nodes\")\n",
    "        return -1\n",
    "     # Menge der Lösungsindizes muss = der Menge der Indizes von 0 bis n-1 sein\n",
    "    if set(tour) != set(range(n)):\n",
    "        print (\"Not a proper tour!\")\n",
    "        return  -1\n",
    "    \n",
    "    total_distance = 0\n",
    "    for i in range(n):\n",
    "        if i < n-1:\n",
    "            total_distance += distance_matrix[tour[i],tour[i+1]]\n",
    "        else:\n",
    "            total_distance += distance_matrix[tour[i],tour[0]]   \n",
    "            \n",
    "    return total_distance    "
   ]
  },
  {
   "cell_type": "markdown",
   "metadata": {
    "slideshow": {
     "slide_type": "fragment"
    }
   },
   "source": [
    "...probieren wir es aus:"
   ]
  },
  {
   "cell_type": "code",
   "execution_count": 26,
   "metadata": {
    "slideshow": {
     "slide_type": "-"
    }
   },
   "outputs": [
    {
     "name": "stdout",
     "output_type": "stream",
     "text": [
      "Not a proper tour!\n"
     ]
    },
    {
     "data": {
      "text/plain": [
       "-1"
      ]
     },
     "execution_count": 26,
     "metadata": {},
     "output_type": "execute_result"
    }
   ],
   "source": [
    "tour[0] = tour[1]\n",
    "evaluate_tsp_solution(distance_matrix, tour)"
   ]
  },
  {
   "cell_type": "markdown",
   "metadata": {
    "slideshow": {
     "slide_type": "slide"
    }
   },
   "source": [
    "## Erweiterung: Evaluation zum Überprüfen einer gegebenen Distanz\n",
    "\n",
    "- oftmals ist es nützlich, in einer Funktion direkt die vom Algorithmus berechnete Distanz zu prüfen\n",
    "- folgende Funktion macht eine entsprechende Ergebnisausgabe:\n"
   ]
  },
  {
   "cell_type": "code",
   "execution_count": 27,
   "metadata": {
    "slideshow": {
     "slide_type": "slide"
    }
   },
   "outputs": [],
   "source": [
    "def print_obj_and_eval_tsp_solution(distance_matrix, tour, distance):\n",
    "    \n",
    "    eval_distance = evaluate_tsp_solution(distance_matrix, tour)\n",
    "    \n",
    "    if distance == eval_distance:\n",
    "        print (\"Solution feasible, distance is: \", distance)\n",
    "    elif eval_distance < 0:\n",
    "        print(\"Solution infeasible\")\n",
    "    else: \n",
    "        print(\"Solution feasible, wrong distance: \", distance, \" evaluation gave \", eval_distance)"
   ]
  },
  {
   "cell_type": "markdown",
   "metadata": {
    "slideshow": {
     "slide_type": "fragment"
    }
   },
   "source": [
    "...probien wir es aus:"
   ]
  },
  {
   "cell_type": "code",
   "execution_count": 28,
   "metadata": {
    "slideshow": {
     "slide_type": "-"
    }
   },
   "outputs": [
    {
     "name": "stdout",
     "output_type": "stream",
     "text": [
      "Not a proper tour!\n",
      "Solution infeasible\n"
     ]
    }
   ],
   "source": [
    "print_obj_and_eval_tsp_solution(distance_matrix, tour, distance)"
   ]
  },
  {
   "cell_type": "markdown",
   "metadata": {
    "slideshow": {
     "slide_type": "slide"
    }
   },
   "source": [
    "## Auch hier gilt: Wir wollen weg von den \"Sandkasten-Instanzen\"\n",
    "\n",
    "\n",
    "\n",
    "<img src=\"https://pup-assets.imgix.net/onix/images/9780691163529.jpg\" width=\"20%\" align=\"right\">\n",
    "\n",
    "- das TSP ist eines der bekanntesten Probleme der Informatik\n",
    "\n",
    "- viele Ideen in der  kombinatorische Optimierung wurden zuerst für das TSP entwickelt\n",
    "- **Buchtipp:**  [In Pursuit of the Traveling Salesman](https://press.princeton.edu/books/paperback/9780691163529/in-pursuit-of-the-traveling-salesman)\n",
    " - die Geschichte des TSP aus Sicht eines der Protagonisten (William Cook)\n",
    "- Webseite zum TSP: https://www.math.uwaterloo.ca/tsp/index.html\n",
    "- und, wie beim Rucksackproblem, **viele Probleminstanzen**\n",
    "    - es gibt ganze Bibliothek von Instanzen, die so genannte [TSPLib](http://comopt.ifi.uni-heidelberg.de/software/TSPLIB95/)\n",
    "    - einige davon befinden sich im Repository / Zip zu diesen Folien\n",
    "    - [hier](http://comopt.ifi.uni-heidelberg.de/software/TSPLIB95/STSP.html) finden Sie optimale Lösungswerte \n",
    "\n",
    "**..und sogar  ein ganzes Python-Paket: `python-tsp`** \n"
   ]
  },
  {
   "cell_type": "markdown",
   "metadata": {
    "slideshow": {
     "slide_type": "slide"
    }
   },
   "source": [
    "## Das Python-Paket `python-tsp`\n",
    "\n",
    "siehe: https://github.com/fillipe-gsm/python-tsp\n",
    "\n",
    "### bietet:\n",
    "- Funktionen zum Einlesen von TSP-Instanzen im tsplib-format\n",
    "  \n",
    "  \n",
    "  "
   ]
  },
  {
   "cell_type": "code",
   "execution_count": 29,
   "metadata": {
    "slideshow": {
     "slide_type": "-"
    }
   },
   "outputs": [],
   "source": [
    "from python_tsp.distances import tsplib_distance_matrix\n",
    "\n",
    "tsplib_file = \"./../instances/tsp/a280.tsp\" # optimale Lösung 2579 (lt. http://comopt.ifi.uni-heidelberg.de/software/TSPLIB95/STSP.html)\n",
    "#tsplib_file = \"./../instances/tsp/brazil58.tsp\" # optimale Lösung 25395 (lt. http://comopt.ifi.uni-heidelberg.de/software/TSPLIB95/STSP.html)\n",
    "#tsplib_file = \"./../instances/tsp/berlin52.tsp\" # optimale Lösung 7542 (lt. http://comopt.ifi.uni-heidelberg.de/software/TSPLIB95/STSP.html)\n",
    "\n",
    "distance_matrix = tsplib_distance_matrix(tsplib_file)"
   ]
  },
  {
   "cell_type": "markdown",
   "metadata": {
    "slideshow": {
     "slide_type": "fragment"
    }
   },
   "source": [
    "- heuristische TSP-Algorithmen:\n",
    "  - z.B. local search und simulated annealing"
   ]
  },
  {
   "cell_type": "code",
   "execution_count": 30,
   "metadata": {
    "slideshow": {
     "slide_type": "-"
    }
   },
   "outputs": [],
   "source": [
    "from python_tsp.heuristics import solve_tsp_local_search, solve_tsp_simulated_annealing"
   ]
  },
  {
   "cell_type": "code",
   "execution_count": 31,
   "metadata": {
    "slideshow": {
     "slide_type": "-"
    }
   },
   "outputs": [
    {
     "name": "stdout",
     "output_type": "stream",
     "text": [
      "CPU times: total: 42.7 s\n",
      "Wall time: 42.7 s\n"
     ]
    },
    {
     "data": {
      "text/plain": [
       "2989"
      ]
     },
     "execution_count": 31,
     "metadata": {},
     "output_type": "execute_result"
    }
   ],
   "source": [
    "%%time\n",
    "tour, distance = solve_tsp_simulated_annealing(distance_matrix)\n",
    "distance"
   ]
  },
  {
   "cell_type": "markdown",
   "metadata": {
    "slideshow": {
     "slide_type": "fragment"
    }
   },
   "source": [
    "- exakte TSP-Algorithmen basierend auf Enumeration und dynamischer Programmierung\n",
    "  - (vorsicht: dauert wahrscheinlich lange mit Instanzen > 10 Items)"
   ]
  },
  {
   "cell_type": "code",
   "execution_count": 32,
   "metadata": {
    "slideshow": {
     "slide_type": "-"
    }
   },
   "outputs": [],
   "source": [
    "from python_tsp.exact import solve_tsp_dynamic_programming\n",
    "\n",
    "#tour, distance = solve_tsp_dynamic_programming(distance_matrix_21)\n",
    "\n",
    "#distance"
   ]
  },
  {
   "cell_type": "markdown",
   "metadata": {
    "slideshow": {
     "slide_type": "slide"
    }
   },
   "source": [
    "## Wie gut ist Greedy / Nearest Neighbor?\n",
    "\n",
    "Wie gut ist im Vergleich unser Nearest-Neigbor-Verfahren?"
   ]
  },
  {
   "cell_type": "code",
   "execution_count": 33,
   "metadata": {
    "slideshow": {
     "slide_type": "-"
    }
   },
   "outputs": [
    {
     "name": "stdout",
     "output_type": "stream",
     "text": [
      "Distance: 3157 Evaluated:  3157\n",
      "CPU times: total: 93.8 ms\n",
      "Wall time: 89.1 ms\n"
     ]
    }
   ],
   "source": [
    "%%time\n",
    "\n",
    "tour, distance = tsp_nearest_neighbor(0, distance_matrix)\n",
    "\n",
    "print (\"Distance:\", distance, \"Evaluated: \" , evaluate_tsp_solution(distance_matrix, tour) )"
   ]
  },
  {
   "cell_type": "markdown",
   "metadata": {
    "slideshow": {
     "slide_type": "slide"
    }
   },
   "source": [
    "## Erste Verbesserungsidee: Multi-Start-Greedy\n",
    "\n",
    "- das Ergebnis der Greedy-Heuristik ist offenbar nicht sehr gut\n",
    "- **aber:** die Greedy-Heuristik ist schnell - es ist nicht teuer, sie aufzurufen\n",
    "  - dies kann man nutzen, um verbesserte Heuristiken \"um Greedy-Vefahren herum\" zu bauen\n",
    "\n",
    "**Erste einfache Idee: Starte Greedy mit verschiedenen (allen) Startknoten** \n",
    "- die Nearest-Neighbor-Heuristik hat für unterschiedliche Startpunkte unterschiedliche Werte\n",
    "\n"
   ]
  },
  {
   "cell_type": "code",
   "execution_count": 34,
   "metadata": {
    "slideshow": {
     "slide_type": "-"
    }
   },
   "outputs": [],
   "source": [
    "def nearest_neighbor_multi_start(distance_matrix):\n",
    "\n",
    "    best_distance = 999999\n",
    "    best_tour = None\n",
    "    for start_node in reversed(range(len(distance_matrix))):\n",
    "        tour, distance = tsp_nearest_neighbor(start_node, distance_matrix)\n",
    "        if distance < best_distance:\n",
    "            best_distance = distance\n",
    "            best_tour = tour         \n",
    "\n",
    "    return best_tour, best_distance  "
   ]
  },
  {
   "cell_type": "code",
   "execution_count": 35,
   "metadata": {
    "scrolled": true,
    "slideshow": {
     "slide_type": "-"
    }
   },
   "outputs": [
    {
     "name": "stdout",
     "output_type": "stream",
     "text": [
      "Solution feasible, distance is:  2975\n",
      "CPU times: total: 23.2 s\n",
      "Wall time: 23.2 s\n"
     ]
    }
   ],
   "source": [
    "%%time\n",
    "\n",
    "tour, distance = nearest_neighbor_multi_start(distance_matrix)\n",
    "print_obj_and_eval_tsp_solution(distance_matrix,tour, distance)"
   ]
  },
  {
   "cell_type": "markdown",
   "metadata": {
    "slideshow": {
     "slide_type": "slide"
    }
   },
   "source": [
    "## Zwischenfazit\n",
    "\n",
    "\n",
    "#### Inhaltlich haben wir heute:\n",
    "- das TSP betrachtet und nearest neigbor als Beispiel für ein Greedy-Verfahren\n",
    "- Multi-Start-Verfahren kennengelernt und ausprobiert\n",
    "- Vergleiche mit einem Python-Paket für das TSP durchgeführt\n",
    "\n",
    "\n",
    "\n",
    "\n"
   ]
  },
  {
   "cell_type": "markdown",
   "metadata": {
    "slideshow": {
     "slide_type": "slide"
    }
   },
   "source": [
    "# Organisatorisches: Projektthemen und -gruppen\n",
    "\n",
    "\n",
    "\n"
   ]
  },
  {
   "cell_type": "markdown",
   "metadata": {
    "slideshow": {
     "slide_type": "slide"
    }
   },
   "source": [
    "## Wiederholung: Ziele des Kurses\n",
    "\n",
    "Im Kurs \n",
    "- vertiefen Sie Ihre Kenntnisse aus der Vorlesung und wenden diese auf eine konkrete Fragestellung an\n",
    "- sammeln Sie vertiefte Erfahrungen mit der praktischen Implementierung \n",
    "- üben Sie, im Team zu arbeiten\n",
    "- lernen Sie, mit Varianten von Algorithmen zu experimentieren, um\n",
    "  - Algorithmen weiterzuentwickeln\n",
    "  - eine geeignete Variante auszuwählen\n",
    "- lernen Sie **grundlegende Prinzipien und Denkweisen von (KI)-Suchverfahren, insbesondere (Baum-)Suchverfahren (Tree Search)** kennen, die die Grundlage für **fortgeschrittene Methoden**, z.B.  *Metaheuristiken* oder *Reinforcement Learning* bilden\n",
    "\n",
    "\n"
   ]
  },
  {
   "cell_type": "markdown",
   "metadata": {
    "slideshow": {
     "slide_type": "slide"
    }
   },
   "source": [
    "## Wiederholung: Lernformate\n",
    "\n",
    "In **Präsenzveranstaltungen** werden Inhalte vermittelt, die für das Projekt relevant sind: \n",
    "- anhand von Beispielen werden algorithmische Prinzipien erläutert, die im Projekt angewendet und verfeinert werden können\n",
    "- erweiterte Techniken und Pakete in Python, die nützlich sein können\n",
    "- Einlesen von Probleminstanzen und Experimentieren mit Algorithmen\n",
    "- ggf. Tools zum gemeinsamen Entwickeln von Code\n",
    "\n",
    "\n",
    "In **Projektarbeiten** \n",
    "- arbeiten Sie in Gruppen von idealerweise **3-4 Personen** gemeinsam an der Entwicklung und Implementierung\n",
    "- an einem Problem der **kombinatorischen Optimierung**\n",
    "- jede Gruppe wird **von einem Dozenten** betreut, mit dem regelmäßige Treffen vereinbart werden sollten\n",
    "\n",
    "In **zwei Präsentationen je Gruppe** werden\n",
    "- Zwischenergebnisse und Abschlussergebnisse vorgestellt\n",
    "\n",
    "In einem **gemeinsamen Projektbericht** werden\n",
    "- die Projektergebnisse aufbereitet und\n",
    "- wissenschaftliches Schreiben geübt\n",
    "\n"
   ]
  },
  {
   "cell_type": "markdown",
   "metadata": {
    "slideshow": {
     "slide_type": "slide"
    }
   },
   "source": [
    "## Die Projekte\n",
    "\n",
    "**Es gibt drei verschiedene Projektthemen:**\n",
    "- Bin Packing \n",
    "- Generalized Assignment\n",
    "- Singe Machine Scheduling\n",
    "\n",
    "**Jedes Projektthema** \n",
    "- ist ein kombinatorisches Optimierungsproblem\n",
    "- für das es relativ einfache Greedy-Ansätze gibt,\n",
    "- die die Basis für einen im Projekt zu entwickelnden Algorithmus, z.B. auf Basis einer Baumsuche, bildet\n",
    "  - Sie können auch andere Ansätze nutzen, wenn Sie mögen!\n",
    "\n",
    "\n",
    "\n",
    "**Die Bearbeitung**\n",
    "- erfolgt in Kleingruppen von 3-4 Personen\n",
    "- dabei werden Themen auch doppelt vergeben\n",
    "- wir würden, wenn möglich, die Projektgruppen gern schon heute bilden\n",
    "\n",
    "\n",
    "\n",
    "\n",
    "\n"
   ]
  },
  {
   "cell_type": "markdown",
   "metadata": {
    "slideshow": {
     "slide_type": "slide"
    }
   },
   "source": [
    "## Thema 1: Bin Packing\n",
    "\n",
    "Im **Bin Packing Problem** (deutsch: **Behälterproblem**) sind gegeben:\n",
    "- eine gegebene Menge $I$ an Gegenständen (*items*) mit verschiedenen Gewichten $w_i$ je $i \\in I$\n",
    "- ein Behältertyp (*bin*) mit einer Kapazität (maximales Gewicht je Behälter) $b$ \n",
    "\n",
    "**Ziel** ist es, **alle** Gegenstände in eine **möglichst geringe** Anzahl von Behältern zu packen\n",
    "\n"
   ]
  },
  {
   "attachments": {
    "grafik.png": {
     "image/png": "[encoded data removed]"
    }
   },
   "cell_type": "markdown",
   "metadata": {
    "slideshow": {
     "slide_type": "slide"
    }
   },
   "source": [
    "#### Beispiel:\n",
    "\n",
    "![grafik.png](attachment:grafik.png)\n",
    "\n",
    "Quelle: Chabri et al. (2022) DOI: 10.11591/ijece.v12i3.pp3226-3237"
   ]
  },
  {
   "cell_type": "markdown",
   "metadata": {
    "slideshow": {
     "slide_type": "fragment"
    }
   },
   "source": [
    "## Thema 1: Bin Packing - Instanzen und Code\n",
    "\n",
    "- Instanzen und Referenzen finden Sie z.B. unter: https://site.unibo.it/operations-research/en/research/bpplib-a-bin-packing-problem-library\n",
    "- Python-Bibliotheken:\n",
    "  - `binpacking`: https://github.com/benmaier/binpacking\n",
    "  - `prtpy`: https://github.com/erelsgl/prtpy/blob/main/examples/packing_algorithms.md\n"
   ]
  },
  {
   "attachments": {},
   "cell_type": "markdown",
   "metadata": {
    "slideshow": {
     "slide_type": "slide"
    }
   },
   "source": [
    "## Thema 2: Generalized Assignment\n",
    "\n",
    "Im **Generalized Assignment Problem** sind gegeben:\n",
    "\n",
    "- eine gegebene Menge $I$ an Aufgaben (*tasks*)\n",
    "- eine gegebene Menge $J$ an Mitarbeiter\\*innen (*agents*) mit verschiedenen (z.B. zeitlichen) Kapazitäten $b_j$ je $j \\in J$\n",
    "- einen Aufwand $a_{ij}$ (z.B. Ausführungszeit), der durch die Zuordnung der Aufgabe $i$ an Mitarbeiter\\*in $j$ entsteht\n",
    "- Kosten $c_{ij}$ (z.B. aufgrund von Ergebnisqualität), die durch die Zuordnung der Aufgabe $i$ an Mitarbeiter\\*in $j$ entstehen\n",
    "\n",
    "\n",
    "**Ziel** ist es, **alle** alle Aufgaben so an Mitarbeiter\\*innen zu verteilen, dass \n",
    "- die Kapazitäten der Mitarbeiter\\*innen nicht überschritten werden und\n",
    "- die Gesamtkosten der Zuordnung minimiert werden (manchmal wird das Problem auch als Maximierungsproblem formuliert)\n",
    "\n",
    "\n",
    "<img src=\"./img/gap.png\" width=\"50%\" align =\"center\" >\n",
    "\n",
    "Quelle: https://github.com/shunji-umetani/gap-solver"
   ]
  },
  {
   "cell_type": "markdown",
   "metadata": {
    "slideshow": {
     "slide_type": "fragment"
    }
   },
   "source": [
    "## Thema 2: Generalized Assignment - Instanzen und Code\n",
    "\n",
    "- Instanzen z.B. unter: http://www.al.cm.is.nagoya-u.ac.jp/~yagiura/gap/\n",
    "- Python-Code (mit Instanzen) unter: https://github.com/shunji-umetani/gap-solver\n"
   ]
  },
  {
   "cell_type": "markdown",
   "metadata": {
    "slideshow": {
     "slide_type": "slide"
    }
   },
   "source": [
    "## Thema 3: Single Machine Scheduling with Sequence-Dependent Setup Times\n",
    "\n",
    "- ein Problem der Maschinenbelegungsplanung\n",
    "\n",
    "\n",
    "**Gegeben sind:**\n",
    "- eine Maschine \n",
    "- eine Menge $J$ an Aufträgen (*jobs*)\n",
    "- jeder Job hat \n",
    "  - eine Bearbeitungszeit (*completion time*) $c_j$\n",
    "  - einen Fertigstellungstermin (*due date*) $d_j$ \n",
    "  - ein Gewicht (*weight*) $w_j$, das die Wichtigkeit des Jobs determiniert\n",
    "- reihenfolgeabhängige Rüstzeiten (sequence-dependent setup times) $s_{j,j'}$: Zeit, die nach Bearbeitung von Job $j$ benötigt wird, um Job $j'$ bearbeiten zu können\n",
    "   - z.B. Umbauarbeiten an Schneidemaschinen, Reinigung von Düsen bei Farb-Aufdrucken, etc.\n",
    "\n",
    "**Ziel:**\n",
    "- Minimierung der **gesamten gewichteten Terminüberschreitung** (Verspätung) (*total weighted tardiness*)\n",
    "  - Verspätung $T_j$ eines Jobs: $\\max$(tatsächliche Fertistellungszeit - $d_j$, 0)\n",
    "  - gewichtete Verspätung: $w_j T_j$\n",
    "  - Gesamte Zielfunktion: $\\min \\sum_{j \\in J} w_j T_j$\n",
    "  \n",
    "**Wesentliche Restriktionen:**\n",
    "- ein Arbeitsgang kann erst gestartet werden, wenn der vorherige abgeschlossen wurde\n",
    "- die Maschine kann immer nur einen Arbeitsgang zu einer Zeit ausführen\n",
    "- ein Arbeitsgang kann nicht unterbrochen werden (ist er einmal angefangen, muss er zuende gebracht werden)"
   ]
  },
  {
   "cell_type": "markdown",
   "metadata": {
    "slideshow": {
     "slide_type": "slide"
    }
   },
   "source": [
    "## Thema 3: Single Machine Scheduling with Sequence-Dependent Setup Times\n",
    "**Beispiel**\n",
    "\n",
    "<img src=\"https://3.bp.blogspot.com/-SqH9CPhvbxM/W6Hve0BpVNI/AAAAAAAAIrg/VVk4aRcLzkYB7aPRont5MRivNvK19i2pgCLcBGAs/s1600/setup.PNG\" width=\"50%\" align =\"center\" >\n",
    "\n",
    "Quelle: http://yetanothermathprogrammingconsultant.blogspot.com/2018/09/scheduling-sequence-dependent-setup.html"
   ]
  },
  {
   "cell_type": "markdown",
   "metadata": {
    "slideshow": {
     "slide_type": "fragment"
    }
   },
   "source": [
    "#### Instanzen und Code\n",
    "- Probleminstanzen: https://www.cicirello.org/datasets/wtsds/, https://github.com/cicirello/scheduling-benchmarks/tree/master/wtsds\n",
    "- Beschreibung der Instanzen: https://www.cicirello.org/publications/wtsbenchmarks.pdf\n",
    "- optimale Lösungswerte: https://sites.google.com/site/shunjitanaka/smtwtss\n",
    "- Code für verwandte Probleme: \n",
    "  - Scheduling Python Toolkit: https://github.com/framinan/scheptk\n",
    "  - pyScheduling: https://github.com/scheduling-cc/pyscheduling "
   ]
  },
  {
   "cell_type": "markdown",
   "metadata": {
    "slideshow": {
     "slide_type": "slide"
    }
   },
   "source": [
    "## Gruppen- und Themenzuordnung\n",
    "\n",
    "|Gruppe | Thema | Gruppenmitglieder \n",
    "|-|:-|:-|\n",
    "|1| Bin Packing | \n",
    "|2| Bin Packing | \n",
    "|3| Generalized Assignment | \n",
    "|4| Generalized Assignment | \n",
    "|5| Machine Scheduling | \n",
    "|6| Machine Scheduling| \n",
    "\n"
   ]
  }
 ],
 "metadata": {
  "celltoolbar": "Slideshow",
  "kernelspec": {
   "display_name": "Python [conda env:audprojekt2022]",
   "language": "python",
   "name": "conda-env-audprojekt2022-py"
  },
  "language_info": {
   "codemirror_mode": {
    "name": "ipython",
    "version": 3
   },
   "file_extension": ".py",
   "mimetype": "text/x-python",
   "name": "python",
   "nbconvert_exporter": "python",
   "pygments_lexer": "ipython3",
   "version": "3.9.12"
  },
  "toc": {
   "base_numbering": 1,
   "nav_menu": {},
   "number_sections": false,
   "sideBar": true,
   "skip_h1_title": false,
   "title_cell": "Table of Contents",
   "title_sidebar": "Contents",
   "toc_cell": false,
   "toc_position": {},
   "toc_section_display": true,
   "toc_window_display": false
  },
  "varInspector": {
   "cols": {
    "lenName": 16,
    "lenType": 16,
    "lenVar": 40
   },
   "kernels_config": {
    "python": {
     "delete_cmd_postfix": "",
     "delete_cmd_prefix": "del ",
     "library": "var_list.py",
     "varRefreshCmd": "print(var_dic_list())"
    },
    "r": {
     "delete_cmd_postfix": ") ",
     "delete_cmd_prefix": "rm(",
     "library": "var_list.r",
     "varRefreshCmd": "cat(var_dic_list()) "
    }
   },
   "types_to_exclude": [
    "module",
    "function",
    "builtin_function_or_method",
    "instance",
    "_Feature"
   ],
   "window_display": false
  }
 },
 "nbformat": 4,
 "nbformat_minor": 4
}
